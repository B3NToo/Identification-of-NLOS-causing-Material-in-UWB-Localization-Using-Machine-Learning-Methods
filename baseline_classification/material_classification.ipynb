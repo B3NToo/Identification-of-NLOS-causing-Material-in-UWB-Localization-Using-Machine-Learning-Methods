{
 "cells": [
  {
   "cell_type": "code",
   "execution_count": 37,
   "metadata": {},
   "outputs": [],
   "source": [
    "import pandas as pd\n",
    "import numpy as np\n",
    "import seaborn as sns"
   ]
  },
  {
   "cell_type": "markdown",
   "metadata": {},
   "source": [
    "# Baseline MLP Material Classification Experiment"
   ]
  },
  {
   "cell_type": "code",
   "execution_count": 38,
   "metadata": {},
   "outputs": [],
   "source": [
    "# read data\n",
    "PATH = \"../../my_data/identification-dataset/my_custom_data/big-identification-dataset.csv\"\n",
    "df = pd.read_csv(PATH)"
   ]
  },
  {
   "cell_type": "code",
   "execution_count": 39,
   "metadata": {},
   "outputs": [],
   "source": [
    "# drop uncomplete rows\n",
    "df.dropna(inplace=True)"
   ]
  },
  {
   "cell_type": "code",
   "execution_count": 40,
   "metadata": {},
   "outputs": [
    {
     "name": "stdout",
     "output_type": "stream",
     "text": [
      "<class 'pandas.core.frame.DataFrame'>\n",
      "Int64Index: 119744 entries, 0 to 159586\n",
      "Data columns (total 8 columns):\n",
      " #   Column         Non-Null Count   Dtype  \n",
      "---  ------         --------------   -----  \n",
      " 0   tdoa           119744 non-null  float64\n",
      " 1   snr_an         119744 non-null  float64\n",
      " 2   power_dif      119744 non-null  float64\n",
      " 3   rx_snr         119744 non-null  float64\n",
      " 4   rx_powerdif    119744 non-null  float64\n",
      " 5   tof            119744 non-null  float64\n",
      " 6   material       119744 non-null  object \n",
      " 7   NLOS_material  119744 non-null  int64  \n",
      "dtypes: float64(6), int64(1), object(1)\n",
      "memory usage: 8.2+ MB\n"
     ]
    }
   ],
   "source": [
    "df.info()"
   ]
  },
  {
   "cell_type": "code",
   "execution_count": 41,
   "metadata": {},
   "outputs": [],
   "source": [
    "# Dropping rows containing 0 in the 'NLOS_material' column\n",
    "df = df[df['NLOS_material'] != 0]"
   ]
  },
  {
   "cell_type": "code",
   "execution_count": 42,
   "metadata": {},
   "outputs": [
    {
     "data": {
      "text/plain": [
       "array([1, 2, 3, 4, 5, 6])"
      ]
     },
     "execution_count": 42,
     "metadata": {},
     "output_type": "execute_result"
    }
   ],
   "source": [
    "# show different label types\n",
    "df.NLOS_material.unique()"
   ]
  },
  {
   "cell_type": "code",
   "execution_count": 43,
   "metadata": {},
   "outputs": [
    {
     "data": {
      "text/plain": [
       "array(['cardboard', 'foam', 'metal', 'plastic', 'wooden-cabinet',\n",
       "       'wooden-shelf'], dtype=object)"
      ]
     },
     "execution_count": 43,
     "metadata": {},
     "output_type": "execute_result"
    }
   ],
   "source": [
    "# show the respective materials\n",
    "df.material.unique()"
   ]
  },
  {
   "cell_type": "markdown",
   "metadata": {},
   "source": [
    "## Classification"
   ]
  },
  {
   "cell_type": "code",
   "execution_count": 44,
   "metadata": {},
   "outputs": [],
   "source": [
    "# Import modules from Scikit-learn\n",
    "from sklearn.neural_network import MLPClassifier\n",
    "from sklearn.model_selection import train_test_split   # Import train_test_split function\n",
    "from sklearn import metrics   # import metrics modules for accuracy calculation\n",
    "from sklearn.preprocessing import StandardScaler\n",
    "from sklearn.pipeline import make_pipeline\n",
    "from sklearn.metrics import confusion_matrix, roc_curve, auc\n",
    "import matplotlib.pyplot as plt\n",
    "import seaborn as sns"
   ]
  },
  {
   "cell_type": "code",
   "execution_count": 45,
   "metadata": {},
   "outputs": [],
   "source": [
    "# Create a pipeline object for the model\n",
    "pipe_MLP = make_pipeline(StandardScaler(),\n",
    "                         MLPClassifier(solver='adam',\n",
    "                                       hidden_layer_sizes=(100,100,100,100),\n",
    "                                       random_state=0,\n",
    "                                       max_iter=500,           # TODO: tune it later\n",
    "                                       verbose=True\n",
    "                                       )\n",
    "                        )"
   ]
  },
  {
   "cell_type": "code",
   "execution_count": 46,
   "metadata": {},
   "outputs": [],
   "source": [
    "train_df = df[['tdoa', 'snr_an', 'power_dif', 'rx_snr', 'rx_powerdif', 'tof', 'NLOS_material']]"
   ]
  },
  {
   "cell_type": "code",
   "execution_count": 47,
   "metadata": {},
   "outputs": [
    {
     "data": {
      "text/plain": [
       "<Axes: xlabel='NLOS_material', ylabel='count'>"
      ]
     },
     "execution_count": 47,
     "metadata": {},
     "output_type": "execute_result"
    },
    {
     "data": {
      "image/png": "[encoded data removed]",
      "text/plain": [
       "<Figure size 640x480 with 1 Axes>"
      ]
     },
     "metadata": {},
     "output_type": "display_data"
    }
   ],
   "source": [
    "# plot class imbalance\n",
    "sns.countplot(x=df['NLOS_material'])"
   ]
  },
  {
   "cell_type": "code",
   "execution_count": 48,
   "metadata": {},
   "outputs": [],
   "source": [
    "# Extracted features \n",
    "X = train_df[['tdoa', 'snr_an', 'power_dif', 'rx_snr', 'rx_powerdif', 'tof']]\n",
    "y = train_df['NLOS_material'] # Labels"
   ]
  },
  {
   "cell_type": "code",
   "execution_count": 49,
   "metadata": {},
   "outputs": [],
   "source": [
    "# Split dataset into training and test set\n",
    "X_train, X_test, y_train, y_test = train_test_split(X, y, test_size = 0.3) # 70% training and 30% test"
   ]
  },
  {
   "cell_type": "code",
   "execution_count": 50,
   "metadata": {},
   "outputs": [
    {
     "name": "stdout",
     "output_type": "stream",
     "text": [
      "Iteration 1, loss = 0.87563862\n",
      "Iteration 2, loss = 0.66752087\n",
      "Iteration 3, loss = 0.62656109\n",
      "Iteration 4, loss = 0.60924939\n",
      "Iteration 5, loss = 0.59940492\n",
      "Iteration 6, loss = 0.58880942\n",
      "Iteration 7, loss = 0.58036355\n",
      "Iteration 8, loss = 0.57731408\n",
      "Iteration 9, loss = 0.57538647\n",
      "Iteration 10, loss = 0.57091303\n",
      "Iteration 11, loss = 0.56765006\n",
      "Iteration 12, loss = 0.56279861\n",
      "Iteration 13, loss = 0.55996239\n",
      "Iteration 14, loss = 0.55759568\n",
      "Iteration 15, loss = 0.55763399\n",
      "Iteration 16, loss = 0.55506909\n",
      "Iteration 17, loss = 0.55468045\n",
      "Iteration 18, loss = 0.55303277\n",
      "Iteration 19, loss = 0.55107089\n",
      "Iteration 20, loss = 0.54773471\n",
      "Iteration 21, loss = 0.54950009\n",
      "Iteration 22, loss = 0.54643759\n",
      "Iteration 23, loss = 0.54538078\n",
      "Iteration 24, loss = 0.54392947\n",
      "Iteration 25, loss = 0.54110147\n",
      "Iteration 26, loss = 0.54079200\n",
      "Iteration 27, loss = 0.53883754\n",
      "Iteration 28, loss = 0.54018461\n",
      "Iteration 29, loss = 0.53721702\n",
      "Iteration 30, loss = 0.53787587\n",
      "Iteration 31, loss = 0.53385604\n",
      "Iteration 32, loss = 0.53345715\n",
      "Iteration 33, loss = 0.53333419\n",
      "Iteration 34, loss = 0.53238658\n",
      "Iteration 35, loss = 0.53493649\n",
      "Iteration 36, loss = 0.53182912\n",
      "Iteration 37, loss = 0.53022409\n",
      "Iteration 38, loss = 0.52800073\n",
      "Iteration 39, loss = 0.52539600\n",
      "Iteration 40, loss = 0.52439684\n",
      "Iteration 41, loss = 0.52430520\n",
      "Iteration 42, loss = 0.52552460\n",
      "Iteration 43, loss = 0.52582160\n",
      "Iteration 44, loss = 0.52366440\n",
      "Iteration 45, loss = 0.52312198\n",
      "Iteration 46, loss = 0.52023813\n",
      "Iteration 47, loss = 0.52014584\n",
      "Iteration 48, loss = 0.52017746\n",
      "Iteration 49, loss = 0.51862437\n",
      "Iteration 50, loss = 0.51689762\n",
      "Iteration 51, loss = 0.51636108\n",
      "Iteration 52, loss = 0.51736075\n",
      "Iteration 53, loss = 0.51575204\n",
      "Iteration 54, loss = 0.51594334\n",
      "Iteration 55, loss = 0.51354993\n",
      "Iteration 56, loss = 0.51480308\n",
      "Iteration 57, loss = 0.51113013\n",
      "Iteration 58, loss = 0.51113484\n",
      "Iteration 59, loss = 0.51004400\n",
      "Iteration 60, loss = 0.50978530\n",
      "Iteration 61, loss = 0.50909312\n",
      "Iteration 62, loss = 0.50714529\n",
      "Iteration 63, loss = 0.50766256\n",
      "Iteration 64, loss = 0.50472842\n",
      "Iteration 65, loss = 0.50492839\n",
      "Iteration 66, loss = 0.50427394\n",
      "Iteration 67, loss = 0.50384275\n",
      "Iteration 68, loss = 0.50520598\n",
      "Iteration 69, loss = 0.50143961\n",
      "Iteration 70, loss = 0.50146171\n",
      "Iteration 71, loss = 0.50015217\n",
      "Iteration 72, loss = 0.50010795\n",
      "Iteration 73, loss = 0.49965583\n",
      "Iteration 74, loss = 0.49727452\n",
      "Iteration 75, loss = 0.49902490\n",
      "Iteration 76, loss = 0.49751457\n",
      "Iteration 77, loss = 0.49704942\n",
      "Iteration 78, loss = 0.49645894\n",
      "Iteration 79, loss = 0.49577224\n",
      "Iteration 80, loss = 0.49409565\n",
      "Iteration 81, loss = 0.49333549\n",
      "Iteration 82, loss = 0.49131521\n",
      "Iteration 83, loss = 0.49189987\n",
      "Iteration 84, loss = 0.49011780\n",
      "Iteration 85, loss = 0.48967173\n",
      "Iteration 86, loss = 0.48964799\n",
      "Iteration 87, loss = 0.48775877\n",
      "Iteration 88, loss = 0.48738886\n",
      "Iteration 89, loss = 0.48378523\n",
      "Iteration 90, loss = 0.48550002\n",
      "Iteration 91, loss = 0.48490112\n",
      "Iteration 92, loss = 0.48348879\n",
      "Iteration 93, loss = 0.48330048\n",
      "Iteration 94, loss = 0.48430788\n",
      "Iteration 95, loss = 0.48289747\n",
      "Iteration 96, loss = 0.47909594\n",
      "Iteration 97, loss = 0.47841278\n",
      "Iteration 98, loss = 0.48056357\n",
      "Iteration 99, loss = 0.47684304\n",
      "Iteration 100, loss = 0.47713605\n",
      "Iteration 101, loss = 0.47797985\n",
      "Iteration 102, loss = 0.47643453\n",
      "Iteration 103, loss = 0.47573326\n",
      "Iteration 104, loss = 0.47501738\n",
      "Iteration 105, loss = 0.47414058\n",
      "Iteration 106, loss = 0.47195214\n",
      "Iteration 107, loss = 0.47249266\n",
      "Iteration 108, loss = 0.47255796\n",
      "Iteration 109, loss = 0.46833174\n",
      "Iteration 110, loss = 0.46998899\n",
      "Iteration 111, loss = 0.46997116\n",
      "Iteration 112, loss = 0.46803813\n",
      "Iteration 113, loss = 0.46539801\n",
      "Iteration 114, loss = 0.46547370\n",
      "Iteration 115, loss = 0.46882662\n",
      "Iteration 116, loss = 0.46467074\n",
      "Iteration 117, loss = 0.46154996\n",
      "Iteration 118, loss = 0.46083122\n",
      "Iteration 119, loss = 0.46033135\n",
      "Iteration 120, loss = 0.46134204\n",
      "Iteration 121, loss = 0.46059073\n",
      "Iteration 122, loss = 0.45766780\n",
      "Iteration 123, loss = 0.45966812\n",
      "Iteration 124, loss = 0.45791199\n",
      "Iteration 125, loss = 0.45634641\n",
      "Iteration 126, loss = 0.45739509\n",
      "Iteration 127, loss = 0.45555253\n",
      "Iteration 128, loss = 0.45727644\n",
      "Iteration 129, loss = 0.45620907\n",
      "Iteration 130, loss = 0.45340852\n",
      "Iteration 131, loss = 0.45260362\n",
      "Iteration 132, loss = 0.45007544\n",
      "Iteration 133, loss = 0.44892655\n",
      "Iteration 134, loss = 0.45228728\n",
      "Iteration 135, loss = 0.44787435\n",
      "Iteration 136, loss = 0.44751642\n",
      "Iteration 137, loss = 0.44870984\n",
      "Iteration 138, loss = 0.44757843\n",
      "Iteration 139, loss = 0.44628022\n",
      "Iteration 140, loss = 0.44407662\n",
      "Iteration 141, loss = 0.44092600\n",
      "Iteration 142, loss = 0.44065449\n",
      "Iteration 143, loss = 0.44143328\n",
      "Iteration 144, loss = 0.44232511\n",
      "Iteration 145, loss = 0.43956289\n",
      "Iteration 146, loss = 0.43757620\n",
      "Iteration 147, loss = 0.43888229\n",
      "Iteration 148, loss = 0.43653616\n",
      "Iteration 149, loss = 0.43614934\n",
      "Iteration 150, loss = 0.43424709\n",
      "Iteration 151, loss = 0.43435334\n",
      "Iteration 152, loss = 0.43296306\n",
      "Iteration 153, loss = 0.43541090\n",
      "Iteration 154, loss = 0.43375356\n",
      "Iteration 155, loss = 0.43272144\n",
      "Iteration 156, loss = 0.43028458\n",
      "Iteration 157, loss = 0.42915598\n",
      "Iteration 158, loss = 0.42715670\n",
      "Iteration 159, loss = 0.42856376\n",
      "Iteration 160, loss = 0.42456796\n",
      "Iteration 161, loss = 0.42417884\n",
      "Iteration 162, loss = 0.42609301\n",
      "Iteration 163, loss = 0.42436629\n",
      "Iteration 164, loss = 0.42245205\n",
      "Iteration 165, loss = 0.42423747\n",
      "Iteration 166, loss = 0.42283999\n",
      "Iteration 167, loss = 0.42358334\n",
      "Iteration 168, loss = 0.41945412\n",
      "Iteration 169, loss = 0.42147087\n",
      "Iteration 170, loss = 0.41977298\n",
      "Iteration 171, loss = 0.41736492\n",
      "Iteration 172, loss = 0.41502303\n",
      "Iteration 173, loss = 0.41600896\n",
      "Iteration 174, loss = 0.41786023\n",
      "Iteration 175, loss = 0.42152035\n",
      "Iteration 176, loss = 0.41664090\n",
      "Iteration 177, loss = 0.41371192\n",
      "Iteration 178, loss = 0.41212167\n",
      "Iteration 179, loss = 0.41345814\n",
      "Iteration 180, loss = 0.40876514\n",
      "Iteration 181, loss = 0.40929085\n",
      "Iteration 182, loss = 0.41071881\n",
      "Iteration 183, loss = 0.40890880\n",
      "Iteration 184, loss = 0.40745909\n",
      "Iteration 185, loss = 0.40717445\n",
      "Iteration 186, loss = 0.40906149\n",
      "Iteration 187, loss = 0.40448438\n",
      "Iteration 188, loss = 0.40418851\n",
      "Iteration 189, loss = 0.40264158\n",
      "Iteration 190, loss = 0.40508384\n",
      "Iteration 191, loss = 0.40205488\n",
      "Iteration 192, loss = 0.40084656\n",
      "Iteration 193, loss = 0.39924226\n",
      "Iteration 194, loss = 0.40105109\n",
      "Iteration 195, loss = 0.40037799\n",
      "Iteration 196, loss = 0.40067341\n",
      "Iteration 197, loss = 0.40045846\n",
      "Iteration 198, loss = 0.39242872\n",
      "Iteration 199, loss = 0.39425806\n",
      "Iteration 200, loss = 0.39448706\n",
      "Iteration 201, loss = 0.39035450\n",
      "Iteration 202, loss = 0.39238385\n",
      "Iteration 203, loss = 0.39475958\n",
      "Iteration 204, loss = 0.39366353\n",
      "Iteration 205, loss = 0.39183329\n",
      "Iteration 206, loss = 0.38931316\n",
      "Iteration 207, loss = 0.39042677\n",
      "Iteration 208, loss = 0.38855461\n",
      "Iteration 209, loss = 0.39115572\n",
      "Iteration 210, loss = 0.39233134\n",
      "Iteration 211, loss = 0.38781552\n",
      "Iteration 212, loss = 0.38367741\n",
      "Iteration 213, loss = 0.38248840\n",
      "Iteration 214, loss = 0.38391564\n",
      "Iteration 215, loss = 0.38480216\n",
      "Iteration 216, loss = 0.37984249\n",
      "Iteration 217, loss = 0.38200020\n",
      "Iteration 218, loss = 0.37894983\n",
      "Iteration 219, loss = 0.37965315\n",
      "Iteration 220, loss = 0.37891716\n",
      "Iteration 221, loss = 0.38427951\n",
      "Iteration 222, loss = 0.38042551\n",
      "Iteration 223, loss = 0.37824152\n",
      "Iteration 224, loss = 0.37415723\n",
      "Iteration 225, loss = 0.37829761\n",
      "Iteration 226, loss = 0.37470949\n",
      "Iteration 227, loss = 0.37034743\n",
      "Iteration 228, loss = 0.37162568\n",
      "Iteration 229, loss = 0.37538524\n",
      "Iteration 230, loss = 0.36950064\n",
      "Iteration 231, loss = 0.36945925\n",
      "Iteration 232, loss = 0.37154059\n",
      "Iteration 233, loss = 0.37402552\n",
      "Iteration 234, loss = 0.37984694\n",
      "Iteration 235, loss = 0.37003187\n",
      "Iteration 236, loss = 0.36756160\n",
      "Iteration 237, loss = 0.36199759\n",
      "Iteration 238, loss = 0.36494231\n",
      "Iteration 239, loss = 0.36350693\n",
      "Iteration 240, loss = 0.36357891\n",
      "Iteration 241, loss = 0.36336898\n",
      "Iteration 242, loss = 0.36280367\n",
      "Iteration 243, loss = 0.37197103\n",
      "Iteration 244, loss = 0.36692871\n",
      "Iteration 245, loss = 0.36616691\n",
      "Iteration 246, loss = 0.36232167\n",
      "Iteration 247, loss = 0.35951471\n",
      "Iteration 248, loss = 0.35624630\n",
      "Iteration 249, loss = 0.36047978\n",
      "Iteration 250, loss = 0.35588473\n",
      "Iteration 251, loss = 0.35659912\n",
      "Iteration 252, loss = 0.35705525\n",
      "Iteration 253, loss = 0.35361591\n",
      "Iteration 254, loss = 0.35422016\n",
      "Iteration 255, loss = 0.35119513\n",
      "Iteration 256, loss = 0.35568281\n",
      "Iteration 257, loss = 0.35169758\n",
      "Iteration 258, loss = 0.35165967\n",
      "Iteration 259, loss = 0.34949511\n",
      "Iteration 260, loss = 0.35079468\n",
      "Iteration 261, loss = 0.35328900\n",
      "Iteration 262, loss = 0.35359105\n",
      "Iteration 263, loss = 0.35449483\n",
      "Iteration 264, loss = 0.34741544\n",
      "Iteration 265, loss = 0.34640326\n",
      "Iteration 266, loss = 0.34537827\n",
      "Iteration 267, loss = 0.34199083\n",
      "Iteration 268, loss = 0.34621100\n",
      "Iteration 269, loss = 0.34291669\n",
      "Iteration 270, loss = 0.34183897\n",
      "Iteration 271, loss = 0.34637551\n",
      "Iteration 272, loss = 0.33677225\n",
      "Iteration 273, loss = 0.34021500\n",
      "Iteration 274, loss = 0.34862635\n",
      "Iteration 275, loss = 0.34910707\n",
      "Iteration 276, loss = 0.34600069\n",
      "Iteration 277, loss = 0.34079352\n",
      "Iteration 278, loss = 0.33937795\n",
      "Iteration 279, loss = 0.33837537\n",
      "Iteration 280, loss = 0.34299409\n",
      "Iteration 281, loss = 0.33923777\n",
      "Iteration 282, loss = 0.33564570\n",
      "Iteration 283, loss = 0.33611955\n",
      "Iteration 284, loss = 0.33518978\n",
      "Iteration 285, loss = 0.34021267\n",
      "Iteration 286, loss = 0.33635605\n",
      "Iteration 287, loss = 0.33026101\n",
      "Iteration 288, loss = 0.33455366\n",
      "Iteration 289, loss = 0.33836484\n",
      "Iteration 290, loss = 0.33274450\n",
      "Iteration 291, loss = 0.32855983\n",
      "Iteration 292, loss = 0.33154717\n",
      "Iteration 293, loss = 0.33099858\n",
      "Iteration 294, loss = 0.32457293\n",
      "Iteration 295, loss = 0.32488747\n",
      "Iteration 296, loss = 0.33242531\n",
      "Iteration 297, loss = 0.33466134\n",
      "Iteration 298, loss = 0.32820178\n",
      "Iteration 299, loss = 0.32397457\n",
      "Iteration 300, loss = 0.32158199\n",
      "Iteration 301, loss = 0.32949769\n",
      "Iteration 302, loss = 0.32170048\n",
      "Iteration 303, loss = 0.32116514\n",
      "Iteration 304, loss = 0.32588543\n",
      "Iteration 305, loss = 0.32712395\n",
      "Iteration 306, loss = 0.32203319\n",
      "Iteration 307, loss = 0.32358886\n",
      "Iteration 308, loss = 0.32265123\n",
      "Iteration 309, loss = 0.31727984\n",
      "Iteration 310, loss = 0.32231965\n",
      "Iteration 311, loss = 0.32164185\n",
      "Iteration 312, loss = 0.31923309\n",
      "Iteration 313, loss = 0.32096115\n",
      "Iteration 314, loss = 0.32077098\n",
      "Iteration 315, loss = 0.31548105\n",
      "Iteration 316, loss = 0.31719064\n",
      "Iteration 317, loss = 0.31825693\n",
      "Iteration 318, loss = 0.32327146\n",
      "Iteration 319, loss = 0.31899572\n",
      "Iteration 320, loss = 0.31122699\n",
      "Iteration 321, loss = 0.31459267\n",
      "Iteration 322, loss = 0.31017227\n",
      "Iteration 323, loss = 0.30924799\n",
      "Iteration 324, loss = 0.31245274\n",
      "Iteration 325, loss = 0.31166534\n",
      "Iteration 326, loss = 0.31160618\n",
      "Iteration 327, loss = 0.30755669\n",
      "Iteration 328, loss = 0.31138501\n",
      "Iteration 329, loss = 0.31491511\n",
      "Iteration 330, loss = 0.30813971\n",
      "Iteration 331, loss = 0.30756746\n",
      "Iteration 332, loss = 0.30936198\n",
      "Iteration 333, loss = 0.31416793\n",
      "Iteration 334, loss = 0.31502786\n",
      "Iteration 335, loss = 0.30628396\n",
      "Iteration 336, loss = 0.30693468\n",
      "Iteration 337, loss = 0.30407913\n",
      "Iteration 338, loss = 0.30283001\n",
      "Iteration 339, loss = 0.30193667\n",
      "Iteration 340, loss = 0.30561947\n",
      "Iteration 341, loss = 0.30210991\n",
      "Iteration 342, loss = 0.30369841\n",
      "Iteration 343, loss = 0.31454243\n",
      "Iteration 344, loss = 0.30267471\n",
      "Iteration 345, loss = 0.30428721\n",
      "Iteration 346, loss = 0.30378749\n",
      "Iteration 347, loss = 0.29952293\n",
      "Iteration 348, loss = 0.30431834\n",
      "Iteration 349, loss = 0.30251242\n",
      "Iteration 350, loss = 0.29965138\n",
      "Iteration 351, loss = 0.29961172\n",
      "Iteration 352, loss = 0.29188260\n",
      "Iteration 353, loss = 0.29434501\n",
      "Iteration 354, loss = 0.30011176\n",
      "Iteration 355, loss = 0.29638070\n",
      "Iteration 356, loss = 0.29884934\n",
      "Iteration 357, loss = 0.29591262\n",
      "Iteration 358, loss = 0.29679486\n",
      "Iteration 359, loss = 0.29505270\n",
      "Iteration 360, loss = 0.29138120\n",
      "Iteration 361, loss = 0.29092679\n",
      "Iteration 362, loss = 0.29442199\n",
      "Iteration 363, loss = 0.29107285\n",
      "Iteration 364, loss = 0.29363537\n",
      "Iteration 365, loss = 0.29374464\n",
      "Iteration 366, loss = 0.28869302\n",
      "Iteration 367, loss = 0.28465433\n",
      "Iteration 368, loss = 0.28732596\n",
      "Iteration 369, loss = 0.29146147\n",
      "Iteration 370, loss = 0.29614109\n",
      "Iteration 371, loss = 0.29052352\n",
      "Iteration 372, loss = 0.29320594\n",
      "Iteration 373, loss = 0.29517724\n",
      "Iteration 374, loss = 0.28694630\n",
      "Iteration 375, loss = 0.28422684\n",
      "Iteration 376, loss = 0.29701266\n",
      "Iteration 377, loss = 0.29780337\n",
      "Iteration 378, loss = 0.28437788\n",
      "Iteration 379, loss = 0.28173639\n",
      "Iteration 380, loss = 0.27913154\n",
      "Iteration 381, loss = 0.27766493\n",
      "Iteration 382, loss = 0.28007629\n",
      "Iteration 383, loss = 0.28106309\n",
      "Iteration 384, loss = 0.28726946\n",
      "Iteration 385, loss = 0.28239625\n",
      "Iteration 386, loss = 0.28281611\n",
      "Iteration 387, loss = 0.28687062\n",
      "Iteration 388, loss = 0.27892369\n",
      "Iteration 389, loss = 0.27859281\n",
      "Iteration 390, loss = 0.28340236\n",
      "Iteration 391, loss = 0.27997360\n",
      "Iteration 392, loss = 0.27947701\n",
      "Training loss did not improve more than tol=0.000100 for 10 consecutive epochs. Stopping.\n"
     ]
    },
    {
     "data": {
      "text/plain": [
       "Pipeline(steps=[('standardscaler', StandardScaler()),\n",
       "                ('mlpclassifier',\n",
       "                 MLPClassifier(hidden_layer_sizes=(100, 100, 100, 100),\n",
       "                               max_iter=500, random_state=0, verbose=True))])"
      ]
     },
     "execution_count": 50,
     "metadata": {},
     "output_type": "execute_result"
    }
   ],
   "source": [
    "# Train the whole pipeline\n",
    "pipe_MLP.fit(X_train, y_train)"
   ]
  },
  {
   "cell_type": "code",
   "execution_count": 51,
   "metadata": {},
   "outputs": [],
   "source": [
    "# Make predictions on the test data\n",
    "y_pred = pipe_MLP.predict(X_test)"
   ]
  },
  {
   "cell_type": "code",
   "execution_count": 52,
   "metadata": {},
   "outputs": [
    {
     "name": "stdout",
     "output_type": "stream",
     "text": [
      "Test Accuracy: 73.14330252755818%\n"
     ]
    }
   ],
   "source": [
    "# Caluclate the accuracy on test data predicitons\n",
    "print(f'Test Accuracy: {metrics.accuracy_score(y_test, y_pred) * 100}%')"
   ]
  },
  {
   "cell_type": "code",
   "execution_count": 53,
   "metadata": {},
   "outputs": [
    {
     "name": "stdout",
     "output_type": "stream",
     "text": [
      "Test Precision: 73.04555975360775%\n"
     ]
    }
   ],
   "source": [
    "print(f'Test Precision: {metrics.precision_score(y_test, y_pred, average=\"macro\") * 100}%')"
   ]
  },
  {
   "cell_type": "code",
   "execution_count": 54,
   "metadata": {},
   "outputs": [
    {
     "name": "stdout",
     "output_type": "stream",
     "text": [
      "Test Recall: 73.1378535499772%\n"
     ]
    }
   ],
   "source": [
    "print(f'Test Recall: {metrics.recall_score(y_test, y_pred, average=\"macro\") * 100}%')"
   ]
  },
  {
   "cell_type": "code",
   "execution_count": 55,
   "metadata": {},
   "outputs": [
    {
     "name": "stdout",
     "output_type": "stream",
     "text": [
      "Test F1: 0.7299504648938905\n"
     ]
    }
   ],
   "source": [
    "print(f'Test F1: {metrics.f1_score(y_test, y_pred, average=\"macro\" )}')"
   ]
  },
  {
   "cell_type": "code",
   "execution_count": 56,
   "metadata": {},
   "outputs": [
    {
     "data": {
      "image/png": "[encoded data removed]",
      "text/plain": [
       "<Figure size 640x480 with 2 Axes>"
      ]
     },
     "metadata": {},
     "output_type": "display_data"
    }
   ],
   "source": [
    "cm = confusion_matrix(y_test, y_pred)\n",
    "# axis_labels = ['1', 'False']\n",
    "plt.figure()\n",
    "sns.heatmap(cm, annot=True)\n",
    "plt.title('Confusion Matrix')\n",
    "plt.ylabel('Actual')\n",
    "plt.xlabel('Predicted')\n",
    "plt.show()"
   ]
  },
  {
   "cell_type": "code",
   "execution_count": 57,
   "metadata": {},
   "outputs": [
    {
     "data": {
      "text/plain": [
       "array([[2104,  472,    0,  205,    5,  195],\n",
       "       [ 795, 1433,    0,  530,   21,  220],\n",
       "       [   1,    0, 3026,    0,    1,    2],\n",
       "       [ 244,  445,    0, 1734,  283,  305],\n",
       "       [  13,   21,    0,  341, 2545,   38],\n",
       "       [ 231,  214,    0,  213,   29, 2296]])"
      ]
     },
     "execution_count": 57,
     "metadata": {},
     "output_type": "execute_result"
    }
   ],
   "source": [
    "cm"
   ]
  },
  {
   "cell_type": "code",
   "execution_count": 58,
   "metadata": {},
   "outputs": [
    {
     "data": {
      "text/plain": [
       "array([2981, 2999, 3030, 3011, 2958, 2983])"
      ]
     },
     "execution_count": 58,
     "metadata": {},
     "output_type": "execute_result"
    }
   ],
   "source": [
    "# sum row\n",
    "np.sum(cm, axis=1)"
   ]
  }
 ],
 "metadata": {
  "kernelspec": {
   "display_name": "dataScience",
   "language": "python",
   "name": "python3"
  },
  "language_info": {
   "codemirror_mode": {
    "name": "ipython",
    "version": 3
   },
   "file_extension": ".py",
   "mimetype": "text/x-python",
   "name": "python",
   "nbconvert_exporter": "python",
   "pygments_lexer": "ipython3",
   "version": "3.9.16"
  },
  "orig_nbformat": 4
 },
 "nbformat": 4,
 "nbformat_minor": 2
}
