{
 "cells": [
  {
   "cell_type": "code",
   "execution_count": 1,
   "metadata": {},
   "outputs": [],
   "source": [
    "import pandas as pd"
   ]
  },
  {
   "cell_type": "markdown",
   "metadata": {},
   "source": [
    "# Baseline MLP Material Classification Experiment"
   ]
  },
  {
   "cell_type": "code",
   "execution_count": 2,
   "metadata": {},
   "outputs": [],
   "source": [
    "# read data\n",
    "PATH = \"../../my_data/identification-dataset/my_custom_data/big-identification-dataset.csv\"\n",
    "df = pd.read_csv(PATH)"
   ]
  },
  {
   "cell_type": "code",
   "execution_count": 3,
   "metadata": {},
   "outputs": [],
   "source": [
    "# drop uncomplete rows\n",
    "df.dropna(inplace=True)"
   ]
  },
  {
   "cell_type": "code",
   "execution_count": 4,
   "metadata": {},
   "outputs": [
    {
     "name": "stdout",
     "output_type": "stream",
     "text": [
      "<class 'pandas.core.frame.DataFrame'>\n",
      "Int64Index: 119744 entries, 0 to 159586\n",
      "Data columns (total 8 columns):\n",
      " #   Column         Non-Null Count   Dtype  \n",
      "---  ------         --------------   -----  \n",
      " 0   tdoa           119744 non-null  float64\n",
      " 1   snr_an         119744 non-null  float64\n",
      " 2   power_dif      119744 non-null  float64\n",
      " 3   rx_snr         119744 non-null  float64\n",
      " 4   rx_powerdif    119744 non-null  float64\n",
      " 5   tof            119744 non-null  float64\n",
      " 6   material       119744 non-null  object \n",
      " 7   NLOS_material  119744 non-null  int64  \n",
      "dtypes: float64(6), int64(1), object(1)\n",
      "memory usage: 8.2+ MB\n"
     ]
    }
   ],
   "source": [
    "df.info()"
   ]
  },
  {
   "cell_type": "code",
   "execution_count": 5,
   "metadata": {},
   "outputs": [],
   "source": [
    "# Dropping rows containing 0 in the 'NLOS_material' column\n",
    "df = df[df['NLOS_material'] != 0]"
   ]
  },
  {
   "cell_type": "code",
   "execution_count": 6,
   "metadata": {},
   "outputs": [
    {
     "data": {
      "text/plain": [
       "array([1, 2, 3, 4, 5, 6])"
      ]
     },
     "execution_count": 6,
     "metadata": {},
     "output_type": "execute_result"
    }
   ],
   "source": [
    "# show different label types\n",
    "df.NLOS_material.unique()"
   ]
  },
  {
   "cell_type": "code",
   "execution_count": 7,
   "metadata": {},
   "outputs": [
    {
     "data": {
      "text/plain": [
       "array(['cardboard', 'foam', 'metal', 'plastic', 'wooden-cabinet',\n",
       "       'wooden-shelf'], dtype=object)"
      ]
     },
     "execution_count": 7,
     "metadata": {},
     "output_type": "execute_result"
    }
   ],
   "source": [
    "# show the respective materials\n",
    "df.material.unique()"
   ]
  },
  {
   "cell_type": "markdown",
   "metadata": {},
   "source": [
    "## Classification"
   ]
  },
  {
   "cell_type": "code",
   "execution_count": 8,
   "metadata": {},
   "outputs": [],
   "source": [
    "# Import modules from Scikit-learn\n",
    "from sklearn.neural_network import MLPClassifier\n",
    "from sklearn.model_selection import train_test_split   # Import train_test_split function\n",
    "from sklearn import metrics   # import metrics modules for accuracy calculation\n",
    "from sklearn.preprocessing import StandardScaler\n",
    "from sklearn.pipeline import make_pipeline\n",
    "from sklearn.metrics import confusion_matrix, roc_curve, auc\n",
    "import matplotlib.pyplot as plt\n",
    "import seaborn as sns"
   ]
  },
  {
   "cell_type": "code",
   "execution_count": 10,
   "metadata": {},
   "outputs": [],
   "source": [
    "# Create a pipeline object for the model\n",
    "pipe_MLP = make_pipeline(StandardScaler(),\n",
    "                         MLPClassifier(solver='adam',\n",
    "                                       hidden_layer_sizes=(100,100,100,100),\n",
    "                                       random_state=0,\n",
    "                                       max_iter=500,           # TODO: tune it later\n",
    "                                       verbose=True\n",
    "                                       )\n",
    "                        )"
   ]
  },
  {
   "cell_type": "code",
   "execution_count": 11,
   "metadata": {},
   "outputs": [],
   "source": [
    "# Extracted features \n",
    "X = df[['tdoa', 'snr_an', 'power_dif', 'rx_snr', 'rx_powerdif', 'tof']]\n",
    "y = df['NLOS_material'] # Labels"
   ]
  },
  {
   "cell_type": "code",
   "execution_count": 12,
   "metadata": {},
   "outputs": [],
   "source": [
    "# Split dataset into training and test set\n",
    "X_train, X_test, y_train, y_test = train_test_split(X, y, test_size = 0.3) # 70% training and 30% test"
   ]
  },
  {
   "cell_type": "code",
   "execution_count": 13,
   "metadata": {},
   "outputs": [
    {
     "name": "stdout",
     "output_type": "stream",
     "text": [
      "Iteration 1, loss = 0.88043841\n",
      "Iteration 2, loss = 0.66583046\n",
      "Iteration 3, loss = 0.62502042\n",
      "Iteration 4, loss = 0.60457548\n",
      "Iteration 5, loss = 0.59666728\n",
      "Iteration 6, loss = 0.58319932\n",
      "Iteration 7, loss = 0.57478661\n",
      "Iteration 8, loss = 0.57273428\n",
      "Iteration 9, loss = 0.56922772\n",
      "Iteration 10, loss = 0.56799267\n",
      "Iteration 11, loss = 0.56261162\n",
      "Iteration 12, loss = 0.55713803\n",
      "Iteration 13, loss = 0.55815361\n",
      "Iteration 14, loss = 0.55472260\n",
      "Iteration 15, loss = 0.55160163\n",
      "Iteration 16, loss = 0.54937572\n",
      "Iteration 17, loss = 0.54809836\n",
      "Iteration 18, loss = 0.54457660\n",
      "Iteration 19, loss = 0.54434330\n",
      "Iteration 20, loss = 0.54425690\n",
      "Iteration 21, loss = 0.54188477\n",
      "Iteration 22, loss = 0.54066449\n",
      "Iteration 23, loss = 0.54118940\n",
      "Iteration 24, loss = 0.53847795\n",
      "Iteration 25, loss = 0.53451221\n",
      "Iteration 26, loss = 0.53425397\n",
      "Iteration 27, loss = 0.53414348\n",
      "Iteration 28, loss = 0.53221953\n",
      "Iteration 29, loss = 0.53328068\n",
      "Iteration 30, loss = 0.53224251\n",
      "Iteration 31, loss = 0.52983732\n",
      "Iteration 32, loss = 0.52895262\n",
      "Iteration 33, loss = 0.52732064\n",
      "Iteration 34, loss = 0.52836339\n",
      "Iteration 35, loss = 0.52507776\n",
      "Iteration 36, loss = 0.52568483\n",
      "Iteration 37, loss = 0.52499191\n",
      "Iteration 38, loss = 0.52594998\n",
      "Iteration 39, loss = 0.52192216\n",
      "Iteration 40, loss = 0.52257333\n",
      "Iteration 41, loss = 0.52195175\n",
      "Iteration 42, loss = 0.52035089\n",
      "Iteration 43, loss = 0.51828008\n",
      "Iteration 44, loss = 0.51956527\n",
      "Iteration 45, loss = 0.51765759\n",
      "Iteration 46, loss = 0.51734461\n",
      "Iteration 47, loss = 0.51499491\n",
      "Iteration 48, loss = 0.51387414\n",
      "Iteration 49, loss = 0.51309696\n",
      "Iteration 50, loss = 0.51163185\n",
      "Iteration 51, loss = 0.51306782\n",
      "Iteration 52, loss = 0.51303890\n",
      "Iteration 53, loss = 0.51139491\n",
      "Iteration 54, loss = 0.51106739\n",
      "Iteration 55, loss = 0.51018999\n",
      "Iteration 56, loss = 0.51118301\n",
      "Iteration 57, loss = 0.50772261\n",
      "Iteration 58, loss = 0.50880920\n",
      "Iteration 59, loss = 0.50881809\n",
      "Iteration 60, loss = 0.50556449\n",
      "Iteration 61, loss = 0.50591826\n",
      "Iteration 62, loss = 0.50400623\n",
      "Iteration 63, loss = 0.50635882\n",
      "Iteration 64, loss = 0.50586109\n",
      "Iteration 65, loss = 0.50180730\n",
      "Iteration 66, loss = 0.50063428\n",
      "Iteration 67, loss = 0.50020006\n",
      "Iteration 68, loss = 0.49981161\n",
      "Iteration 69, loss = 0.49940238\n",
      "Iteration 70, loss = 0.49894414\n",
      "Iteration 71, loss = 0.49834316\n",
      "Iteration 72, loss = 0.49576152\n",
      "Iteration 73, loss = 0.49588562\n",
      "Iteration 74, loss = 0.49659037\n",
      "Iteration 75, loss = 0.49389983\n",
      "Iteration 76, loss = 0.49314442\n",
      "Iteration 77, loss = 0.49354216\n",
      "Iteration 78, loss = 0.49102418\n",
      "Iteration 79, loss = 0.49436073\n",
      "Iteration 80, loss = 0.49143880\n",
      "Iteration 81, loss = 0.48975270\n",
      "Iteration 82, loss = 0.49068453\n",
      "Iteration 83, loss = 0.48779650\n",
      "Iteration 84, loss = 0.48638006\n",
      "Iteration 85, loss = 0.48767902\n",
      "Iteration 86, loss = 0.48716212\n",
      "Iteration 87, loss = 0.48527773\n",
      "Iteration 88, loss = 0.48486066\n",
      "Iteration 89, loss = 0.48613455\n",
      "Iteration 90, loss = 0.48167505\n",
      "Iteration 91, loss = 0.48317060\n",
      "Iteration 92, loss = 0.48193628\n",
      "Iteration 93, loss = 0.47993621\n",
      "Iteration 94, loss = 0.47955123\n",
      "Iteration 95, loss = 0.47840072\n",
      "Iteration 96, loss = 0.47777560\n",
      "Iteration 97, loss = 0.47772224\n",
      "Iteration 98, loss = 0.47746040\n",
      "Iteration 99, loss = 0.47850620\n",
      "Iteration 100, loss = 0.47586705\n",
      "Iteration 101, loss = 0.47556960\n",
      "Iteration 102, loss = 0.47547617\n",
      "Iteration 103, loss = 0.47277542\n",
      "Iteration 104, loss = 0.47186643\n",
      "Iteration 105, loss = 0.46999458\n",
      "Iteration 106, loss = 0.46951117\n",
      "Iteration 107, loss = 0.47116950\n",
      "Iteration 108, loss = 0.46950423\n",
      "Iteration 109, loss = 0.46736220\n",
      "Iteration 110, loss = 0.46809476\n",
      "Iteration 111, loss = 0.46628662\n",
      "Iteration 112, loss = 0.46428159\n",
      "Iteration 113, loss = 0.46430904\n",
      "Iteration 114, loss = 0.46444539\n",
      "Iteration 115, loss = 0.46098891\n",
      "Iteration 116, loss = 0.46299109\n",
      "Iteration 117, loss = 0.45980037\n",
      "Iteration 118, loss = 0.46153963\n",
      "Iteration 119, loss = 0.45946216\n",
      "Iteration 120, loss = 0.46037864\n",
      "Iteration 121, loss = 0.45719151\n",
      "Iteration 122, loss = 0.46018245\n",
      "Iteration 123, loss = 0.45643488\n",
      "Iteration 124, loss = 0.45411318\n",
      "Iteration 125, loss = 0.45787583\n",
      "Iteration 126, loss = 0.45600318\n",
      "Iteration 127, loss = 0.45344822\n",
      "Iteration 128, loss = 0.45471963\n",
      "Iteration 129, loss = 0.45205656\n",
      "Iteration 130, loss = 0.45118560\n",
      "Iteration 131, loss = 0.44931115\n",
      "Iteration 132, loss = 0.44907526\n",
      "Iteration 133, loss = 0.44671453\n",
      "Iteration 134, loss = 0.44906333\n",
      "Iteration 135, loss = 0.44965109\n",
      "Iteration 136, loss = 0.44875333\n",
      "Iteration 137, loss = 0.44485724\n",
      "Iteration 138, loss = 0.44397419\n",
      "Iteration 139, loss = 0.44290168\n",
      "Iteration 140, loss = 0.44358328\n",
      "Iteration 141, loss = 0.44339197\n",
      "Iteration 142, loss = 0.44262880\n",
      "Iteration 143, loss = 0.43912194\n",
      "Iteration 144, loss = 0.44005714\n",
      "Iteration 145, loss = 0.44027291\n",
      "Iteration 146, loss = 0.43844807\n",
      "Iteration 147, loss = 0.43728658\n",
      "Iteration 148, loss = 0.43674137\n",
      "Iteration 149, loss = 0.43375134\n",
      "Iteration 150, loss = 0.43556805\n",
      "Iteration 151, loss = 0.43694317\n",
      "Iteration 152, loss = 0.43381204\n",
      "Iteration 153, loss = 0.43343967\n",
      "Iteration 154, loss = 0.43269095\n",
      "Iteration 155, loss = 0.43292147\n",
      "Iteration 156, loss = 0.43229519\n",
      "Iteration 157, loss = 0.43782826\n",
      "Iteration 158, loss = 0.42872463\n",
      "Iteration 159, loss = 0.42682341\n",
      "Iteration 160, loss = 0.42714866\n",
      "Iteration 161, loss = 0.42270288\n",
      "Iteration 162, loss = 0.42580686\n",
      "Iteration 163, loss = 0.42226299\n",
      "Iteration 164, loss = 0.42340943\n",
      "Iteration 165, loss = 0.42535360\n",
      "Iteration 166, loss = 0.42393792\n",
      "Iteration 167, loss = 0.42153750\n",
      "Iteration 168, loss = 0.41836946\n",
      "Iteration 169, loss = 0.42007637\n",
      "Iteration 170, loss = 0.42317390\n",
      "Iteration 171, loss = 0.41984223\n",
      "Iteration 172, loss = 0.41882487\n",
      "Iteration 173, loss = 0.41750145\n",
      "Iteration 174, loss = 0.41527795\n",
      "Iteration 175, loss = 0.41389912\n",
      "Iteration 176, loss = 0.41513980\n",
      "Iteration 177, loss = 0.41759131\n",
      "Iteration 178, loss = 0.41463609\n",
      "Iteration 179, loss = 0.41255403\n",
      "Iteration 180, loss = 0.41085505\n",
      "Iteration 181, loss = 0.40813212\n",
      "Iteration 182, loss = 0.41097148\n",
      "Iteration 183, loss = 0.40937664\n",
      "Iteration 184, loss = 0.41004219\n",
      "Iteration 185, loss = 0.40671975\n",
      "Iteration 186, loss = 0.40400838\n",
      "Iteration 187, loss = 0.40785262\n",
      "Iteration 188, loss = 0.40888102\n",
      "Iteration 189, loss = 0.40445655\n",
      "Iteration 190, loss = 0.40304662\n",
      "Iteration 191, loss = 0.40112011\n",
      "Iteration 192, loss = 0.40325200\n",
      "Iteration 193, loss = 0.40187703\n",
      "Iteration 194, loss = 0.39955956\n",
      "Iteration 195, loss = 0.39966212\n",
      "Iteration 196, loss = 0.40004918\n",
      "Iteration 197, loss = 0.39767041\n",
      "Iteration 198, loss = 0.39724089\n",
      "Iteration 199, loss = 0.39658936\n",
      "Iteration 200, loss = 0.39609146\n",
      "Iteration 201, loss = 0.39756366\n",
      "Iteration 202, loss = 0.39466387\n",
      "Iteration 203, loss = 0.39642477\n",
      "Iteration 204, loss = 0.39371112\n",
      "Iteration 205, loss = 0.39262861\n",
      "Iteration 206, loss = 0.38724489\n",
      "Iteration 207, loss = 0.38905118\n",
      "Iteration 208, loss = 0.39461123\n",
      "Iteration 209, loss = 0.39201696\n",
      "Iteration 210, loss = 0.39139072\n",
      "Iteration 211, loss = 0.38668554\n",
      "Iteration 212, loss = 0.38931979\n",
      "Iteration 213, loss = 0.38543656\n",
      "Iteration 214, loss = 0.38298118\n",
      "Iteration 215, loss = 0.38488541\n",
      "Iteration 216, loss = 0.38160482\n",
      "Iteration 217, loss = 0.38281573\n",
      "Iteration 218, loss = 0.38548057\n",
      "Iteration 219, loss = 0.38209531\n",
      "Iteration 220, loss = 0.38218536\n",
      "Iteration 221, loss = 0.38091570\n",
      "Iteration 222, loss = 0.38176718\n",
      "Iteration 223, loss = 0.37845096\n",
      "Iteration 224, loss = 0.38002348\n",
      "Iteration 225, loss = 0.37758984\n",
      "Iteration 226, loss = 0.37797490\n",
      "Iteration 227, loss = 0.37576737\n",
      "Iteration 228, loss = 0.37459023\n",
      "Iteration 229, loss = 0.37446601\n",
      "Iteration 230, loss = 0.37211491\n",
      "Iteration 231, loss = 0.37206509\n",
      "Iteration 232, loss = 0.37451127\n",
      "Iteration 233, loss = 0.37274171\n",
      "Iteration 234, loss = 0.37361203\n",
      "Iteration 235, loss = 0.37004434\n",
      "Iteration 236, loss = 0.37254450\n",
      "Iteration 237, loss = 0.36935123\n",
      "Iteration 238, loss = 0.37442992\n",
      "Iteration 239, loss = 0.36884571\n",
      "Iteration 240, loss = 0.36850744\n",
      "Iteration 241, loss = 0.36658127\n",
      "Iteration 242, loss = 0.36286792\n",
      "Iteration 243, loss = 0.36198602\n",
      "Iteration 244, loss = 0.36305943\n",
      "Iteration 245, loss = 0.36301638\n",
      "Iteration 246, loss = 0.36499970\n",
      "Iteration 247, loss = 0.36239197\n",
      "Iteration 248, loss = 0.35933598\n",
      "Iteration 249, loss = 0.36232291\n",
      "Iteration 250, loss = 0.36335276\n",
      "Iteration 251, loss = 0.35958132\n",
      "Iteration 252, loss = 0.35415734\n",
      "Iteration 253, loss = 0.35988097\n",
      "Iteration 254, loss = 0.35958897\n",
      "Iteration 255, loss = 0.36101517\n",
      "Iteration 256, loss = 0.35754996\n",
      "Iteration 257, loss = 0.35357721\n",
      "Iteration 258, loss = 0.35596176\n",
      "Iteration 259, loss = 0.35279649\n",
      "Iteration 260, loss = 0.35165852\n",
      "Iteration 261, loss = 0.35714053\n",
      "Iteration 262, loss = 0.35201502\n",
      "Iteration 263, loss = 0.34791592\n",
      "Iteration 264, loss = 0.35222869\n",
      "Iteration 265, loss = 0.35119181\n",
      "Iteration 266, loss = 0.34800070\n",
      "Iteration 267, loss = 0.35015745\n",
      "Iteration 268, loss = 0.34781303\n",
      "Iteration 269, loss = 0.34571846\n",
      "Iteration 270, loss = 0.34869204\n",
      "Iteration 271, loss = 0.34685049\n",
      "Iteration 272, loss = 0.34183755\n",
      "Iteration 273, loss = 0.34272958\n",
      "Iteration 274, loss = 0.35758954\n",
      "Iteration 275, loss = 0.35023712\n",
      "Iteration 276, loss = 0.34721267\n",
      "Iteration 277, loss = 0.34282928\n",
      "Iteration 278, loss = 0.34452254\n",
      "Iteration 279, loss = 0.33957869\n",
      "Iteration 280, loss = 0.34122447\n",
      "Iteration 281, loss = 0.33703662\n",
      "Iteration 282, loss = 0.33951001\n",
      "Iteration 283, loss = 0.33798230\n",
      "Iteration 284, loss = 0.33381845\n",
      "Iteration 285, loss = 0.33662441\n",
      "Iteration 286, loss = 0.33355111\n",
      "Iteration 287, loss = 0.33424301\n",
      "Iteration 288, loss = 0.33504796\n",
      "Iteration 289, loss = 0.33549562\n",
      "Iteration 290, loss = 0.33498738\n",
      "Iteration 291, loss = 0.33658380\n",
      "Iteration 292, loss = 0.33992109\n",
      "Iteration 293, loss = 0.33648690\n",
      "Iteration 294, loss = 0.32941192\n",
      "Iteration 295, loss = 0.33073821\n",
      "Iteration 296, loss = 0.33323533\n",
      "Iteration 297, loss = 0.33183374\n",
      "Iteration 298, loss = 0.32892423\n",
      "Iteration 299, loss = 0.32887000\n",
      "Iteration 300, loss = 0.32666004\n",
      "Iteration 301, loss = 0.32853160\n",
      "Iteration 302, loss = 0.32583453\n",
      "Iteration 303, loss = 0.32665786\n",
      "Iteration 304, loss = 0.32775164\n",
      "Iteration 305, loss = 0.32455851\n",
      "Iteration 306, loss = 0.32449251\n",
      "Iteration 307, loss = 0.34251139\n",
      "Iteration 308, loss = 0.33371741\n",
      "Iteration 309, loss = 0.32417288\n",
      "Iteration 310, loss = 0.32173695\n",
      "Iteration 311, loss = 0.32252244\n",
      "Iteration 312, loss = 0.31950171\n",
      "Iteration 313, loss = 0.31922155\n",
      "Iteration 314, loss = 0.31842809\n",
      "Iteration 315, loss = 0.31918303\n",
      "Iteration 316, loss = 0.31912153\n",
      "Iteration 317, loss = 0.31912624\n",
      "Iteration 318, loss = 0.31818472\n",
      "Iteration 319, loss = 0.31960081\n",
      "Iteration 320, loss = 0.31877304\n",
      "Iteration 321, loss = 0.31897179\n",
      "Iteration 322, loss = 0.31393331\n",
      "Iteration 323, loss = 0.31372606\n",
      "Iteration 324, loss = 0.32253786\n",
      "Iteration 325, loss = 0.31701188\n",
      "Iteration 326, loss = 0.31192703\n",
      "Iteration 327, loss = 0.31092617\n",
      "Iteration 328, loss = 0.31039698\n",
      "Iteration 329, loss = 0.30975768\n",
      "Iteration 330, loss = 0.31362885\n",
      "Iteration 331, loss = 0.31335617\n",
      "Iteration 332, loss = 0.30879794\n",
      "Iteration 333, loss = 0.30913178\n",
      "Iteration 334, loss = 0.31013224\n",
      "Iteration 335, loss = 0.31134316\n",
      "Iteration 336, loss = 0.30547407\n",
      "Iteration 337, loss = 0.30955719\n",
      "Iteration 338, loss = 0.30474229\n",
      "Iteration 339, loss = 0.30254029\n",
      "Iteration 340, loss = 0.30932662\n",
      "Iteration 341, loss = 0.31460194\n",
      "Iteration 342, loss = 0.31166030\n",
      "Iteration 343, loss = 0.30307858\n",
      "Iteration 344, loss = 0.30060415\n",
      "Iteration 345, loss = 0.30054508\n",
      "Iteration 346, loss = 0.29796141\n",
      "Iteration 347, loss = 0.29882854\n",
      "Iteration 348, loss = 0.30779287\n",
      "Iteration 349, loss = 0.30285919\n",
      "Iteration 350, loss = 0.29797045\n",
      "Iteration 351, loss = 0.29935943\n",
      "Iteration 352, loss = 0.30027141\n",
      "Iteration 353, loss = 0.29947753\n",
      "Iteration 354, loss = 0.30346690\n",
      "Iteration 355, loss = 0.30454629\n",
      "Iteration 356, loss = 0.30225629\n",
      "Iteration 357, loss = 0.29465240\n",
      "Iteration 358, loss = 0.29630986\n",
      "Iteration 359, loss = 0.28976374\n",
      "Iteration 360, loss = 0.29302189\n",
      "Iteration 361, loss = 0.29703679\n",
      "Iteration 362, loss = 0.29386527\n",
      "Iteration 363, loss = 0.29294050\n",
      "Iteration 364, loss = 0.30183380\n",
      "Iteration 365, loss = 0.29803087\n",
      "Iteration 366, loss = 0.30306487\n",
      "Iteration 367, loss = 0.29165043\n",
      "Iteration 368, loss = 0.28959339\n",
      "Iteration 369, loss = 0.28935858\n",
      "Iteration 370, loss = 0.28825877\n",
      "Iteration 371, loss = 0.28762443\n",
      "Iteration 372, loss = 0.29178359\n",
      "Iteration 373, loss = 0.28673259\n",
      "Iteration 374, loss = 0.29059398\n",
      "Iteration 375, loss = 0.29704096\n",
      "Iteration 376, loss = 0.28841797\n",
      "Iteration 377, loss = 0.28440045\n",
      "Iteration 378, loss = 0.27971037\n",
      "Iteration 379, loss = 0.29531895\n",
      "Iteration 380, loss = 0.29125753\n",
      "Iteration 381, loss = 0.29191534\n",
      "Iteration 382, loss = 0.28926356\n",
      "Iteration 383, loss = 0.28244622\n",
      "Iteration 384, loss = 0.28147109\n",
      "Iteration 385, loss = 0.27693180\n",
      "Iteration 386, loss = 0.27934368\n",
      "Iteration 387, loss = 0.28432891\n",
      "Iteration 388, loss = 0.29102228\n",
      "Iteration 389, loss = 0.29389261\n",
      "Iteration 390, loss = 0.29101355\n",
      "Iteration 391, loss = 0.28289595\n",
      "Iteration 392, loss = 0.27695711\n",
      "Iteration 393, loss = 0.27457085\n",
      "Iteration 394, loss = 0.27535208\n",
      "Iteration 395, loss = 0.27800737\n",
      "Iteration 396, loss = 0.27745210\n",
      "Iteration 397, loss = 0.27403151\n",
      "Iteration 398, loss = 0.27539040\n",
      "Iteration 399, loss = 0.28292161\n",
      "Iteration 400, loss = 0.28284119\n",
      "Iteration 401, loss = 0.28501943\n",
      "Iteration 402, loss = 0.28237188\n",
      "Iteration 403, loss = 0.28588052\n",
      "Iteration 404, loss = 0.27809501\n",
      "Iteration 405, loss = 0.27173855\n",
      "Iteration 406, loss = 0.29762604\n",
      "Iteration 407, loss = 0.27234063\n",
      "Iteration 408, loss = 0.26919147\n",
      "Iteration 409, loss = 0.26632116\n",
      "Iteration 410, loss = 0.26885597\n",
      "Iteration 411, loss = 0.27159962\n",
      "Iteration 412, loss = 0.26939372\n",
      "Iteration 413, loss = 0.26852674\n",
      "Iteration 414, loss = 0.26832176\n",
      "Iteration 415, loss = 0.26346734\n",
      "Iteration 416, loss = 0.27251571\n",
      "Iteration 417, loss = 0.26933560\n",
      "Iteration 418, loss = 0.26630533\n",
      "Iteration 419, loss = 0.27274924\n",
      "Iteration 420, loss = 0.27686260\n",
      "Iteration 421, loss = 0.28970082\n",
      "Iteration 422, loss = 0.26810097\n",
      "Iteration 423, loss = 0.26879148\n",
      "Iteration 424, loss = 0.26546179\n",
      "Iteration 425, loss = 0.26195537\n",
      "Iteration 426, loss = 0.26109001\n",
      "Iteration 427, loss = 0.26873235\n",
      "Iteration 428, loss = 0.27748848\n",
      "Iteration 429, loss = 0.26515592\n",
      "Iteration 430, loss = 0.26149254\n",
      "Iteration 431, loss = 0.26721281\n",
      "Iteration 432, loss = 0.26458231\n",
      "Iteration 433, loss = 0.26297576\n",
      "Iteration 434, loss = 0.26450894\n",
      "Iteration 435, loss = 0.26494532\n",
      "Iteration 436, loss = 0.26571009\n",
      "Iteration 437, loss = 0.27073894\n",
      "Training loss did not improve more than tol=0.000100 for 10 consecutive epochs. Stopping.\n"
     ]
    },
    {
     "data": {
      "text/plain": [
       "Pipeline(steps=[('standardscaler', StandardScaler()),\n",
       "                ('mlpclassifier',\n",
       "                 MLPClassifier(hidden_layer_sizes=(100, 100, 100, 100),\n",
       "                               max_iter=500, random_state=0, verbose=True))])"
      ]
     },
     "execution_count": 13,
     "metadata": {},
     "output_type": "execute_result"
    }
   ],
   "source": [
    "# Train the whole pipeline\n",
    "pipe_MLP.fit(X_train, y_train)"
   ]
  },
  {
   "cell_type": "code",
   "execution_count": 14,
   "metadata": {},
   "outputs": [],
   "source": [
    "# Make predictions on the test data\n",
    "y_pred = pipe_MLP.predict(X_test)"
   ]
  },
  {
   "cell_type": "code",
   "execution_count": 15,
   "metadata": {},
   "outputs": [
    {
     "name": "stdout",
     "output_type": "stream",
     "text": [
      "Test Accuracy: 72.71461975281149%\n"
     ]
    }
   ],
   "source": [
    "# Caluclate the accuracy on test data predicitons\n",
    "print(f'Test Accuracy: {metrics.accuracy_score(y_test, y_pred) * 100}%')"
   ]
  },
  {
   "cell_type": "code",
   "execution_count": 16,
   "metadata": {},
   "outputs": [
    {
     "name": "stdout",
     "output_type": "stream",
     "text": [
      "Test Precision: 72.63861764523364%\n"
     ]
    }
   ],
   "source": [
    "print(f'Test Precision: {metrics.precision_score(y_test, y_pred, average=\"macro\") * 100}%')"
   ]
  },
  {
   "cell_type": "code",
   "execution_count": 17,
   "metadata": {},
   "outputs": [
    {
     "name": "stdout",
     "output_type": "stream",
     "text": [
      "Test Recall: 72.92136238250939%\n"
     ]
    }
   ],
   "source": [
    "print(f'Test Recall: {metrics.recall_score(y_test, y_pred, average=\"macro\") * 100}%')"
   ]
  },
  {
   "cell_type": "code",
   "execution_count": 18,
   "metadata": {},
   "outputs": [
    {
     "name": "stdout",
     "output_type": "stream",
     "text": [
      "Test F1: 0.7267944373568165\n"
     ]
    }
   ],
   "source": [
    "print(f'Test F1: {metrics.f1_score(y_test, y_pred, average=\"macro\" )}')"
   ]
  },
  {
   "cell_type": "code",
   "execution_count": 19,
   "metadata": {},
   "outputs": [
    {
     "data": {
      "image/png": "[encoded data removed]",
      "text/plain": [
       "<Figure size 640x480 with 2 Axes>"
      ]
     },
     "metadata": {},
     "output_type": "display_data"
    }
   ],
   "source": [
    "cm = confusion_matrix(y_test, y_pred)\n",
    "# axis_labels = ['1', 'False']\n",
    "plt.figure()\n",
    "sns.heatmap(cm, annot=True)\n",
    "plt.title('Confusion Matrix')\n",
    "plt.ylabel('Actual')\n",
    "plt.xlabel('Predicted')\n",
    "plt.show()"
   ]
  }
 ],
 "metadata": {
  "kernelspec": {
   "display_name": "dataScience",
   "language": "python",
   "name": "python3"
  },
  "language_info": {
   "codemirror_mode": {
    "name": "ipython",
    "version": 3
   },
   "file_extension": ".py",
   "mimetype": "text/x-python",
   "name": "python",
   "nbconvert_exporter": "python",
   "pygments_lexer": "ipython3",
   "version": "3.9.16"
  },
  "orig_nbformat": 4
 },
 "nbformat": 4,
 "nbformat_minor": 2
}
