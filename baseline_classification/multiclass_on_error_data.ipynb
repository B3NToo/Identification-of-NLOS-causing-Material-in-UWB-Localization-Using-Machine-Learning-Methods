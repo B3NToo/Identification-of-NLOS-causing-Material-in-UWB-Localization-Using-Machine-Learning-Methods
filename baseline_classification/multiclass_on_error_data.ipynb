{
 "cells": [
  {
   "cell_type": "code",
   "execution_count": 15,
   "metadata": {},
   "outputs": [],
   "source": [
    "import pandas as pd\n",
    "import numpy as np\n",
    "import seaborn as sns"
   ]
  },
  {
   "cell_type": "markdown",
   "metadata": {},
   "source": [
    "# Baseline MLP Material Classification Experiment on Error Data"
   ]
  },
  {
   "cell_type": "code",
   "execution_count": 16,
   "metadata": {},
   "outputs": [],
   "source": [
    "# read data\n",
    "PATH = \"../../my_data/identification-dataset/my_custom_data/error-identification-dataset.csv\"\n",
    "df = pd.read_csv(PATH)"
   ]
  },
  {
   "cell_type": "code",
   "execution_count": 17,
   "metadata": {},
   "outputs": [],
   "source": [
    "# drop uncomplete rows\n",
    "df.dropna(inplace=True)"
   ]
  },
  {
   "cell_type": "code",
   "execution_count": 18,
   "metadata": {},
   "outputs": [
    {
     "name": "stdout",
     "output_type": "stream",
     "text": [
      "<class 'pandas.core.frame.DataFrame'>\n",
      "RangeIndex: 59871 entries, 0 to 59870\n",
      "Data columns (total 15 columns):\n",
      " #   Column            Non-Null Count  Dtype  \n",
      "---  ------            --------------  -----  \n",
      " 0   tdoa12            59871 non-null  float64\n",
      " 1   tdoa21            59871 non-null  float64\n",
      " 2   snr_an1           59871 non-null  float64\n",
      " 3   power_dif_an1     59871 non-null  float64\n",
      " 4   snr_an2           59871 non-null  float64\n",
      " 5   power_dif_an2     59871 non-null  float64\n",
      " 6   an1_rx_snr        59871 non-null  float64\n",
      " 7   an1_rx_powerdif   59871 non-null  float64\n",
      " 8   an1_tof           59871 non-null  float64\n",
      " 9   an2_rx_snr        59871 non-null  float64\n",
      " 10  an2_rx_powerdif   59871 non-null  float64\n",
      " 11  an2_tof           59871 non-null  float64\n",
      " 12  material          59871 non-null  object \n",
      " 13  encoded_material  59871 non-null  int64  \n",
      " 14  error             59871 non-null  float64\n",
      "dtypes: float64(13), int64(1), object(1)\n",
      "memory usage: 6.9+ MB\n"
     ]
    }
   ],
   "source": [
    "df.info()"
   ]
  },
  {
   "cell_type": "code",
   "execution_count": 19,
   "metadata": {},
   "outputs": [
    {
     "data": {
      "text/plain": [
       "array([1, 2, 3, 4, 5, 6])"
      ]
     },
     "execution_count": 19,
     "metadata": {},
     "output_type": "execute_result"
    }
   ],
   "source": [
    "# show different label types\n",
    "df.encoded_material.unique()"
   ]
  },
  {
   "cell_type": "code",
   "execution_count": 20,
   "metadata": {},
   "outputs": [
    {
     "data": {
      "text/plain": [
       "array(['cardboard', 'foam', 'metal', 'plastic', 'wooden-cabinet',\n",
       "       'wooden-shelf'], dtype=object)"
      ]
     },
     "execution_count": 20,
     "metadata": {},
     "output_type": "execute_result"
    }
   ],
   "source": [
    "# show the respective materials\n",
    "df.material.unique()"
   ]
  },
  {
   "cell_type": "code",
   "execution_count": 21,
   "metadata": {},
   "outputs": [
    {
     "data": {
      "text/plain": [
       "<Axes: xlabel='encoded_material', ylabel='count'>"
      ]
     },
     "execution_count": 21,
     "metadata": {},
     "output_type": "execute_result"
    },
    {
     "data": {
      "image/png": "[encoded data removed]",
      "text/plain": [
       "<Figure size 640x480 with 1 Axes>"
      ]
     },
     "metadata": {},
     "output_type": "display_data"
    }
   ],
   "source": [
    "# plot class imbalance\n",
    "sns.countplot(x=df['encoded_material'])"
   ]
  },
  {
   "cell_type": "markdown",
   "metadata": {},
   "source": [
    "## Classification"
   ]
  },
  {
   "cell_type": "code",
   "execution_count": 22,
   "metadata": {},
   "outputs": [],
   "source": [
    "# Import modules from Scikit-learn\n",
    "from sklearn.neural_network import MLPClassifier\n",
    "from sklearn.model_selection import train_test_split   # Import train_test_split function\n",
    "from sklearn import metrics   # import metrics modules for accuracy calculation\n",
    "from sklearn.preprocessing import StandardScaler\n",
    "from sklearn.pipeline import make_pipeline\n",
    "from sklearn.metrics import confusion_matrix, roc_curve, auc\n",
    "import matplotlib.pyplot as plt\n",
    "import seaborn as sns"
   ]
  },
  {
   "cell_type": "code",
   "execution_count": 23,
   "metadata": {},
   "outputs": [],
   "source": [
    "# Create a pipeline object for the model\n",
    "pipe_MLP = make_pipeline(StandardScaler(),\n",
    "                         MLPClassifier(solver='adam',\n",
    "                                       hidden_layer_sizes=(100,100,100,100),\n",
    "                                       random_state=0,\n",
    "                                       max_iter=500,           # TODO: tune it later\n",
    "                                       verbose=True\n",
    "                                       )\n",
    "                        )"
   ]
  },
  {
   "cell_type": "code",
   "execution_count": 24,
   "metadata": {},
   "outputs": [],
   "source": [
    "train_df = df.drop('material', axis=1)"
   ]
  },
  {
   "cell_type": "code",
   "execution_count": 26,
   "metadata": {},
   "outputs": [],
   "source": [
    "# Extracted features \n",
    "X = train_df.drop('encoded_material', axis=1)\n",
    "y = train_df['encoded_material'] # Labels"
   ]
  },
  {
   "cell_type": "code",
   "execution_count": 28,
   "metadata": {},
   "outputs": [],
   "source": [
    "# Split dataset into training and test set\n",
    "X_train, X_test, y_train, y_test = train_test_split(X, y, test_size = 0.3) # 70% training and 30% test"
   ]
  },
  {
   "cell_type": "code",
   "execution_count": 29,
   "metadata": {},
   "outputs": [
    {
     "name": "stdout",
     "output_type": "stream",
     "text": [
      "Iteration 1, loss = 0.79088361\n",
      "Iteration 2, loss = 0.53420673\n",
      "Iteration 3, loss = 0.46292749\n",
      "Iteration 4, loss = 0.44035721\n",
      "Iteration 5, loss = 0.42084097\n",
      "Iteration 6, loss = 0.41081689\n",
      "Iteration 7, loss = 0.40316553\n",
      "Iteration 8, loss = 0.39841744\n",
      "Iteration 9, loss = 0.38980886\n",
      "Iteration 10, loss = 0.39065370\n",
      "Iteration 11, loss = 0.38545140\n",
      "Iteration 12, loss = 0.37893119\n",
      "Iteration 13, loss = 0.37492567\n",
      "Iteration 14, loss = 0.37731707\n",
      "Iteration 15, loss = 0.37269068\n",
      "Iteration 16, loss = 0.37005700\n",
      "Iteration 17, loss = 0.36795761\n",
      "Iteration 18, loss = 0.36359966\n",
      "Iteration 19, loss = 0.35948364\n",
      "Iteration 20, loss = 0.35769844\n",
      "Iteration 21, loss = 0.35537325\n",
      "Iteration 22, loss = 0.35936045\n",
      "Iteration 23, loss = 0.35424700\n",
      "Iteration 24, loss = 0.35129856\n",
      "Iteration 25, loss = 0.34944364\n",
      "Iteration 26, loss = 0.34695732\n",
      "Iteration 27, loss = 0.34772807\n",
      "Iteration 28, loss = 0.34555051\n",
      "Iteration 29, loss = 0.34376033\n",
      "Iteration 30, loss = 0.33861954\n",
      "Iteration 31, loss = 0.34018187\n",
      "Iteration 32, loss = 0.33719248\n",
      "Iteration 33, loss = 0.33620776\n",
      "Iteration 34, loss = 0.33562700\n",
      "Iteration 35, loss = 0.33243367\n",
      "Iteration 36, loss = 0.33090333\n",
      "Iteration 37, loss = 0.32850898\n",
      "Iteration 38, loss = 0.32879004\n",
      "Iteration 39, loss = 0.32590336\n",
      "Iteration 40, loss = 0.32303101\n",
      "Iteration 41, loss = 0.32196913\n",
      "Iteration 42, loss = 0.31856130\n",
      "Iteration 43, loss = 0.31963848\n",
      "Iteration 44, loss = 0.31688438\n",
      "Iteration 45, loss = 0.31625218\n",
      "Iteration 46, loss = 0.31421417\n",
      "Iteration 47, loss = 0.31120005\n",
      "Iteration 48, loss = 0.31061444\n",
      "Iteration 49, loss = 0.30956048\n",
      "Iteration 50, loss = 0.30708426\n",
      "Iteration 51, loss = 0.30634182\n",
      "Iteration 52, loss = 0.30112073\n",
      "Iteration 53, loss = 0.30331704\n",
      "Iteration 54, loss = 0.30067583\n",
      "Iteration 55, loss = 0.29793399\n",
      "Iteration 56, loss = 0.29610707\n",
      "Iteration 57, loss = 0.30729220\n",
      "Iteration 58, loss = 0.29805166\n",
      "Iteration 59, loss = 0.28936885\n",
      "Iteration 60, loss = 0.28934019\n",
      "Iteration 61, loss = 0.28751817\n",
      "Iteration 62, loss = 0.28312382\n",
      "Iteration 63, loss = 0.28308872\n",
      "Iteration 64, loss = 0.28193908\n",
      "Iteration 65, loss = 0.28285538\n",
      "Iteration 66, loss = 0.28298098\n",
      "Iteration 67, loss = 0.27738220\n",
      "Iteration 68, loss = 0.27849805\n",
      "Iteration 69, loss = 0.27527025\n",
      "Iteration 70, loss = 0.27265261\n",
      "Iteration 71, loss = 0.27001027\n",
      "Iteration 72, loss = 0.27036922\n",
      "Iteration 73, loss = 0.26843976\n",
      "Iteration 74, loss = 0.26818900\n",
      "Iteration 75, loss = 0.26204827\n",
      "Iteration 76, loss = 0.26285366\n",
      "Iteration 77, loss = 0.26506265\n",
      "Iteration 78, loss = 0.26055611\n",
      "Iteration 79, loss = 0.25639236\n",
      "Iteration 80, loss = 0.25908658\n",
      "Iteration 81, loss = 0.25842682\n",
      "Iteration 82, loss = 0.25233841\n",
      "Iteration 83, loss = 0.24975842\n",
      "Iteration 84, loss = 0.24499103\n",
      "Iteration 85, loss = 0.24886741\n",
      "Iteration 86, loss = 0.24708181\n",
      "Iteration 87, loss = 0.24601223\n",
      "Iteration 88, loss = 0.23952882\n",
      "Iteration 89, loss = 0.24126211\n",
      "Iteration 90, loss = 0.23972362\n",
      "Iteration 91, loss = 0.24016720\n",
      "Iteration 92, loss = 0.23594787\n",
      "Iteration 93, loss = 0.23859143\n",
      "Iteration 94, loss = 0.24035715\n",
      "Iteration 95, loss = 0.23555779\n",
      "Iteration 96, loss = 0.22954265\n",
      "Iteration 97, loss = 0.22571062\n",
      "Iteration 98, loss = 0.22596674\n",
      "Iteration 99, loss = 0.22592380\n",
      "Iteration 100, loss = 0.22378655\n",
      "Iteration 101, loss = 0.22291128\n",
      "Iteration 102, loss = 0.21892751\n",
      "Iteration 103, loss = 0.21837773\n",
      "Iteration 104, loss = 0.21869491\n",
      "Iteration 105, loss = 0.21565109\n",
      "Iteration 106, loss = 0.20953084\n",
      "Iteration 107, loss = 0.21263263\n",
      "Iteration 108, loss = 0.21286525\n",
      "Iteration 109, loss = 0.20749989\n",
      "Iteration 110, loss = 0.20759277\n",
      "Iteration 111, loss = 0.21175743\n",
      "Iteration 112, loss = 0.20389384\n",
      "Iteration 113, loss = 0.20074066\n",
      "Iteration 114, loss = 0.20267700\n",
      "Iteration 115, loss = 0.20042165\n",
      "Iteration 116, loss = 0.19643823\n",
      "Iteration 117, loss = 0.19935780\n",
      "Iteration 118, loss = 0.20246498\n",
      "Iteration 119, loss = 0.19238883\n",
      "Iteration 120, loss = 0.19063148\n",
      "Iteration 121, loss = 0.18908442\n",
      "Iteration 122, loss = 0.18697056\n",
      "Iteration 123, loss = 0.18324688\n",
      "Iteration 124, loss = 0.18580047\n",
      "Iteration 125, loss = 0.19086587\n",
      "Iteration 126, loss = 0.18663276\n",
      "Iteration 127, loss = 0.18230841\n",
      "Iteration 128, loss = 0.18156843\n",
      "Iteration 129, loss = 0.18299944\n",
      "Iteration 130, loss = 0.18249353\n",
      "Iteration 131, loss = 0.17545263\n",
      "Iteration 132, loss = 0.17228673\n",
      "Iteration 133, loss = 0.17974627\n",
      "Iteration 134, loss = 0.18316634\n",
      "Iteration 135, loss = 0.18157751\n",
      "Iteration 136, loss = 0.17465966\n",
      "Iteration 137, loss = 0.16863998\n",
      "Iteration 138, loss = 0.16619571\n",
      "Iteration 139, loss = 0.16633339\n",
      "Iteration 140, loss = 0.17008951\n",
      "Iteration 141, loss = 0.16462171\n",
      "Iteration 142, loss = 0.16076774\n",
      "Iteration 143, loss = 0.15771851\n",
      "Iteration 144, loss = 0.22026169\n",
      "Iteration 145, loss = 0.16866995\n",
      "Iteration 146, loss = 0.15913380\n",
      "Iteration 147, loss = 0.15365059\n",
      "Iteration 148, loss = 0.15461911\n",
      "Iteration 149, loss = 0.15191248\n",
      "Iteration 150, loss = 0.15184623\n",
      "Iteration 151, loss = 0.15957397\n",
      "Iteration 152, loss = 0.15305887\n",
      "Iteration 153, loss = 0.14963189\n",
      "Iteration 154, loss = 0.15242247\n",
      "Iteration 155, loss = 0.14438430\n",
      "Iteration 156, loss = 0.15264508\n",
      "Iteration 157, loss = 0.15263435\n",
      "Iteration 158, loss = 0.14682552\n",
      "Iteration 159, loss = 0.14523705\n",
      "Iteration 160, loss = 0.14260604\n",
      "Iteration 161, loss = 0.14289373\n",
      "Iteration 162, loss = 0.14555573\n",
      "Iteration 163, loss = 0.13666306\n",
      "Iteration 164, loss = 0.14353265\n",
      "Iteration 165, loss = 0.13532726\n",
      "Iteration 166, loss = 0.15178844\n",
      "Iteration 167, loss = 0.15338675\n",
      "Iteration 168, loss = 0.13382465\n",
      "Iteration 169, loss = 0.13748117\n",
      "Iteration 170, loss = 0.13876469\n",
      "Iteration 171, loss = 0.13751710\n",
      "Iteration 172, loss = 0.13263408\n",
      "Iteration 173, loss = 0.12790242\n",
      "Iteration 174, loss = 0.12608598\n",
      "Iteration 175, loss = 0.12829218\n",
      "Iteration 176, loss = 0.12474340\n",
      "Iteration 177, loss = 0.12728251\n",
      "Iteration 178, loss = 0.12223144\n",
      "Iteration 179, loss = 0.13176095\n",
      "Iteration 180, loss = 0.14303265\n",
      "Iteration 181, loss = 0.13288308\n",
      "Iteration 182, loss = 0.11922737\n",
      "Iteration 183, loss = 0.11816750\n",
      "Iteration 184, loss = 0.11820131\n",
      "Iteration 185, loss = 0.12399761\n",
      "Iteration 186, loss = 0.11824937\n",
      "Iteration 187, loss = 0.12422374\n",
      "Iteration 188, loss = 0.12745201\n",
      "Iteration 189, loss = 0.13157837\n",
      "Iteration 190, loss = 0.12018218\n",
      "Iteration 191, loss = 0.12310121\n",
      "Iteration 192, loss = 0.11667507\n",
      "Iteration 193, loss = 0.11206130\n",
      "Iteration 194, loss = 0.10536303\n",
      "Iteration 195, loss = 0.10515379\n",
      "Iteration 196, loss = 0.10981359\n",
      "Iteration 197, loss = 0.11230210\n",
      "Iteration 198, loss = 0.11280150\n",
      "Iteration 199, loss = 0.11769745\n",
      "Iteration 200, loss = 0.12423351\n",
      "Iteration 201, loss = 0.11085084\n",
      "Iteration 202, loss = 0.09945673\n",
      "Iteration 203, loss = 0.10124923\n",
      "Iteration 204, loss = 0.09903815\n",
      "Iteration 205, loss = 0.12405976\n",
      "Iteration 206, loss = 0.12334873\n",
      "Iteration 207, loss = 0.11329633\n",
      "Iteration 208, loss = 0.10742346\n",
      "Iteration 209, loss = 0.10164323\n",
      "Iteration 210, loss = 0.10067857\n",
      "Iteration 211, loss = 0.09710134\n",
      "Iteration 212, loss = 0.08831785\n",
      "Iteration 213, loss = 0.08612834\n",
      "Iteration 214, loss = 0.11528598\n",
      "Iteration 215, loss = 0.11157836\n",
      "Iteration 216, loss = 0.09469474\n",
      "Iteration 217, loss = 0.09440894\n",
      "Iteration 218, loss = 0.10308209\n",
      "Iteration 219, loss = 0.10319766\n",
      "Iteration 220, loss = 0.10555179\n",
      "Iteration 221, loss = 0.10830689\n",
      "Iteration 222, loss = 0.09055391\n",
      "Iteration 223, loss = 0.09566919\n",
      "Iteration 224, loss = 0.07889078\n",
      "Iteration 225, loss = 0.08174774\n",
      "Iteration 226, loss = 0.09860977\n",
      "Iteration 227, loss = 0.11645500\n",
      "Iteration 228, loss = 0.10827884\n",
      "Iteration 229, loss = 0.09000453\n",
      "Iteration 230, loss = 0.08570019\n",
      "Iteration 231, loss = 0.09501066\n",
      "Iteration 232, loss = 0.09371816\n",
      "Iteration 233, loss = 0.08096369\n",
      "Iteration 234, loss = 0.07758160\n",
      "Iteration 235, loss = 0.08216593\n",
      "Iteration 236, loss = 0.10853205\n",
      "Iteration 237, loss = 0.08669652\n",
      "Iteration 238, loss = 0.09039411\n",
      "Iteration 239, loss = 0.08676034\n",
      "Iteration 240, loss = 0.08251001\n",
      "Iteration 241, loss = 0.08971811\n",
      "Iteration 242, loss = 0.07341305\n",
      "Iteration 243, loss = 0.07449489\n",
      "Iteration 244, loss = 0.08307900\n",
      "Iteration 245, loss = 0.10192522\n",
      "Iteration 246, loss = 0.12893991\n",
      "Iteration 247, loss = 0.10121023\n",
      "Iteration 248, loss = 0.08027925\n",
      "Iteration 249, loss = 0.06565934\n",
      "Iteration 250, loss = 0.06428076\n",
      "Iteration 251, loss = 0.06054952\n",
      "Iteration 252, loss = 0.05904878\n",
      "Iteration 253, loss = 0.07517315\n",
      "Iteration 254, loss = 0.10369610\n",
      "Iteration 255, loss = 0.09207676\n",
      "Iteration 256, loss = 0.08643778\n",
      "Iteration 257, loss = 0.07293973\n",
      "Iteration 258, loss = 0.06803750\n",
      "Iteration 259, loss = 0.05915011\n",
      "Iteration 260, loss = 0.05744640\n",
      "Iteration 261, loss = 0.06638386\n",
      "Iteration 262, loss = 0.06778890\n",
      "Iteration 263, loss = 0.08632676\n",
      "Iteration 264, loss = 0.09528025\n",
      "Iteration 265, loss = 0.10602473\n",
      "Iteration 266, loss = 0.07210044\n",
      "Iteration 267, loss = 0.07041674\n",
      "Iteration 268, loss = 0.06775880\n",
      "Iteration 269, loss = 0.06539652\n",
      "Iteration 270, loss = 0.07247181\n",
      "Iteration 271, loss = 0.08705698\n",
      "Training loss did not improve more than tol=0.000100 for 10 consecutive epochs. Stopping.\n"
     ]
    },
    {
     "data": {
      "text/plain": [
       "Pipeline(steps=[('standardscaler', StandardScaler()),\n",
       "                ('mlpclassifier',\n",
       "                 MLPClassifier(hidden_layer_sizes=(100, 100, 100, 100),\n",
       "                               max_iter=500, random_state=0, verbose=True))])"
      ]
     },
     "execution_count": 29,
     "metadata": {},
     "output_type": "execute_result"
    }
   ],
   "source": [
    "# Train the whole pipeline\n",
    "pipe_MLP.fit(X_train, y_train)"
   ]
  },
  {
   "cell_type": "code",
   "execution_count": 30,
   "metadata": {},
   "outputs": [],
   "source": [
    "# Make predictions on the test data\n",
    "y_pred = pipe_MLP.predict(X_test)"
   ]
  },
  {
   "cell_type": "code",
   "execution_count": 31,
   "metadata": {},
   "outputs": [
    {
     "name": "stdout",
     "output_type": "stream",
     "text": [
      "Test Accuracy: 80.10243848123817%\n"
     ]
    }
   ],
   "source": [
    "# Caluclate the accuracy on test data predicitons\n",
    "print(f'Test Accuracy: {metrics.accuracy_score(y_test, y_pred) * 100}%')"
   ]
  },
  {
   "cell_type": "code",
   "execution_count": 32,
   "metadata": {},
   "outputs": [
    {
     "name": "stdout",
     "output_type": "stream",
     "text": [
      "Test Precision: 79.93867327487564%\n"
     ]
    }
   ],
   "source": [
    "print(f'Test Precision: {metrics.precision_score(y_test, y_pred, average=\"macro\") * 100}%')"
   ]
  },
  {
   "cell_type": "code",
   "execution_count": 33,
   "metadata": {},
   "outputs": [
    {
     "name": "stdout",
     "output_type": "stream",
     "text": [
      "Test Recall: 79.95628257968463%\n"
     ]
    }
   ],
   "source": [
    "print(f'Test Recall: {metrics.recall_score(y_test, y_pred, average=\"macro\") * 100}%')"
   ]
  },
  {
   "cell_type": "code",
   "execution_count": 34,
   "metadata": {},
   "outputs": [
    {
     "name": "stdout",
     "output_type": "stream",
     "text": [
      "Test F1: 0.7993871551773747\n"
     ]
    }
   ],
   "source": [
    "print(f'Test F1: {metrics.f1_score(y_test, y_pred, average=\"macro\" )}')"
   ]
  },
  {
   "cell_type": "code",
   "execution_count": 38,
   "metadata": {},
   "outputs": [],
   "source": [
    "material_names = df.material.unique()"
   ]
  },
  {
   "cell_type": "code",
   "execution_count": 40,
   "metadata": {},
   "outputs": [
    {
     "data": {
      "image/png": "[encoded data removed]",
      "text/plain": [
       "<Figure size 640x480 with 2 Axes>"
      ]
     },
     "metadata": {},
     "output_type": "display_data"
    }
   ],
   "source": [
    "cm = confusion_matrix(y_test, y_pred)\n",
    "# axis_labels = ['1', 'False']\n",
    "plt.figure()\n",
    "heatmap = sns.heatmap(cm, annot=True, xticklabels=material_names, yticklabels=material_names)\n",
    "\n",
    "# Rotate x-axis and y-axis tick labels at a slight angle\n",
    "heatmap.set_xticklabels(heatmap.get_xticklabels(), rotation=45)\n",
    "heatmap.set_yticklabels(heatmap.get_yticklabels(), rotation=45)\n",
    "\n",
    "plt.title('Confusion Matrix')\n",
    "plt.ylabel('Actual')\n",
    "plt.xlabel('Predicted')\n",
    "plt.show()"
   ]
  },
  {
   "cell_type": "code",
   "execution_count": null,
   "metadata": {},
   "outputs": [],
   "source": [
    "cm"
   ]
  }
 ],
 "metadata": {
  "kernelspec": {
   "display_name": "dataScience",
   "language": "python",
   "name": "python3"
  },
  "language_info": {
   "codemirror_mode": {
    "name": "ipython",
    "version": 3
   },
   "file_extension": ".py",
   "mimetype": "text/x-python",
   "name": "python",
   "nbconvert_exporter": "python",
   "pygments_lexer": "ipython3",
   "version": "3.9.16"
  },
  "orig_nbformat": 4
 },
 "nbformat": 4,
 "nbformat_minor": 2
}
