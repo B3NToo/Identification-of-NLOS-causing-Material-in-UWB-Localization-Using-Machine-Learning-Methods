{
 "cells": [
  {
   "cell_type": "code",
   "execution_count": 10,
   "metadata": {},
   "outputs": [],
   "source": [
    "# Import pandas and numpy for data manipulation\n",
    "import pandas as pd\n",
    "import numpy as np\n",
    "import time\n",
    "\n",
    "# Import modules from Scikit-learn\n",
    "from sklearn.ensemble import RandomForestClassifier  # Import Random Forest Model\n",
    "from sklearn.model_selection import train_test_split   # Import train_test_split function\n",
    "from sklearn import metrics   # import metrics modules for accuracy calculation\n",
    "from sklearn.preprocessing import StandardScaler\n",
    "from sklearn.pipeline import make_pipeline\n",
    "from sklearn.preprocessing import MinMaxScaler\n",
    "\n",
    "from tqdm import tqdm"
   ]
  },
  {
   "cell_type": "code",
   "execution_count": 11,
   "metadata": {},
   "outputs": [],
   "source": [
    "# Read data\n",
    "PATH = \"../../my_data/identification-dataset/my_custom_data/anblock-error-dataset.csv\"\n",
    "df = pd.read_csv(PATH)\n",
    "\n",
    "# Drop uncomplete rows\n",
    "df.dropna(inplace=True)"
   ]
  },
  {
   "cell_type": "code",
   "execution_count": 12,
   "metadata": {},
   "outputs": [],
   "source": [
    "# Set training data\n",
    "train_df = df.drop('material', axis=1)\n",
    "\n",
    "# Extracted features \n",
    "X = train_df.drop('encoded_material', axis=1)\n",
    "y = train_df['encoded_material'] # Labels"
   ]
  },
  {
   "cell_type": "code",
   "execution_count": 13,
   "metadata": {},
   "outputs": [],
   "source": [
    "# Feature Scaling\n",
    "#scaler = MinMaxScaler()\n",
    "#X = pd.DataFrame(scaler.fit_transform(X), columns=X.columns)"
   ]
  },
  {
   "cell_type": "code",
   "execution_count": 14,
   "metadata": {},
   "outputs": [],
   "source": [
    "# Split dataset into training and test set\n",
    "X_train, X_test, y_train, y_test = train_test_split(X, y, test_size = 0.3) # 70% training and 30% test"
   ]
  },
  {
   "cell_type": "code",
   "execution_count": 15,
   "metadata": {},
   "outputs": [],
   "source": [
    "no_of_dt_in_forrest = [5, 10, 20, 30, 50, 100, 200, 500]"
   ]
  },
  {
   "cell_type": "code",
   "execution_count": 16,
   "metadata": {},
   "outputs": [],
   "source": [
    "# Create an empty list to store results\n",
    "def trainer(no_of_dt_in_forrest):\n",
    "    results = []\n",
    "    for trees in no_of_dt_in_forrest:\n",
    "        # Create a pipeline object for the model\n",
    "        # Create a pipeline object for our model\n",
    "        pipe_RF = make_pipeline(StandardScaler(),\n",
    "                        RandomForestClassifier(n_estimators=trees,   # no. of decision trees in the forest\n",
    "                                               verbose=0)\n",
    "                        )\n",
    "        \n",
    "        # Measure training time\n",
    "        start_train = time.time()\n",
    "        pipe_RF.fit(X_train, y_train)\n",
    "        end_train = time.time()\n",
    "        train_time_per_sample = (end_train - start_train) / len(X_train)\n",
    "\n",
    "        # Measure test time\n",
    "        start_test = time.time()\n",
    "        y_pred = pipe_RF.predict(X_test)\n",
    "        end_test = time.time()\n",
    "        test_time_per_sample = (end_test - start_test) / len(X_test)\n",
    "        \n",
    "        # Evaluate the pipeline and store the results\n",
    "        accuracy = metrics.accuracy_score(y_test, y_pred)\n",
    "        precision = metrics.precision_score(y_test, y_pred, average=\"macro\")\n",
    "        recall = metrics.recall_score(y_test, y_pred, average=\"macro\")\n",
    "        f1 = metrics.recall_score(y_test, y_pred, average=\"macro\")\n",
    "\n",
    "\n",
    "        results.append({\n",
    "            'number_of_trees': trees,\n",
    "            'accuracy': accuracy,\n",
    "            'precision': precision,\n",
    "            'recall': recall,\n",
    "            'f1': f1,\n",
    "            'train_time_per_sample': train_time_per_sample,\n",
    "            'test_time_per_sample': test_time_per_sample \n",
    "        })\n",
    "    return results"
   ]
  },
  {
   "cell_type": "code",
   "execution_count": 17,
   "metadata": {},
   "outputs": [
    {
     "name": "stderr",
     "output_type": "stream",
     "text": [
      "100%|██████████| 10/10 [13:04<00:00, 78.47s/it]\n"
     ]
    }
   ],
   "source": [
    "results = []\n",
    "for x in tqdm(np.arange(10)): # should be 10\n",
    "    r = trainer(no_of_dt_in_forrest)\n",
    "    results.append(r)"
   ]
  },
  {
   "cell_type": "code",
   "execution_count": 18,
   "metadata": {},
   "outputs": [
    {
     "data": {
      "text/html": [
       "<div>\n",
       "<style scoped>\n",
       "    .dataframe tbody tr th:only-of-type {\n",
       "        vertical-align: middle;\n",
       "    }\n",
       "\n",
       "    .dataframe tbody tr th {\n",
       "        vertical-align: top;\n",
       "    }\n",
       "\n",
       "    .dataframe thead th {\n",
       "        text-align: right;\n",
       "    }\n",
       "</style>\n",
       "<table border=\"1\" class=\"dataframe\">\n",
       "  <thead>\n",
       "    <tr style=\"text-align: right;\">\n",
       "      <th></th>\n",
       "      <th>number_of_trees</th>\n",
       "      <th>accuracy</th>\n",
       "      <th>precision</th>\n",
       "      <th>recall</th>\n",
       "      <th>f1</th>\n",
       "      <th>train_time_per_sample</th>\n",
       "      <th>test_time_per_sample</th>\n",
       "    </tr>\n",
       "  </thead>\n",
       "  <tbody>\n",
       "    <tr>\n",
       "      <th>0</th>\n",
       "      <td>5</td>\n",
       "      <td>0.875315</td>\n",
       "      <td>0.875201</td>\n",
       "      <td>0.875074</td>\n",
       "      <td>0.875074</td>\n",
       "      <td>0.000012</td>\n",
       "      <td>0.000001</td>\n",
       "    </tr>\n",
       "    <tr>\n",
       "      <th>1</th>\n",
       "      <td>10</td>\n",
       "      <td>0.894575</td>\n",
       "      <td>0.894337</td>\n",
       "      <td>0.894358</td>\n",
       "      <td>0.894358</td>\n",
       "      <td>0.000021</td>\n",
       "      <td>0.000002</td>\n",
       "    </tr>\n",
       "    <tr>\n",
       "      <th>2</th>\n",
       "      <td>20</td>\n",
       "      <td>0.904821</td>\n",
       "      <td>0.904599</td>\n",
       "      <td>0.904627</td>\n",
       "      <td>0.904627</td>\n",
       "      <td>0.000040</td>\n",
       "      <td>0.000004</td>\n",
       "    </tr>\n",
       "    <tr>\n",
       "      <th>3</th>\n",
       "      <td>30</td>\n",
       "      <td>0.910699</td>\n",
       "      <td>0.910463</td>\n",
       "      <td>0.910540</td>\n",
       "      <td>0.910540</td>\n",
       "      <td>0.000061</td>\n",
       "      <td>0.000006</td>\n",
       "    </tr>\n",
       "    <tr>\n",
       "      <th>4</th>\n",
       "      <td>50</td>\n",
       "      <td>0.916018</td>\n",
       "      <td>0.915632</td>\n",
       "      <td>0.915837</td>\n",
       "      <td>0.915837</td>\n",
       "      <td>0.000102</td>\n",
       "      <td>0.000009</td>\n",
       "    </tr>\n",
       "    <tr>\n",
       "      <th>5</th>\n",
       "      <td>100</td>\n",
       "      <td>0.915234</td>\n",
       "      <td>0.914889</td>\n",
       "      <td>0.915042</td>\n",
       "      <td>0.915042</td>\n",
       "      <td>0.000201</td>\n",
       "      <td>0.000017</td>\n",
       "    </tr>\n",
       "    <tr>\n",
       "      <th>6</th>\n",
       "      <td>200</td>\n",
       "      <td>0.917474</td>\n",
       "      <td>0.917097</td>\n",
       "      <td>0.917303</td>\n",
       "      <td>0.917303</td>\n",
       "      <td>0.000465</td>\n",
       "      <td>0.000041</td>\n",
       "    </tr>\n",
       "    <tr>\n",
       "      <th>7</th>\n",
       "      <td>500</td>\n",
       "      <td>0.918426</td>\n",
       "      <td>0.918156</td>\n",
       "      <td>0.918236</td>\n",
       "      <td>0.918236</td>\n",
       "      <td>0.001127</td>\n",
       "      <td>0.000116</td>\n",
       "    </tr>\n",
       "  </tbody>\n",
       "</table>\n",
       "</div>"
      ],
      "text/plain": [
       "   number_of_trees  accuracy  precision    recall        f1  \\\n",
       "0                5  0.875315   0.875201  0.875074  0.875074   \n",
       "1               10  0.894575   0.894337  0.894358  0.894358   \n",
       "2               20  0.904821   0.904599  0.904627  0.904627   \n",
       "3               30  0.910699   0.910463  0.910540  0.910540   \n",
       "4               50  0.916018   0.915632  0.915837  0.915837   \n",
       "5              100  0.915234   0.914889  0.915042  0.915042   \n",
       "6              200  0.917474   0.917097  0.917303  0.917303   \n",
       "7              500  0.918426   0.918156  0.918236  0.918236   \n",
       "\n",
       "   train_time_per_sample  test_time_per_sample  \n",
       "0               0.000012              0.000001  \n",
       "1               0.000021              0.000002  \n",
       "2               0.000040              0.000004  \n",
       "3               0.000061              0.000006  \n",
       "4               0.000102              0.000009  \n",
       "5               0.000201              0.000017  \n",
       "6               0.000465              0.000041  \n",
       "7               0.001127              0.000116  "
      ]
     },
     "execution_count": 18,
     "metadata": {},
     "output_type": "execute_result"
    }
   ],
   "source": [
    "# show one of 10 samples\n",
    "results_df = pd.DataFrame(results[0])\n",
    "results_df"
   ]
  },
  {
   "cell_type": "code",
   "execution_count": 19,
   "metadata": {},
   "outputs": [
    {
     "data": {
      "text/plain": [
       "'|   number_of_trees |   accuracy |   precision |   recall |       f1 |   train_time_per_sample |   test_time_per_sample |\\n|------------------:|-----------:|------------:|---------:|---------:|------------------------:|-----------------------:|\\n|                 5 |   0.875315 |    0.875201 | 0.875074 | 0.875074 |             1.16734e-05 |            1.04104e-06 |\\n|                10 |   0.894575 |    0.894337 | 0.894358 | 0.894358 |             2.13847e-05 |            1.93785e-06 |\\n|                20 |   0.904821 |    0.904599 | 0.904627 | 0.904627 |             4.04045e-05 |            3.57075e-06 |\\n|                30 |   0.910699 |    0.910463 | 0.91054  | 0.91054  |             6.14222e-05 |            5.64604e-06 |\\n|                50 |   0.916018 |    0.915632 | 0.915837 | 0.915837 |             0.0001019   |            8.68943e-06 |\\n|               100 |   0.915234 |    0.914889 | 0.915042 | 0.915042 |             0.000200548 |            1.6954e-05  |\\n|               200 |   0.917474 |    0.917097 | 0.917303 | 0.917303 |             0.000465131 |            4.1083e-05  |\\n|               500 |   0.918426 |    0.918156 | 0.918236 | 0.918236 |             0.00112681  |            0.000116421 |'"
      ]
     },
     "execution_count": 19,
     "metadata": {},
     "output_type": "execute_result"
    }
   ],
   "source": [
    "markdown_table = results_df.to_markdown(index=False)\n",
    "markdown_table"
   ]
  },
  {
   "cell_type": "markdown",
   "metadata": {},
   "source": [
    "|   number_of_trees |   accuracy |   precision |   recall |       f1 |   train_time_per_sample |   test_time_per_sample |\n",
    "|------------------:|-----------:|------------:|---------:|---------:|------------------------:|-----------------------:|\n",
    "|                 5 |   0.8719   |    0.873856 | 0.87239  | 0.87239  |             1.28354e-05 |            1.12619e-06 |\n",
    "|                10 |   0.901237 |    0.902022 | 0.90161  | 0.90161  |             2.03947e-05 |            1.96707e-06 |\n",
    "|                20 |   0.904597 |    0.905448 | 0.904936 | 0.904936 |             4.03076e-05 |            3.68428e-06 |\n",
    "|                30 |   0.906892 |    0.907208 | 0.907242 | 0.907242 |             6.0645e-05  |            5.43059e-06 |\n",
    "|                50 |   0.910475 |    0.910688 | 0.910839 | 0.910839 |             0.000100613 |            8.82269e-06 |\n",
    "|               100 |   0.913779 |    0.914085 | 0.91412  | 0.91412  |             0.000201685 |            1.75537e-05 |\n",
    "|               200 |   0.913779 |    0.914384 | 0.914084 | 0.914084 |             0.000403243 |            3.5128e-05  |\n",
    "|               500 |   0.913779 |    0.91414  | 0.914113 | 0.914113 |             0.000999109 |            8.805e-05   |"
   ]
  },
  {
   "cell_type": "code",
   "execution_count": 20,
   "metadata": {},
   "outputs": [
    {
     "name": "stdout",
     "output_type": "stream",
     "text": [
      "\\begin{tabular}{rrrrrrr}\n",
      "\\toprule\n",
      " number\\_of\\_trees &  accuracy &  precision &   recall &       f1 &  train\\_time\\_per\\_sample &  test\\_time\\_per\\_sample \\\\\n",
      "\\midrule\n",
      "               5 &  0.875315 &   0.875201 & 0.875074 & 0.875074 &               0.000012 &              0.000001 \\\\\n",
      "              10 &  0.894575 &   0.894337 & 0.894358 & 0.894358 &               0.000021 &              0.000002 \\\\\n",
      "              20 &  0.904821 &   0.904599 & 0.904627 & 0.904627 &               0.000040 &              0.000004 \\\\\n",
      "              30 &  0.910699 &   0.910463 & 0.910540 & 0.910540 &               0.000061 &              0.000006 \\\\\n",
      "              50 &  0.916018 &   0.915632 & 0.915837 & 0.915837 &               0.000102 &              0.000009 \\\\\n",
      "             100 &  0.915234 &   0.914889 & 0.915042 & 0.915042 &               0.000201 &              0.000017 \\\\\n",
      "             200 &  0.917474 &   0.917097 & 0.917303 & 0.917303 &               0.000465 &              0.000041 \\\\\n",
      "             500 &  0.918426 &   0.918156 & 0.918236 & 0.918236 &               0.001127 &              0.000116 \\\\\n",
      "\\bottomrule\n",
      "\\end{tabular}\n",
      "\n"
     ]
    },
    {
     "name": "stderr",
     "output_type": "stream",
     "text": [
      "/var/folders/7l/08clpl7s5sg024cxlpgy5vtm0000gn/T/ipykernel_5235/2325076470.py:2: FutureWarning: In future versions `DataFrame.to_latex` is expected to utilise the base implementation of `Styler.to_latex` for formatting and rendering. The arguments signature may therefore change. It is recommended instead to use `DataFrame.style.to_latex` which also contains additional functionality.\n",
      "  latex_table = results_df.to_latex(index=False)\n"
     ]
    }
   ],
   "source": [
    "# Convert DataFrame to LaTeX table\n",
    "latex_table = results_df.to_latex(index=False)\n",
    "print(latex_table)"
   ]
  }
 ],
 "metadata": {
  "kernelspec": {
   "display_name": "dataScience",
   "language": "python",
   "name": "python3"
  },
  "language_info": {
   "codemirror_mode": {
    "name": "ipython",
    "version": 3
   },
   "file_extension": ".py",
   "mimetype": "text/x-python",
   "name": "python",
   "nbconvert_exporter": "python",
   "pygments_lexer": "ipython3",
   "version": "3.9.16"
  }
 },
 "nbformat": 4,
 "nbformat_minor": 2
}
