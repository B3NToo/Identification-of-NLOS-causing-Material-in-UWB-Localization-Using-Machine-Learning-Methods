{
 "cells": [
  {
   "attachments": {},
   "cell_type": "markdown",
   "metadata": {},
   "source": [
    "# Baseline MLP Classification Experiment"
   ]
  },
  {
   "cell_type": "code",
   "execution_count": 17,
   "metadata": {},
   "outputs": [],
   "source": [
    "import pandas as pd"
   ]
  },
  {
   "attachments": {},
   "cell_type": "markdown",
   "metadata": {},
   "source": [
    "## Data Handling"
   ]
  },
  {
   "cell_type": "code",
   "execution_count": 18,
   "metadata": {},
   "outputs": [
    {
     "data": {
      "text/html": [
       "<div>\n",
       "<style scoped>\n",
       "    .dataframe tbody tr th:only-of-type {\n",
       "        vertical-align: middle;\n",
       "    }\n",
       "\n",
       "    .dataframe tbody tr th {\n",
       "        vertical-align: top;\n",
       "    }\n",
       "\n",
       "    .dataframe thead th {\n",
       "        text-align: right;\n",
       "    }\n",
       "</style>\n",
       "<table border=\"1\" class=\"dataframe\">\n",
       "  <thead>\n",
       "    <tr style=\"text-align: right;\">\n",
       "      <th></th>\n",
       "      <th>tdoa12</th>\n",
       "      <th>tdoa21</th>\n",
       "      <th>snr_an1</th>\n",
       "      <th>power_dif_an1</th>\n",
       "      <th>snr_an2</th>\n",
       "      <th>power_dif_an2</th>\n",
       "      <th>an1_rx_snr</th>\n",
       "      <th>an1_rx_powerdif</th>\n",
       "      <th>an1_tof</th>\n",
       "      <th>an2_rx_snr</th>\n",
       "      <th>an2_rx_powerdif</th>\n",
       "      <th>an2_tof</th>\n",
       "    </tr>\n",
       "  </thead>\n",
       "  <tbody>\n",
       "    <tr>\n",
       "      <th>0</th>\n",
       "      <td>-0.319040</td>\n",
       "      <td>0.380033</td>\n",
       "      <td>24.450001</td>\n",
       "      <td>23.648659</td>\n",
       "      <td>153.833328</td>\n",
       "      <td>11.635933</td>\n",
       "      <td>132.000000</td>\n",
       "      <td>14.551033</td>\n",
       "      <td>5.037270</td>\n",
       "      <td>168.541672</td>\n",
       "      <td>13.384590</td>\n",
       "      <td>5.018502</td>\n",
       "    </tr>\n",
       "    <tr>\n",
       "      <th>1</th>\n",
       "      <td>-0.319040</td>\n",
       "      <td>0.380033</td>\n",
       "      <td>24.450001</td>\n",
       "      <td>23.648659</td>\n",
       "      <td>162.750000</td>\n",
       "      <td>11.179535</td>\n",
       "      <td>172.666672</td>\n",
       "      <td>14.281364</td>\n",
       "      <td>5.056036</td>\n",
       "      <td>176.125000</td>\n",
       "      <td>13.252098</td>\n",
       "      <td>5.041961</td>\n",
       "    </tr>\n",
       "    <tr>\n",
       "      <th>2</th>\n",
       "      <td>-0.319040</td>\n",
       "      <td>0.319040</td>\n",
       "      <td>14.928572</td>\n",
       "      <td>25.917366</td>\n",
       "      <td>162.750000</td>\n",
       "      <td>11.179535</td>\n",
       "      <td>203.149994</td>\n",
       "      <td>14.264801</td>\n",
       "      <td>5.088879</td>\n",
       "      <td>148.850006</td>\n",
       "      <td>13.729012</td>\n",
       "      <td>5.065420</td>\n",
       "    </tr>\n",
       "    <tr>\n",
       "      <th>3</th>\n",
       "      <td>-0.464485</td>\n",
       "      <td>0.319040</td>\n",
       "      <td>20.607143</td>\n",
       "      <td>26.443871</td>\n",
       "      <td>187.500000</td>\n",
       "      <td>11.430855</td>\n",
       "      <td>159.000000</td>\n",
       "      <td>13.419594</td>\n",
       "      <td>5.084187</td>\n",
       "      <td>174.600006</td>\n",
       "      <td>13.297188</td>\n",
       "      <td>5.056036</td>\n",
       "    </tr>\n",
       "    <tr>\n",
       "      <th>4</th>\n",
       "      <td>-0.300273</td>\n",
       "      <td>0.323732</td>\n",
       "      <td>26.416666</td>\n",
       "      <td>25.613457</td>\n",
       "      <td>161.416672</td>\n",
       "      <td>11.633659</td>\n",
       "      <td>226.899994</td>\n",
       "      <td>13.669937</td>\n",
       "      <td>5.060728</td>\n",
       "      <td>195.600006</td>\n",
       "      <td>13.437340</td>\n",
       "      <td>5.051345</td>\n",
       "    </tr>\n",
       "  </tbody>\n",
       "</table>\n",
       "</div>"
      ],
      "text/plain": [
       "     tdoa12    tdoa21    snr_an1  power_dif_an1     snr_an2  power_dif_an2  \\\n",
       "0 -0.319040  0.380033  24.450001      23.648659  153.833328      11.635933   \n",
       "1 -0.319040  0.380033  24.450001      23.648659  162.750000      11.179535   \n",
       "2 -0.319040  0.319040  14.928572      25.917366  162.750000      11.179535   \n",
       "3 -0.464485  0.319040  20.607143      26.443871  187.500000      11.430855   \n",
       "4 -0.300273  0.323732  26.416666      25.613457  161.416672      11.633659   \n",
       "\n",
       "   an1_rx_snr  an1_rx_powerdif   an1_tof  an2_rx_snr  an2_rx_powerdif  \\\n",
       "0  132.000000        14.551033  5.037270  168.541672        13.384590   \n",
       "1  172.666672        14.281364  5.056036  176.125000        13.252098   \n",
       "2  203.149994        14.264801  5.088879  148.850006        13.729012   \n",
       "3  159.000000        13.419594  5.084187  174.600006        13.297188   \n",
       "4  226.899994        13.669937  5.060728  195.600006        13.437340   \n",
       "\n",
       "    an2_tof  \n",
       "0  5.018502  \n",
       "1  5.041961  \n",
       "2  5.065420  \n",
       "3  5.056036  \n",
       "4  5.051345  "
      ]
     },
     "execution_count": 18,
     "metadata": {},
     "output_type": "execute_result"
    }
   ],
   "source": [
    "# load data\n",
    "tag_metal = \"../../my_data/identification-dataset/nlos/anTag/metal/data1/metal-anTag-data1_data.csv\"\n",
    "df_tag = pd.read_csv(tag_metal)\n",
    "df_tag.head()"
   ]
  },
  {
   "cell_type": "code",
   "execution_count": 19,
   "metadata": {},
   "outputs": [],
   "source": [
    "# splitting in anchor information\n",
    "df_an1 = df_tag[['tdoa12', 'snr_an1', 'power_dif_an1', 'an1_rx_snr', 'an1_rx_powerdif', 'an1_tof']].copy()\n",
    "df_an2 = df_tag[['tdoa21', 'snr_an2', 'power_dif_an2', 'an2_rx_snr', 'an2_rx_powerdif', 'an2_tof']].copy()"
   ]
  },
  {
   "cell_type": "code",
   "execution_count": 20,
   "metadata": {},
   "outputs": [],
   "source": [
    "# renaming cols\n",
    "df_an1.rename({'tdoa12':'tdoa', \n",
    "                   'snr_an1':'snr_an', \n",
    "                   'power_dif_an1':'power_dif', \n",
    "                   'an1_rx_snr':'rx_snr', \n",
    "                   'an1_rx_powerdif':'rx_powerdif', \n",
    "                   'an1_tof':'tof'}, axis=1, inplace=True)\n",
    "\n",
    "df_an2.rename({'tdoa21':'tdoa',\n",
    "                   'snr_an2':'snr_an', \n",
    "                   'power_dif_an2':'power_dif', \n",
    "                   'an2_rx_snr':'rx_snr', \n",
    "                   'an2_rx_powerdif':'rx_powerdif', \n",
    "                   'an2_tof':'tof'}, axis=1, inplace=True)"
   ]
  },
  {
   "cell_type": "code",
   "execution_count": 21,
   "metadata": {},
   "outputs": [],
   "source": [
    "# adding information of nlos causing object\n",
    "df_an1['NLOS_material'] = 1 # metal\n",
    "df_an2['NLOS_material'] = 0 # nothing"
   ]
  },
  {
   "cell_type": "code",
   "execution_count": 22,
   "metadata": {},
   "outputs": [
    {
     "data": {
      "text/html": [
       "<div>\n",
       "<style scoped>\n",
       "    .dataframe tbody tr th:only-of-type {\n",
       "        vertical-align: middle;\n",
       "    }\n",
       "\n",
       "    .dataframe tbody tr th {\n",
       "        vertical-align: top;\n",
       "    }\n",
       "\n",
       "    .dataframe thead th {\n",
       "        text-align: right;\n",
       "    }\n",
       "</style>\n",
       "<table border=\"1\" class=\"dataframe\">\n",
       "  <thead>\n",
       "    <tr style=\"text-align: right;\">\n",
       "      <th></th>\n",
       "      <th>tdoa</th>\n",
       "      <th>snr_an</th>\n",
       "      <th>power_dif</th>\n",
       "      <th>rx_snr</th>\n",
       "      <th>rx_powerdif</th>\n",
       "      <th>tof</th>\n",
       "      <th>NLOS_material</th>\n",
       "    </tr>\n",
       "  </thead>\n",
       "  <tbody>\n",
       "    <tr>\n",
       "      <th>0</th>\n",
       "      <td>-0.319040</td>\n",
       "      <td>24.450001</td>\n",
       "      <td>23.648659</td>\n",
       "      <td>132.000000</td>\n",
       "      <td>14.551033</td>\n",
       "      <td>5.037270</td>\n",
       "      <td>1</td>\n",
       "    </tr>\n",
       "    <tr>\n",
       "      <th>1</th>\n",
       "      <td>-0.319040</td>\n",
       "      <td>24.450001</td>\n",
       "      <td>23.648659</td>\n",
       "      <td>172.666672</td>\n",
       "      <td>14.281364</td>\n",
       "      <td>5.056036</td>\n",
       "      <td>1</td>\n",
       "    </tr>\n",
       "    <tr>\n",
       "      <th>2</th>\n",
       "      <td>-0.319040</td>\n",
       "      <td>14.928572</td>\n",
       "      <td>25.917366</td>\n",
       "      <td>203.149994</td>\n",
       "      <td>14.264801</td>\n",
       "      <td>5.088879</td>\n",
       "      <td>1</td>\n",
       "    </tr>\n",
       "    <tr>\n",
       "      <th>3</th>\n",
       "      <td>-0.464485</td>\n",
       "      <td>20.607143</td>\n",
       "      <td>26.443871</td>\n",
       "      <td>159.000000</td>\n",
       "      <td>13.419594</td>\n",
       "      <td>5.084187</td>\n",
       "      <td>1</td>\n",
       "    </tr>\n",
       "    <tr>\n",
       "      <th>4</th>\n",
       "      <td>-0.300273</td>\n",
       "      <td>26.416666</td>\n",
       "      <td>25.613457</td>\n",
       "      <td>226.899994</td>\n",
       "      <td>13.669937</td>\n",
       "      <td>5.060728</td>\n",
       "      <td>1</td>\n",
       "    </tr>\n",
       "  </tbody>\n",
       "</table>\n",
       "</div>"
      ],
      "text/plain": [
       "       tdoa     snr_an  power_dif      rx_snr  rx_powerdif       tof  \\\n",
       "0 -0.319040  24.450001  23.648659  132.000000    14.551033  5.037270   \n",
       "1 -0.319040  24.450001  23.648659  172.666672    14.281364  5.056036   \n",
       "2 -0.319040  14.928572  25.917366  203.149994    14.264801  5.088879   \n",
       "3 -0.464485  20.607143  26.443871  159.000000    13.419594  5.084187   \n",
       "4 -0.300273  26.416666  25.613457  226.899994    13.669937  5.060728   \n",
       "\n",
       "   NLOS_material  \n",
       "0              1  \n",
       "1              1  \n",
       "2              1  \n",
       "3              1  \n",
       "4              1  "
      ]
     },
     "execution_count": 22,
     "metadata": {},
     "output_type": "execute_result"
    }
   ],
   "source": [
    "df = pd.concat([df_an1, df_an1], ignore_index=True, sort=False)\n",
    "df.head()"
   ]
  },
  {
   "cell_type": "code",
   "execution_count": 23,
   "metadata": {},
   "outputs": [],
   "source": [
    "df.dropna(inplace=True)"
   ]
  },
  {
   "attachments": {},
   "cell_type": "markdown",
   "metadata": {},
   "source": [
    "## Classifying "
   ]
  },
  {
   "cell_type": "code",
   "execution_count": 24,
   "metadata": {},
   "outputs": [],
   "source": [
    "# Import modules from Scikit-learn\n",
    "from sklearn.neural_network import MLPClassifier\n",
    "from sklearn.model_selection import train_test_split   # Import train_test_split function\n",
    "from sklearn import metrics   # import metrics modules for accuracy calculation\n",
    "from sklearn.preprocessing import StandardScaler\n",
    "from sklearn.pipeline import make_pipeline"
   ]
  },
  {
   "cell_type": "code",
   "execution_count": 25,
   "metadata": {},
   "outputs": [],
   "source": [
    "# Create a pipeline object for the model\n",
    "pipe_MLP = make_pipeline(StandardScaler(),\n",
    "                         MLPClassifier(solver='adam',\n",
    "                                       hidden_layer_sizes=(100,100,100,), # 3 hidden layers with (100x100x100) neurons\n",
    "                                       random_state=0,\n",
    "                                       max_iter=500,           # TODO: tune it later\n",
    "                                       verbose=True\n",
    "                                       )\n",
    "                         )"
   ]
  },
  {
   "cell_type": "code",
   "execution_count": 26,
   "metadata": {},
   "outputs": [],
   "source": [
    "# Extracted features \n",
    "X = df[['tdoa', 'snr_an', 'power_dif', 'rx_snr', 'rx_powerdif', 'tof', 'NLOS_material']]\n",
    "y = df['NLOS_material'] # Labels"
   ]
  },
  {
   "cell_type": "code",
   "execution_count": 27,
   "metadata": {},
   "outputs": [],
   "source": [
    "# Split dataset into training and test set\n",
    "X_train, X_test, y_train, y_test = train_test_split(X, y, test_size = 0.3) # 70% training and 30% test"
   ]
  },
  {
   "cell_type": "code",
   "execution_count": 28,
   "metadata": {},
   "outputs": [
    {
     "name": "stdout",
     "output_type": "stream",
     "text": [
      "Iteration 1, loss = 0.49575595\n",
      "Iteration 2, loss = 0.08588530\n",
      "Iteration 3, loss = 0.00607879\n",
      "Iteration 4, loss = 0.00107773\n",
      "Iteration 5, loss = 0.00054503\n",
      "Iteration 6, loss = 0.00040640\n",
      "Iteration 7, loss = 0.00033829\n",
      "Iteration 8, loss = 0.00029273\n",
      "Iteration 9, loss = 0.00025289\n",
      "Iteration 10, loss = 0.00021022\n",
      "Iteration 11, loss = 0.00017196\n",
      "Iteration 12, loss = 0.00014148\n",
      "Iteration 13, loss = 0.00011911\n",
      "Iteration 14, loss = 0.00010358\n",
      "Iteration 15, loss = 0.00009264\n",
      "Iteration 16, loss = 0.00008508\n",
      "Iteration 17, loss = 0.00007965\n",
      "Training loss did not improve more than tol=0.000100 for 10 consecutive epochs. Stopping.\n"
     ]
    },
    {
     "data": {
      "text/plain": [
       "Pipeline(steps=[('standardscaler', StandardScaler()),\n",
       "                ('mlpclassifier',\n",
       "                 MLPClassifier(hidden_layer_sizes=(100, 100, 100), max_iter=500,\n",
       "                               random_state=0, verbose=True))])"
      ]
     },
     "execution_count": 28,
     "metadata": {},
     "output_type": "execute_result"
    }
   ],
   "source": [
    "# Train the whole pipeline\n",
    "pipe_MLP.fit(X_train, y_train)"
   ]
  },
  {
   "cell_type": "code",
   "execution_count": 29,
   "metadata": {},
   "outputs": [],
   "source": [
    "y_pred = pipe_MLP.predict(X_test)"
   ]
  },
  {
   "cell_type": "code",
   "execution_count": 30,
   "metadata": {},
   "outputs": [
    {
     "name": "stdout",
     "output_type": "stream",
     "text": [
      "Test Accuracy: 100.0%\n"
     ]
    }
   ],
   "source": [
    "print(f'Test Accuracy: {metrics.accuracy_score(y_test, y_pred) * 100}%')"
   ]
  }
 ],
 "metadata": {
  "kernelspec": {
   "display_name": "dataScience",
   "language": "python",
   "name": "python3"
  },
  "language_info": {
   "codemirror_mode": {
    "name": "ipython",
    "version": 3
   },
   "file_extension": ".py",
   "mimetype": "text/x-python",
   "name": "python",
   "nbconvert_exporter": "python",
   "pygments_lexer": "ipython3",
   "version": "3.9.16"
  },
  "orig_nbformat": 4
 },
 "nbformat": 4,
 "nbformat_minor": 2
}
