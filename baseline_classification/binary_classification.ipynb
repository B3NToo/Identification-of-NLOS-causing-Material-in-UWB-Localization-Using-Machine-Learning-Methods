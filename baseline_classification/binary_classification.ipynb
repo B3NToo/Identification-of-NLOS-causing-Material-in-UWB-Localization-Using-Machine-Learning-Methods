{
 "cells": [
  {
   "cell_type": "code",
   "execution_count": 1,
   "metadata": {},
   "outputs": [],
   "source": [
    "# Import modules from Scikit-learn\n",
    "from sklearn.neural_network import MLPClassifier\n",
    "from sklearn.model_selection import train_test_split   # Import train_test_split function\n",
    "from sklearn import metrics   # import metrics modules for accuracy calculation\n",
    "from sklearn.preprocessing import StandardScaler\n",
    "from sklearn.pipeline import make_pipeline\n",
    "import pandas as pd"
   ]
  },
  {
   "attachments": {},
   "cell_type": "markdown",
   "metadata": {},
   "source": [
    "# Baseline MLP Binary Classification Experiment on Big Data"
   ]
  },
  {
   "attachments": {},
   "cell_type": "markdown",
   "metadata": {},
   "source": [
    "This experiment focuses on classifying LOS from NLOS condition "
   ]
  },
  {
   "cell_type": "code",
   "execution_count": 2,
   "metadata": {},
   "outputs": [],
   "source": [
    "PATH = \"../../my_data/identification-dataset/my_custom_data/big-identification-dataset.csv\"\n",
    "df = pd.read_csv(PATH)\n",
    "\n",
    "df.dropna(inplace=True)"
   ]
  },
  {
   "cell_type": "code",
   "execution_count": 3,
   "metadata": {},
   "outputs": [],
   "source": [
    "# Create a pipeline object for the model\n",
    "pipe_MLP = make_pipeline(StandardScaler(),\n",
    "                         MLPClassifier(solver='adam',\n",
    "                                       hidden_layer_sizes=(100,100,100,100),\n",
    "                                       random_state=0,\n",
    "                                       max_iter=500,           # TODO: tune it later\n",
    "                                       verbose=True\n",
    "                                       )\n",
    "                         )"
   ]
  },
  {
   "cell_type": "code",
   "execution_count": 4,
   "metadata": {},
   "outputs": [
    {
     "data": {
      "text/plain": [
       "array([1, 0, 2, 3, 4, 5, 6])"
      ]
     },
     "execution_count": 4,
     "metadata": {},
     "output_type": "execute_result"
    }
   ],
   "source": [
    "df.NLOS_material.unique()"
   ]
  },
  {
   "cell_type": "code",
   "execution_count": 5,
   "metadata": {},
   "outputs": [],
   "source": [
    "split_df = pd.get_dummies(df['NLOS_material'], prefix='value')"
   ]
  },
  {
   "cell_type": "code",
   "execution_count": 6,
   "metadata": {},
   "outputs": [],
   "source": [
    "df = pd.concat([df, split_df], axis=1)"
   ]
  },
  {
   "cell_type": "code",
   "execution_count": 7,
   "metadata": {},
   "outputs": [
    {
     "data": {
      "text/html": [
       "<div>\n",
       "<style scoped>\n",
       "    .dataframe tbody tr th:only-of-type {\n",
       "        vertical-align: middle;\n",
       "    }\n",
       "\n",
       "    .dataframe tbody tr th {\n",
       "        vertical-align: top;\n",
       "    }\n",
       "\n",
       "    .dataframe thead th {\n",
       "        text-align: right;\n",
       "    }\n",
       "</style>\n",
       "<table border=\"1\" class=\"dataframe\">\n",
       "  <thead>\n",
       "    <tr style=\"text-align: right;\">\n",
       "      <th></th>\n",
       "      <th>tdoa</th>\n",
       "      <th>snr_an</th>\n",
       "      <th>power_dif</th>\n",
       "      <th>rx_snr</th>\n",
       "      <th>rx_powerdif</th>\n",
       "      <th>tof</th>\n",
       "      <th>material</th>\n",
       "      <th>NLOS_material</th>\n",
       "      <th>value_0</th>\n",
       "      <th>value_1</th>\n",
       "      <th>value_2</th>\n",
       "      <th>value_3</th>\n",
       "      <th>value_4</th>\n",
       "      <th>value_5</th>\n",
       "      <th>value_6</th>\n",
       "    </tr>\n",
       "  </thead>\n",
       "  <tbody>\n",
       "    <tr>\n",
       "      <th>0</th>\n",
       "      <td>-0.211129</td>\n",
       "      <td>145.678574</td>\n",
       "      <td>10.307022</td>\n",
       "      <td>215.300003</td>\n",
       "      <td>11.049919</td>\n",
       "      <td>5.009119</td>\n",
       "      <td>cardboard</td>\n",
       "      <td>1</td>\n",
       "      <td>0</td>\n",
       "      <td>1</td>\n",
       "      <td>0</td>\n",
       "      <td>0</td>\n",
       "      <td>0</td>\n",
       "      <td>0</td>\n",
       "      <td>0</td>\n",
       "    </tr>\n",
       "    <tr>\n",
       "      <th>1</th>\n",
       "      <td>-0.197054</td>\n",
       "      <td>134.321426</td>\n",
       "      <td>10.824654</td>\n",
       "      <td>192.000000</td>\n",
       "      <td>11.397888</td>\n",
       "      <td>5.027886</td>\n",
       "      <td>cardboard</td>\n",
       "      <td>1</td>\n",
       "      <td>0</td>\n",
       "      <td>1</td>\n",
       "      <td>0</td>\n",
       "      <td>0</td>\n",
       "      <td>0</td>\n",
       "      <td>0</td>\n",
       "      <td>0</td>\n",
       "    </tr>\n",
       "    <tr>\n",
       "      <th>2</th>\n",
       "      <td>-0.197054</td>\n",
       "      <td>134.321426</td>\n",
       "      <td>10.824654</td>\n",
       "      <td>236.149994</td>\n",
       "      <td>9.844360</td>\n",
       "      <td>5.065420</td>\n",
       "      <td>cardboard</td>\n",
       "      <td>1</td>\n",
       "      <td>0</td>\n",
       "      <td>1</td>\n",
       "      <td>0</td>\n",
       "      <td>0</td>\n",
       "      <td>0</td>\n",
       "      <td>0</td>\n",
       "      <td>0</td>\n",
       "    </tr>\n",
       "    <tr>\n",
       "      <th>3</th>\n",
       "      <td>-0.248663</td>\n",
       "      <td>104.107140</td>\n",
       "      <td>11.064209</td>\n",
       "      <td>236.149994</td>\n",
       "      <td>9.844360</td>\n",
       "      <td>5.065420</td>\n",
       "      <td>cardboard</td>\n",
       "      <td>1</td>\n",
       "      <td>0</td>\n",
       "      <td>1</td>\n",
       "      <td>0</td>\n",
       "      <td>0</td>\n",
       "      <td>0</td>\n",
       "      <td>0</td>\n",
       "      <td>0</td>\n",
       "    </tr>\n",
       "    <tr>\n",
       "      <th>4</th>\n",
       "      <td>-0.182979</td>\n",
       "      <td>113.250000</td>\n",
       "      <td>10.954155</td>\n",
       "      <td>185.000000</td>\n",
       "      <td>10.330307</td>\n",
       "      <td>5.027886</td>\n",
       "      <td>cardboard</td>\n",
       "      <td>1</td>\n",
       "      <td>0</td>\n",
       "      <td>1</td>\n",
       "      <td>0</td>\n",
       "      <td>0</td>\n",
       "      <td>0</td>\n",
       "      <td>0</td>\n",
       "      <td>0</td>\n",
       "    </tr>\n",
       "  </tbody>\n",
       "</table>\n",
       "</div>"
      ],
      "text/plain": [
       "       tdoa      snr_an  power_dif      rx_snr  rx_powerdif       tof  \\\n",
       "0 -0.211129  145.678574  10.307022  215.300003    11.049919  5.009119   \n",
       "1 -0.197054  134.321426  10.824654  192.000000    11.397888  5.027886   \n",
       "2 -0.197054  134.321426  10.824654  236.149994     9.844360  5.065420   \n",
       "3 -0.248663  104.107140  11.064209  236.149994     9.844360  5.065420   \n",
       "4 -0.182979  113.250000  10.954155  185.000000    10.330307  5.027886   \n",
       "\n",
       "    material  NLOS_material  value_0  value_1  value_2  value_3  value_4  \\\n",
       "0  cardboard              1        0        1        0        0        0   \n",
       "1  cardboard              1        0        1        0        0        0   \n",
       "2  cardboard              1        0        1        0        0        0   \n",
       "3  cardboard              1        0        1        0        0        0   \n",
       "4  cardboard              1        0        1        0        0        0   \n",
       "\n",
       "   value_5  value_6  \n",
       "0        0        0  \n",
       "1        0        0  \n",
       "2        0        0  \n",
       "3        0        0  \n",
       "4        0        0  "
      ]
     },
     "execution_count": 7,
     "metadata": {},
     "output_type": "execute_result"
    }
   ],
   "source": [
    "df.head()"
   ]
  },
  {
   "cell_type": "code",
   "execution_count": 8,
   "metadata": {},
   "outputs": [],
   "source": [
    "# Extracted features \n",
    "X = df[['tdoa', 'snr_an', 'power_dif', 'rx_snr', 'rx_powerdif', 'tof']]\n",
    "y = df['value_0'] # Labels"
   ]
  },
  {
   "cell_type": "code",
   "execution_count": 9,
   "metadata": {},
   "outputs": [],
   "source": [
    "# Split dataset into training and test set\n",
    "X_train, X_test, y_train, y_test = train_test_split(X, y, test_size = 0.3) # 70% training and 30% test"
   ]
  },
  {
   "cell_type": "code",
   "execution_count": 10,
   "metadata": {},
   "outputs": [
    {
     "name": "stdout",
     "output_type": "stream",
     "text": [
      "Iteration 1, loss = 0.06771659\n",
      "Iteration 2, loss = 0.00716183\n",
      "Iteration 3, loss = 0.00613307\n",
      "Iteration 4, loss = 0.00519224\n",
      "Iteration 5, loss = 0.00466035\n",
      "Iteration 6, loss = 0.00422203\n",
      "Iteration 7, loss = 0.00365073\n",
      "Iteration 8, loss = 0.00348743\n",
      "Iteration 9, loss = 0.00301276\n",
      "Iteration 10, loss = 0.00357536\n",
      "Iteration 11, loss = 0.00289880\n",
      "Iteration 12, loss = 0.00347484\n",
      "Iteration 13, loss = 0.00294746\n",
      "Iteration 14, loss = 0.00255039\n",
      "Iteration 15, loss = 0.00249603\n",
      "Iteration 16, loss = 0.00252471\n",
      "Iteration 17, loss = 0.00231372\n",
      "Iteration 18, loss = 0.00244725\n",
      "Iteration 19, loss = 0.00259587\n",
      "Iteration 20, loss = 0.00211972\n",
      "Iteration 21, loss = 0.00251904\n",
      "Iteration 22, loss = 0.00225132\n",
      "Iteration 23, loss = 0.00233650\n",
      "Iteration 24, loss = 0.00234463\n",
      "Iteration 25, loss = 0.00271153\n",
      "Iteration 26, loss = 0.00209310\n",
      "Iteration 27, loss = 0.00186881\n",
      "Iteration 28, loss = 0.00189471\n",
      "Iteration 29, loss = 0.00182155\n",
      "Iteration 30, loss = 0.00179404\n",
      "Iteration 31, loss = 0.00213159\n",
      "Iteration 32, loss = 0.00165354\n",
      "Iteration 33, loss = 0.00168889\n",
      "Iteration 34, loss = 0.00199489\n",
      "Iteration 35, loss = 0.00181763\n",
      "Iteration 36, loss = 0.00165826\n",
      "Iteration 37, loss = 0.00129474\n",
      "Iteration 38, loss = 0.00178667\n",
      "Iteration 39, loss = 0.00277782\n",
      "Iteration 40, loss = 0.00152083\n",
      "Iteration 41, loss = 0.00149116\n",
      "Iteration 42, loss = 0.00136907\n",
      "Iteration 43, loss = 0.00138790\n",
      "Iteration 44, loss = 0.00131336\n",
      "Iteration 45, loss = 0.00135791\n",
      "Iteration 46, loss = 0.00138746\n",
      "Iteration 47, loss = 0.00127076\n",
      "Iteration 48, loss = 0.00124891\n",
      "Training loss did not improve more than tol=0.000100 for 10 consecutive epochs. Stopping.\n"
     ]
    },
    {
     "data": {
      "text/plain": [
       "Pipeline(steps=[('standardscaler', StandardScaler()),\n",
       "                ('mlpclassifier',\n",
       "                 MLPClassifier(hidden_layer_sizes=(100, 100, 100, 100),\n",
       "                               max_iter=500, random_state=0, verbose=True))])"
      ]
     },
     "execution_count": 10,
     "metadata": {},
     "output_type": "execute_result"
    }
   ],
   "source": [
    "# Train the whole pipeline\n",
    "pipe_MLP.fit(X_train, y_train)"
   ]
  },
  {
   "cell_type": "code",
   "execution_count": 11,
   "metadata": {},
   "outputs": [],
   "source": [
    "# Make predictions on the test data\n",
    "y_pred = pipe_MLP.predict(X_test)"
   ]
  },
  {
   "cell_type": "code",
   "execution_count": 12,
   "metadata": {},
   "outputs": [
    {
     "name": "stdout",
     "output_type": "stream",
     "text": [
      "Test Accuracy: 99.93319229484467%\n"
     ]
    }
   ],
   "source": [
    "# Caluclate the accuracy on test data predicitons\n",
    "print(f'Test Accuracy: {metrics.accuracy_score(y_test, y_pred) * 100}%')"
   ]
  }
 ],
 "metadata": {
  "kernelspec": {
   "display_name": "dataScience",
   "language": "python",
   "name": "python3"
  },
  "language_info": {
   "codemirror_mode": {
    "name": "ipython",
    "version": 3
   },
   "file_extension": ".py",
   "mimetype": "text/x-python",
   "name": "python",
   "nbconvert_exporter": "python",
   "pygments_lexer": "ipython3",
   "version": "3.9.16"
  },
  "orig_nbformat": 4
 },
 "nbformat": 4,
 "nbformat_minor": 2
}
