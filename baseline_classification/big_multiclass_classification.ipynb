{
 "cells": [
  {
   "cell_type": "code",
   "execution_count": 25,
   "metadata": {},
   "outputs": [],
   "source": [
    "import pandas as pd"
   ]
  },
  {
   "attachments": {},
   "cell_type": "markdown",
   "metadata": {},
   "source": [
    "# Baseline MLP Binary Classification Experiment on Big Data"
   ]
  },
  {
   "cell_type": "code",
   "execution_count": 26,
   "metadata": {},
   "outputs": [],
   "source": [
    "PATH = \"../../my_data/identification-dataset/my_custom_data/big-identification-dataset.csv\"\n",
    "df = pd.read_csv(PATH)"
   ]
  },
  {
   "cell_type": "code",
   "execution_count": 27,
   "metadata": {},
   "outputs": [
    {
     "name": "stdout",
     "output_type": "stream",
     "text": [
      "<class 'pandas.core.frame.DataFrame'>\n",
      "RangeIndex: 160260 entries, 0 to 160259\n",
      "Data columns (total 8 columns):\n",
      " #   Column         Non-Null Count   Dtype  \n",
      "---  ------         --------------   -----  \n",
      " 0   tdoa           160260 non-null  float64\n",
      " 1   snr_an         160260 non-null  float64\n",
      " 2   power_dif      160213 non-null  float64\n",
      " 3   rx_snr         119746 non-null  float64\n",
      " 4   rx_powerdif    119744 non-null  float64\n",
      " 5   tof            119746 non-null  float64\n",
      " 6   material       160260 non-null  object \n",
      " 7   NLOS_material  160260 non-null  int64  \n",
      "dtypes: float64(6), int64(1), object(1)\n",
      "memory usage: 9.8+ MB\n"
     ]
    }
   ],
   "source": [
    "df.info()"
   ]
  },
  {
   "cell_type": "code",
   "execution_count": 28,
   "metadata": {},
   "outputs": [
    {
     "data": {
      "text/html": [
       "<div>\n",
       "<style scoped>\n",
       "    .dataframe tbody tr th:only-of-type {\n",
       "        vertical-align: middle;\n",
       "    }\n",
       "\n",
       "    .dataframe tbody tr th {\n",
       "        vertical-align: top;\n",
       "    }\n",
       "\n",
       "    .dataframe thead th {\n",
       "        text-align: right;\n",
       "    }\n",
       "</style>\n",
       "<table border=\"1\" class=\"dataframe\">\n",
       "  <thead>\n",
       "    <tr style=\"text-align: right;\">\n",
       "      <th></th>\n",
       "      <th>tdoa</th>\n",
       "      <th>snr_an</th>\n",
       "      <th>power_dif</th>\n",
       "      <th>rx_snr</th>\n",
       "      <th>rx_powerdif</th>\n",
       "      <th>tof</th>\n",
       "      <th>material</th>\n",
       "      <th>NLOS_material</th>\n",
       "    </tr>\n",
       "  </thead>\n",
       "  <tbody>\n",
       "    <tr>\n",
       "      <th>0</th>\n",
       "      <td>-0.211129</td>\n",
       "      <td>145.678574</td>\n",
       "      <td>10.307022</td>\n",
       "      <td>215.300003</td>\n",
       "      <td>11.049919</td>\n",
       "      <td>5.009119</td>\n",
       "      <td>cardboard</td>\n",
       "      <td>1</td>\n",
       "    </tr>\n",
       "    <tr>\n",
       "      <th>1</th>\n",
       "      <td>-0.197054</td>\n",
       "      <td>134.321426</td>\n",
       "      <td>10.824654</td>\n",
       "      <td>192.000000</td>\n",
       "      <td>11.397888</td>\n",
       "      <td>5.027886</td>\n",
       "      <td>cardboard</td>\n",
       "      <td>1</td>\n",
       "    </tr>\n",
       "    <tr>\n",
       "      <th>2</th>\n",
       "      <td>-0.197054</td>\n",
       "      <td>134.321426</td>\n",
       "      <td>10.824654</td>\n",
       "      <td>236.149994</td>\n",
       "      <td>9.844360</td>\n",
       "      <td>5.065420</td>\n",
       "      <td>cardboard</td>\n",
       "      <td>1</td>\n",
       "    </tr>\n",
       "    <tr>\n",
       "      <th>3</th>\n",
       "      <td>-0.248663</td>\n",
       "      <td>104.107140</td>\n",
       "      <td>11.064209</td>\n",
       "      <td>236.149994</td>\n",
       "      <td>9.844360</td>\n",
       "      <td>5.065420</td>\n",
       "      <td>cardboard</td>\n",
       "      <td>1</td>\n",
       "    </tr>\n",
       "    <tr>\n",
       "      <th>4</th>\n",
       "      <td>-0.182979</td>\n",
       "      <td>113.250000</td>\n",
       "      <td>10.954155</td>\n",
       "      <td>185.000000</td>\n",
       "      <td>10.330307</td>\n",
       "      <td>5.027886</td>\n",
       "      <td>cardboard</td>\n",
       "      <td>1</td>\n",
       "    </tr>\n",
       "  </tbody>\n",
       "</table>\n",
       "</div>"
      ],
      "text/plain": [
       "       tdoa      snr_an  power_dif      rx_snr  rx_powerdif       tof  \\\n",
       "0 -0.211129  145.678574  10.307022  215.300003    11.049919  5.009119   \n",
       "1 -0.197054  134.321426  10.824654  192.000000    11.397888  5.027886   \n",
       "2 -0.197054  134.321426  10.824654  236.149994     9.844360  5.065420   \n",
       "3 -0.248663  104.107140  11.064209  236.149994     9.844360  5.065420   \n",
       "4 -0.182979  113.250000  10.954155  185.000000    10.330307  5.027886   \n",
       "\n",
       "    material  NLOS_material  \n",
       "0  cardboard              1  \n",
       "1  cardboard              1  \n",
       "2  cardboard              1  \n",
       "3  cardboard              1  \n",
       "4  cardboard              1  "
      ]
     },
     "execution_count": 28,
     "metadata": {},
     "output_type": "execute_result"
    }
   ],
   "source": [
    "df.head()"
   ]
  },
  {
   "cell_type": "code",
   "execution_count": 29,
   "metadata": {},
   "outputs": [
    {
     "data": {
      "text/html": [
       "<div>\n",
       "<style scoped>\n",
       "    .dataframe tbody tr th:only-of-type {\n",
       "        vertical-align: middle;\n",
       "    }\n",
       "\n",
       "    .dataframe tbody tr th {\n",
       "        vertical-align: top;\n",
       "    }\n",
       "\n",
       "    .dataframe thead th {\n",
       "        text-align: right;\n",
       "    }\n",
       "</style>\n",
       "<table border=\"1\" class=\"dataframe\">\n",
       "  <thead>\n",
       "    <tr style=\"text-align: right;\">\n",
       "      <th></th>\n",
       "      <th>tdoa</th>\n",
       "      <th>snr_an</th>\n",
       "      <th>power_dif</th>\n",
       "      <th>rx_snr</th>\n",
       "      <th>rx_powerdif</th>\n",
       "      <th>tof</th>\n",
       "      <th>NLOS_material</th>\n",
       "    </tr>\n",
       "  </thead>\n",
       "  <tbody>\n",
       "    <tr>\n",
       "      <th>count</th>\n",
       "      <td>160260.000000</td>\n",
       "      <td>160260.000000</td>\n",
       "      <td>160213.000000</td>\n",
       "      <td>119746.000000</td>\n",
       "      <td>119744.000000</td>\n",
       "      <td>119746.000000</td>\n",
       "      <td>160260.000000</td>\n",
       "    </tr>\n",
       "    <tr>\n",
       "      <th>mean</th>\n",
       "      <td>-0.016624</td>\n",
       "      <td>120.816046</td>\n",
       "      <td>12.867739</td>\n",
       "      <td>198.812671</td>\n",
       "      <td>11.032414</td>\n",
       "      <td>5.043572</td>\n",
       "      <td>1.752352</td>\n",
       "    </tr>\n",
       "    <tr>\n",
       "      <th>std</th>\n",
       "      <td>2.262903</td>\n",
       "      <td>39.969214</td>\n",
       "      <td>3.813719</td>\n",
       "      <td>31.198747</td>\n",
       "      <td>1.248188</td>\n",
       "      <td>0.022086</td>\n",
       "      <td>2.127614</td>\n",
       "    </tr>\n",
       "    <tr>\n",
       "      <th>min</th>\n",
       "      <td>-373.351807</td>\n",
       "      <td>6.208333</td>\n",
       "      <td>-17.027435</td>\n",
       "      <td>0.118671</td>\n",
       "      <td>-35.275032</td>\n",
       "      <td>4.952817</td>\n",
       "      <td>0.000000</td>\n",
       "    </tr>\n",
       "    <tr>\n",
       "      <th>25%</th>\n",
       "      <td>-0.211129</td>\n",
       "      <td>109.790176</td>\n",
       "      <td>11.160553</td>\n",
       "      <td>177.791672</td>\n",
       "      <td>10.306816</td>\n",
       "      <td>5.027886</td>\n",
       "      <td>0.000000</td>\n",
       "    </tr>\n",
       "    <tr>\n",
       "      <th>50%</th>\n",
       "      <td>-0.011729</td>\n",
       "      <td>127.750000</td>\n",
       "      <td>12.240959</td>\n",
       "      <td>198.449997</td>\n",
       "      <td>10.761261</td>\n",
       "      <td>5.041961</td>\n",
       "      <td>0.500000</td>\n",
       "    </tr>\n",
       "    <tr>\n",
       "      <th>75%</th>\n",
       "      <td>0.211129</td>\n",
       "      <td>144.125000</td>\n",
       "      <td>12.946327</td>\n",
       "      <td>222.399994</td>\n",
       "      <td>11.368462</td>\n",
       "      <td>5.056036</td>\n",
       "      <td>4.000000</td>\n",
       "    </tr>\n",
       "    <tr>\n",
       "      <th>max</th>\n",
       "      <td>4.077143</td>\n",
       "      <td>326.200012</td>\n",
       "      <td>33.626175</td>\n",
       "      <td>330.000000</td>\n",
       "      <td>36.156631</td>\n",
       "      <td>5.145180</td>\n",
       "      <td>6.000000</td>\n",
       "    </tr>\n",
       "  </tbody>\n",
       "</table>\n",
       "</div>"
      ],
      "text/plain": [
       "                tdoa         snr_an      power_dif         rx_snr  \\\n",
       "count  160260.000000  160260.000000  160213.000000  119746.000000   \n",
       "mean       -0.016624     120.816046      12.867739     198.812671   \n",
       "std         2.262903      39.969214       3.813719      31.198747   \n",
       "min      -373.351807       6.208333     -17.027435       0.118671   \n",
       "25%        -0.211129     109.790176      11.160553     177.791672   \n",
       "50%        -0.011729     127.750000      12.240959     198.449997   \n",
       "75%         0.211129     144.125000      12.946327     222.399994   \n",
       "max         4.077143     326.200012      33.626175     330.000000   \n",
       "\n",
       "         rx_powerdif            tof  NLOS_material  \n",
       "count  119744.000000  119746.000000  160260.000000  \n",
       "mean       11.032414       5.043572       1.752352  \n",
       "std         1.248188       0.022086       2.127614  \n",
       "min       -35.275032       4.952817       0.000000  \n",
       "25%        10.306816       5.027886       0.000000  \n",
       "50%        10.761261       5.041961       0.500000  \n",
       "75%        11.368462       5.056036       4.000000  \n",
       "max        36.156631       5.145180       6.000000  "
      ]
     },
     "execution_count": 29,
     "metadata": {},
     "output_type": "execute_result"
    }
   ],
   "source": [
    "df.describe()"
   ]
  },
  {
   "cell_type": "code",
   "execution_count": 30,
   "metadata": {},
   "outputs": [
    {
     "data": {
      "text/plain": [
       "array([1, 0, 2, 3, 4, 5, 6])"
      ]
     },
     "execution_count": 30,
     "metadata": {},
     "output_type": "execute_result"
    }
   ],
   "source": [
    "df['NLOS_material'].unique()"
   ]
  },
  {
   "attachments": {},
   "cell_type": "markdown",
   "metadata": {},
   "source": [
    "## Classification"
   ]
  },
  {
   "cell_type": "code",
   "execution_count": 32,
   "metadata": {},
   "outputs": [],
   "source": [
    "# Import modules from Scikit-learn\n",
    "from sklearn.neural_network import MLPClassifier\n",
    "from sklearn.model_selection import train_test_split   # Import train_test_split function\n",
    "from sklearn import metrics   # import metrics modules for accuracy calculation\n",
    "from sklearn.preprocessing import StandardScaler\n",
    "from sklearn.pipeline import make_pipeline"
   ]
  },
  {
   "cell_type": "code",
   "execution_count": 33,
   "metadata": {},
   "outputs": [],
   "source": [
    "# Create a pipeline object for the model\n",
    "pipe_MLP = make_pipeline(StandardScaler(),\n",
    "                         MLPClassifier(solver='adam',\n",
    "                                       hidden_layer_sizes=(100,100,100,), # 3 hidden layers with (100x100x100) neurons\n",
    "                                       random_state=0,\n",
    "                                       max_iter=500,           # TODO: tune it later\n",
    "                                       verbose=True\n",
    "                                       )\n",
    "                         )"
   ]
  },
  {
   "cell_type": "code",
   "execution_count": 34,
   "metadata": {},
   "outputs": [],
   "source": [
    "# Extracted features \n",
    "X = df[['tdoa', 'snr_an', 'power_dif', 'rx_snr', 'rx_powerdif', 'tof', 'NLOS_material']]\n",
    "y = df['NLOS_material'] # Labels"
   ]
  },
  {
   "cell_type": "code",
   "execution_count": 35,
   "metadata": {},
   "outputs": [],
   "source": [
    "# Split dataset into training and test set\n",
    "X_train, X_test, y_train, y_test = train_test_split(X, y, test_size = 0.3) # 70% training and 30% test"
   ]
  },
  {
   "cell_type": "code",
   "execution_count": 36,
   "metadata": {},
   "outputs": [
    {
     "name": "stdout",
     "output_type": "stream",
     "text": [
      "Iteration 1, loss = 0.20224145\n",
      "Iteration 2, loss = 0.00559494\n",
      "Iteration 3, loss = 0.00334631\n",
      "Iteration 4, loss = 0.00217787\n",
      "Iteration 5, loss = 0.00138537\n",
      "Iteration 6, loss = 0.00184994\n",
      "Iteration 7, loss = 0.00024131\n",
      "Iteration 8, loss = 0.00019795\n",
      "Iteration 9, loss = 0.00016824\n",
      "Iteration 10, loss = 0.00014952\n",
      "Iteration 11, loss = 0.00015504\n",
      "Iteration 12, loss = 0.00011742\n",
      "Iteration 13, loss = 0.00011020\n",
      "Iteration 14, loss = 0.00010493\n",
      "Iteration 15, loss = 0.00010810\n",
      "Iteration 16, loss = 0.00009944\n",
      "Iteration 17, loss = 0.00009780\n",
      "Iteration 18, loss = 0.00009567\n",
      "Training loss did not improve more than tol=0.000100 for 10 consecutive epochs. Stopping.\n"
     ]
    },
    {
     "data": {
      "text/plain": [
       "Pipeline(steps=[('standardscaler', StandardScaler()),\n",
       "                ('mlpclassifier',\n",
       "                 MLPClassifier(hidden_layer_sizes=(100, 100, 100), max_iter=500,\n",
       "                               random_state=0, verbose=True))])"
      ]
     },
     "execution_count": 36,
     "metadata": {},
     "output_type": "execute_result"
    }
   ],
   "source": [
    "# Train the whole pipeline\n",
    "pipe_MLP.fit(X_train, y_train)"
   ]
  },
  {
   "cell_type": "code",
   "execution_count": 37,
   "metadata": {},
   "outputs": [],
   "source": [
    "# Make predictions on the test data\n",
    "y_pred = pipe_MLP.predict(X_test)"
   ]
  },
  {
   "cell_type": "code",
   "execution_count": 38,
   "metadata": {},
   "outputs": [
    {
     "name": "stdout",
     "output_type": "stream",
     "text": [
      "Test Accuracy: 100.0%\n"
     ]
    }
   ],
   "source": [
    "# Caluclate the accuracy on test data predicitons\n",
    "print(f'Test Accuracy: {metrics.accuracy_score(y_test, y_pred) * 100}%')"
   ]
  }
 ],
 "metadata": {
  "kernelspec": {
   "display_name": "dataScience",
   "language": "python",
   "name": "python3"
  },
  "language_info": {
   "codemirror_mode": {
    "name": "ipython",
    "version": 3
   },
   "file_extension": ".py",
   "mimetype": "text/x-python",
   "name": "python",
   "nbconvert_exporter": "python",
   "pygments_lexer": "ipython3",
   "version": "3.9.16"
  },
  "orig_nbformat": 4
 },
 "nbformat": 4,
 "nbformat_minor": 2
}
