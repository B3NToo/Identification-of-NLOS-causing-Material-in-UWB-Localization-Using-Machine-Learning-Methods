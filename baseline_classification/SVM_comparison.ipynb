{
 "cells": [
  {
   "cell_type": "code",
   "execution_count": 1,
   "metadata": {},
   "outputs": [],
   "source": [
    "# Import pandas and numpy for data manipulation\n",
    "import pandas as pd\n",
    "import numpy as np\n",
    "import time\n",
    "\n",
    "# Import modules from Scikit-learn\n",
    "from sklearn.svm import SVC                            # Import SVM model using guassian\n",
    "from sklearn.model_selection import train_test_split   # Import train_test_split function\n",
    "from sklearn import metrics                            # import metrics modules for accuracy calculation\n",
    "from sklearn.preprocessing import StandardScaler\n",
    "from sklearn.pipeline import make_pipeline\n",
    "from tqdm import tqdm"
   ]
  },
  {
   "cell_type": "code",
   "execution_count": 2,
   "metadata": {},
   "outputs": [],
   "source": [
    "# Read data\n",
    "PATH = \"../../my_data/identification-dataset/my_custom_data/anblock-error-dataset.csv\"\n",
    "df = pd.read_csv(PATH)\n",
    "\n",
    "# Drop uncomplete rows\n",
    "df.dropna(inplace=True)"
   ]
  },
  {
   "cell_type": "code",
   "execution_count": 3,
   "metadata": {},
   "outputs": [],
   "source": [
    "# Set training data\n",
    "train_df = df.drop('material', axis=1)\n",
    "\n",
    "# Extracted features \n",
    "X = train_df.drop('encoded_material', axis=1)\n",
    "y = train_df['encoded_material'] # Labels"
   ]
  },
  {
   "cell_type": "code",
   "execution_count": 4,
   "metadata": {},
   "outputs": [],
   "source": [
    "# Split dataset into training and test set\n",
    "X_train, X_test, y_train, y_test = train_test_split(X, y, test_size = 0.3) # 70% training and 30% test"
   ]
  },
  {
   "cell_type": "markdown",
   "metadata": {},
   "source": [
    "- **Radial Basis Function (RBF) Kernel**:\n",
    "  - Most commonly used kernel, also known as the Gaussian kernel.\n",
    "  - Measures similarity using a Gaussian-like function in a high-dimensional space.\n",
    "  - Suitable for various data types due to its versatility.\n",
    "\n",
    "- **Linear Kernel**:\n",
    "  - Simplest kernel; computes the dot product between samples in the original space.\n",
    "  - Works well when data is linearly separable.\n",
    "\n",
    "- **Polynomial Kernel**:\n",
    "  - Computes similarity based on polynomial function degrees.\n",
    "  - Allows for more complex decision boundaries than the linear kernel.\n",
    "  - Controlled by the `degree` parameter.\n",
    "\n",
    "- **Sigmoid Kernel**:\n",
    "  - Based on hyperbolic tangent functions.\n",
    "  - Useful for non-linear data; works well when data distribution is uncertain.\n"
   ]
  },
  {
   "cell_type": "code",
   "execution_count": 5,
   "metadata": {},
   "outputs": [],
   "source": [
    "kernels = ['rbf', 'linear', 'poly', 'sigmoid']"
   ]
  },
  {
   "cell_type": "code",
   "execution_count": 6,
   "metadata": {},
   "outputs": [],
   "source": [
    "# Create an empty list to store results\n",
    "def trainer(kernels):\n",
    "    results = []\n",
    "    for k in kernels:\n",
    "        # Create a pipeline object for our model SVM using rbf kernel\n",
    "        pipe_SVM = make_pipeline(StandardScaler(),\n",
    "                         SVC(kernel=k,\n",
    "                         cache_size=2000,       # Default is 200 MB.\n",
    "                         verbose=0)\n",
    "                         )\n",
    "        \n",
    "        # Measure training time\n",
    "        start_train = time.time()\n",
    "        pipe_SVM.fit(X_train, y_train)\n",
    "        end_train = time.time()\n",
    "        train_time_per_sample = (end_train - start_train) / len(X_train)\n",
    "\n",
    "        # Measure test time\n",
    "        start_test = time.time()\n",
    "        y_pred = pipe_SVM.predict(X_test)\n",
    "        end_test = time.time()\n",
    "        test_time_per_sample = (end_test - start_test) / len(X_test)\n",
    "        \n",
    "        # Evaluate the pipeline and store the results\n",
    "        accuracy = metrics.accuracy_score(y_test, y_pred)\n",
    "        precision = metrics.precision_score(y_test, y_pred, average=\"macro\")\n",
    "        recall = metrics.recall_score(y_test, y_pred, average=\"macro\")\n",
    "        f1 = metrics.recall_score(y_test, y_pred, average=\"macro\")\n",
    "\n",
    "\n",
    "        results.append({\n",
    "            'kernel': k,\n",
    "            'accuracy': accuracy,\n",
    "            'precision': precision,\n",
    "            'recall': recall,\n",
    "            'f1': f1,\n",
    "            'train_time_per_sample': train_time_per_sample,\n",
    "            'test_time_per_sample': test_time_per_sample \n",
    "        })\n",
    "    return results"
   ]
  },
  {
   "cell_type": "code",
   "execution_count": 7,
   "metadata": {},
   "outputs": [
    {
     "name": "stderr",
     "output_type": "stream",
     "text": [
      "  0%|          | 0/1 [00:00<?, ?it/s]"
     ]
    },
    {
     "name": "stderr",
     "output_type": "stream",
     "text": [
      "100%|██████████| 1/1 [05:11<00:00, 311.97s/it]\n"
     ]
    }
   ],
   "source": [
    "results = []\n",
    "for x in tqdm(np.arange(1)): # should be 10\n",
    "    r = trainer(kernels)\n",
    "    results.append(r)"
   ]
  },
  {
   "cell_type": "code",
   "execution_count": 8,
   "metadata": {},
   "outputs": [
    {
     "data": {
      "text/html": [
       "<div>\n",
       "<style scoped>\n",
       "    .dataframe tbody tr th:only-of-type {\n",
       "        vertical-align: middle;\n",
       "    }\n",
       "\n",
       "    .dataframe tbody tr th {\n",
       "        vertical-align: top;\n",
       "    }\n",
       "\n",
       "    .dataframe thead th {\n",
       "        text-align: right;\n",
       "    }\n",
       "</style>\n",
       "<table border=\"1\" class=\"dataframe\">\n",
       "  <thead>\n",
       "    <tr style=\"text-align: right;\">\n",
       "      <th></th>\n",
       "      <th>kernel</th>\n",
       "      <th>accuracy</th>\n",
       "      <th>precision</th>\n",
       "      <th>recall</th>\n",
       "      <th>f1</th>\n",
       "      <th>train_time_per_sample</th>\n",
       "      <th>test_time_per_sample</th>\n",
       "    </tr>\n",
       "  </thead>\n",
       "  <tbody>\n",
       "    <tr>\n",
       "      <th>0</th>\n",
       "      <td>rbf</td>\n",
       "      <td>0.806898</td>\n",
       "      <td>0.805651</td>\n",
       "      <td>0.807083</td>\n",
       "      <td>0.807083</td>\n",
       "      <td>0.000893</td>\n",
       "      <td>0.002159</td>\n",
       "    </tr>\n",
       "    <tr>\n",
       "      <th>1</th>\n",
       "      <td>linear</td>\n",
       "      <td>0.857679</td>\n",
       "      <td>0.856908</td>\n",
       "      <td>0.857792</td>\n",
       "      <td>0.857792</td>\n",
       "      <td>0.002077</td>\n",
       "      <td>0.000663</td>\n",
       "    </tr>\n",
       "    <tr>\n",
       "      <th>2</th>\n",
       "      <td>poly</td>\n",
       "      <td>0.709703</td>\n",
       "      <td>0.735706</td>\n",
       "      <td>0.709111</td>\n",
       "      <td>0.709111</td>\n",
       "      <td>0.001525</td>\n",
       "      <td>0.000786</td>\n",
       "    </tr>\n",
       "    <tr>\n",
       "      <th>3</th>\n",
       "      <td>sigmoid</td>\n",
       "      <td>0.527798</td>\n",
       "      <td>0.552461</td>\n",
       "      <td>0.527576</td>\n",
       "      <td>0.527576</td>\n",
       "      <td>0.001038</td>\n",
       "      <td>0.000944</td>\n",
       "    </tr>\n",
       "  </tbody>\n",
       "</table>\n",
       "</div>"
      ],
      "text/plain": [
       "    kernel  accuracy  precision    recall        f1  train_time_per_sample  \\\n",
       "0      rbf  0.806898   0.805651  0.807083  0.807083               0.000893   \n",
       "1   linear  0.857679   0.856908  0.857792  0.857792               0.002077   \n",
       "2     poly  0.709703   0.735706  0.709111  0.709111               0.001525   \n",
       "3  sigmoid  0.527798   0.552461  0.527576  0.527576               0.001038   \n",
       "\n",
       "   test_time_per_sample  \n",
       "0              0.002159  \n",
       "1              0.000663  \n",
       "2              0.000786  \n",
       "3              0.000944  "
      ]
     },
     "execution_count": 8,
     "metadata": {},
     "output_type": "execute_result"
    }
   ],
   "source": [
    "# show one of 10 samples\n",
    "results_df = pd.DataFrame(results[0])\n",
    "results_df"
   ]
  },
  {
   "cell_type": "code",
   "execution_count": 9,
   "metadata": {},
   "outputs": [
    {
     "data": {
      "text/html": [
       "<div>\n",
       "<style scoped>\n",
       "    .dataframe tbody tr th:only-of-type {\n",
       "        vertical-align: middle;\n",
       "    }\n",
       "\n",
       "    .dataframe tbody tr th {\n",
       "        vertical-align: top;\n",
       "    }\n",
       "\n",
       "    .dataframe thead th {\n",
       "        text-align: right;\n",
       "    }\n",
       "</style>\n",
       "<table border=\"1\" class=\"dataframe\">\n",
       "  <thead>\n",
       "    <tr style=\"text-align: right;\">\n",
       "      <th></th>\n",
       "      <th>kernel</th>\n",
       "      <th>accuracy</th>\n",
       "      <th>precision</th>\n",
       "      <th>recall</th>\n",
       "      <th>f1</th>\n",
       "      <th>train_time_per_sample</th>\n",
       "      <th>test_time_per_sample</th>\n",
       "    </tr>\n",
       "  </thead>\n",
       "  <tbody>\n",
       "    <tr>\n",
       "      <th>0</th>\n",
       "      <td>rbf</td>\n",
       "      <td>0.806898</td>\n",
       "      <td>0.805651</td>\n",
       "      <td>0.807083</td>\n",
       "      <td>0.807083</td>\n",
       "      <td>0.000893</td>\n",
       "      <td>0.002159</td>\n",
       "    </tr>\n",
       "    <tr>\n",
       "      <th>1</th>\n",
       "      <td>linear</td>\n",
       "      <td>0.857679</td>\n",
       "      <td>0.856908</td>\n",
       "      <td>0.857792</td>\n",
       "      <td>0.857792</td>\n",
       "      <td>0.002077</td>\n",
       "      <td>0.000663</td>\n",
       "    </tr>\n",
       "    <tr>\n",
       "      <th>2</th>\n",
       "      <td>poly</td>\n",
       "      <td>0.709703</td>\n",
       "      <td>0.735706</td>\n",
       "      <td>0.709111</td>\n",
       "      <td>0.709111</td>\n",
       "      <td>0.001525</td>\n",
       "      <td>0.000786</td>\n",
       "    </tr>\n",
       "    <tr>\n",
       "      <th>3</th>\n",
       "      <td>sigmoid</td>\n",
       "      <td>0.527798</td>\n",
       "      <td>0.552461</td>\n",
       "      <td>0.527576</td>\n",
       "      <td>0.527576</td>\n",
       "      <td>0.001038</td>\n",
       "      <td>0.000944</td>\n",
       "    </tr>\n",
       "  </tbody>\n",
       "</table>\n",
       "</div>"
      ],
      "text/plain": [
       "    kernel  accuracy  precision    recall        f1  train_time_per_sample  \\\n",
       "0      rbf  0.806898   0.805651  0.807083  0.807083               0.000893   \n",
       "1   linear  0.857679   0.856908  0.857792  0.857792               0.002077   \n",
       "2     poly  0.709703   0.735706  0.709111  0.709111               0.001525   \n",
       "3  sigmoid  0.527798   0.552461  0.527576  0.527576               0.001038   \n",
       "\n",
       "   test_time_per_sample  \n",
       "0              0.002159  \n",
       "1              0.000663  \n",
       "2              0.000786  \n",
       "3              0.000944  "
      ]
     },
     "execution_count": 9,
     "metadata": {},
     "output_type": "execute_result"
    }
   ],
   "source": [
    "# show one of 10 samples\n",
    "results_df = pd.DataFrame(results[0])\n",
    "results_df"
   ]
  },
  {
   "cell_type": "code",
   "execution_count": 10,
   "metadata": {},
   "outputs": [],
   "source": [
    "markdown_table = results_df.to_markdown(index=False)"
   ]
  },
  {
   "cell_type": "code",
   "execution_count": 11,
   "metadata": {},
   "outputs": [
    {
     "data": {
      "text/plain": [
       "'| kernel   |   accuracy |   precision |   recall |       f1 |   train_time_per_sample |   test_time_per_sample |\\n|:---------|-----------:|------------:|---------:|---------:|------------------------:|-----------------------:|\\n| rbf      |   0.806898 |    0.805651 | 0.807083 | 0.807083 |             0.000893276 |            0.00215888  |\\n| linear   |   0.857679 |    0.856908 | 0.857792 | 0.857792 |             0.00207662  |            0.000662778 |\\n| poly     |   0.709703 |    0.735706 | 0.709111 | 0.709111 |             0.0015255   |            0.000785909 |\\n| sigmoid  |   0.527798 |    0.552461 | 0.527576 | 0.527576 |             0.00103787  |            0.000943808 |'"
      ]
     },
     "execution_count": 11,
     "metadata": {},
     "output_type": "execute_result"
    }
   ],
   "source": [
    "markdown_table"
   ]
  },
  {
   "cell_type": "markdown",
   "metadata": {},
   "source": [
    "| kernel   |   accuracy |   precision |   recall |       f1 |   train_time_per_sample |   test_time_per_sample |\n",
    "|:---------|-----------:|------------:|---------:|---------:|------------------------:|-----------------------:|\n",
    "| rbf      |   0.806898 |    0.804855 | 0.806395 | 0.806395 |             0.000968527 |            0.00228607  |\n",
    "| linear   |   0.856783 |    0.855553 | 0.856039 | 0.856039 |             0.00212661  |            0.000734085 |\n",
    "| poly     |   0.708303 |    0.736    | 0.707387 | 0.707387 |             0.00161534  |            0.00087245  |\n",
    "| sigmoid  |   0.527966 |    0.551219 | 0.52752  | 0.52752  |             0.00123145  |            0.00107637  |"
   ]
  },
  {
   "cell_type": "code",
   "execution_count": 12,
   "metadata": {},
   "outputs": [
    {
     "name": "stdout",
     "output_type": "stream",
     "text": [
      "\\begin{tabular}{lrrrrrr}\n",
      "\\toprule\n",
      " kernel &  accuracy &  precision &   recall &       f1 &  train\\_time\\_per\\_sample &  test\\_time\\_per\\_sample \\\\\n",
      "\\midrule\n",
      "    rbf &  0.806898 &   0.805651 & 0.807083 & 0.807083 &               0.000893 &              0.002159 \\\\\n",
      " linear &  0.857679 &   0.856908 & 0.857792 & 0.857792 &               0.002077 &              0.000663 \\\\\n",
      "   poly &  0.709703 &   0.735706 & 0.709111 & 0.709111 &               0.001525 &              0.000786 \\\\\n",
      "sigmoid &  0.527798 &   0.552461 & 0.527576 & 0.527576 &               0.001038 &              0.000944 \\\\\n",
      "\\bottomrule\n",
      "\\end{tabular}\n",
      "\n"
     ]
    },
    {
     "name": "stderr",
     "output_type": "stream",
     "text": [
      "/var/folders/7l/08clpl7s5sg024cxlpgy5vtm0000gn/T/ipykernel_5146/2325076470.py:2: FutureWarning: In future versions `DataFrame.to_latex` is expected to utilise the base implementation of `Styler.to_latex` for formatting and rendering. The arguments signature may therefore change. It is recommended instead to use `DataFrame.style.to_latex` which also contains additional functionality.\n",
      "  latex_table = results_df.to_latex(index=False)\n"
     ]
    }
   ],
   "source": [
    "# Convert DataFrame to LaTeX table\n",
    "latex_table = results_df.to_latex(index=False)\n",
    "print(latex_table)"
   ]
  }
 ],
 "metadata": {
  "kernelspec": {
   "display_name": "dataScience",
   "language": "python",
   "name": "python3"
  },
  "language_info": {
   "codemirror_mode": {
    "name": "ipython",
    "version": 3
   },
   "file_extension": ".py",
   "mimetype": "text/x-python",
   "name": "python",
   "nbconvert_exporter": "python",
   "pygments_lexer": "ipython3",
   "version": "3.9.16"
  }
 },
 "nbformat": 4,
 "nbformat_minor": 2
}
