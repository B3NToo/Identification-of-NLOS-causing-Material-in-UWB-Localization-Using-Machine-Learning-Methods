{
 "cells": [
  {
   "cell_type": "code",
   "execution_count": 1,
   "metadata": {},
   "outputs": [],
   "source": [
    "# Import pandas and numpy for data manipulation\n",
    "import pandas as pd\n",
    "import numpy as np\n",
    "import time\n",
    "\n",
    "# Import modules from Scikit-learn\n",
    "from sklearn.svm import SVC                            # Import SVM model using guassian\n",
    "from sklearn.model_selection import train_test_split   # Import train_test_split function\n",
    "from sklearn import metrics                            # import metrics modules for accuracy calculation\n",
    "from sklearn.preprocessing import StandardScaler\n",
    "from sklearn.pipeline import make_pipeline\n",
    "from tqdm import tqdm"
   ]
  },
  {
   "cell_type": "code",
   "execution_count": 2,
   "metadata": {},
   "outputs": [],
   "source": [
    "# Read data\n",
    "PATH = \"../../my_data/identification-dataset/my_custom_data/anblock-error-dataset.csv\"\n",
    "df = pd.read_csv(PATH)\n",
    "\n",
    "# Drop uncomplete rows\n",
    "df.dropna(inplace=True)"
   ]
  },
  {
   "cell_type": "code",
   "execution_count": 3,
   "metadata": {},
   "outputs": [],
   "source": [
    "# Set training data\n",
    "train_df = df.drop('material', axis=1)\n",
    "\n",
    "# Extracted features \n",
    "X = train_df.drop('encoded_material', axis=1)\n",
    "y = train_df['encoded_material'] # Labels"
   ]
  },
  {
   "cell_type": "code",
   "execution_count": 4,
   "metadata": {},
   "outputs": [],
   "source": [
    "# Split dataset into training and test set\n",
    "X_train, X_test, y_train, y_test = train_test_split(X, y, test_size = 0.3) # 70% training and 30% test"
   ]
  },
  {
   "cell_type": "markdown",
   "metadata": {},
   "source": [
    "- **Radial Basis Function (RBF) Kernel**:\n",
    "  - Most commonly used kernel, also known as the Gaussian kernel.\n",
    "  - Measures similarity using a Gaussian-like function in a high-dimensional space.\n",
    "  - Suitable for various data types due to its versatility.\n",
    "\n",
    "- **Linear Kernel**:\n",
    "  - Simplest kernel; computes the dot product between samples in the original space.\n",
    "  - Works well when data is linearly separable.\n",
    "\n",
    "- **Polynomial Kernel**:\n",
    "  - Computes similarity based on polynomial function degrees.\n",
    "  - Allows for more complex decision boundaries than the linear kernel.\n",
    "  - Controlled by the `degree` parameter.\n",
    "\n",
    "- **Sigmoid Kernel**:\n",
    "  - Based on hyperbolic tangent functions.\n",
    "  - Useful for non-linear data; works well when data distribution is uncertain.\n"
   ]
  },
  {
   "cell_type": "code",
   "execution_count": 5,
   "metadata": {},
   "outputs": [],
   "source": [
    "kernels = ['rbf', 'linear', 'poly', 'sigmoid']"
   ]
  },
  {
   "cell_type": "code",
   "execution_count": 6,
   "metadata": {},
   "outputs": [],
   "source": [
    "# Create an empty list to store results\n",
    "def trainer(k, X, y):\n",
    "    # Randomly split dataset into training and test set\n",
    "    X_train, X_test, y_train, y_test = train_test_split(X, y, test_size = 0.3) # 70% training and 30% test\n",
    "    \n",
    "    results = []\n",
    "    for k in kernels:\n",
    "        # Create a pipeline object for our model SVM using rbf kernel\n",
    "        pipe_SVM = make_pipeline(StandardScaler(),\n",
    "                         SVC(kernel=k,\n",
    "                         cache_size=2000,       # Default is 200 MB.\n",
    "                         verbose=0)\n",
    "                         )\n",
    "        \n",
    "        # Measure training time\n",
    "        start_train = time.time()\n",
    "        pipe_SVM.fit(X_train, y_train)\n",
    "        end_train = time.time()\n",
    "        train_time_per_sample = (end_train - start_train) / len(X_train)\n",
    "\n",
    "        # Measure test time\n",
    "        start_test = time.time()\n",
    "        y_pred = pipe_SVM.predict(X_test)\n",
    "        end_test = time.time()\n",
    "        test_time_per_sample = (end_test - start_test) / len(X_test)\n",
    "        \n",
    "        # Evaluate the pipeline and store the results\n",
    "        accuracy = metrics.accuracy_score(y_test, y_pred)\n",
    "        precision = metrics.precision_score(y_test, y_pred, average=\"macro\")\n",
    "        recall = metrics.recall_score(y_test, y_pred, average=\"macro\")\n",
    "        f1 = metrics.recall_score(y_test, y_pred, average=\"macro\")\n",
    "\n",
    "\n",
    "        results.append({\n",
    "            'kernel': k,\n",
    "            'accuracy': accuracy,\n",
    "            'precision': precision,\n",
    "            'recall': recall,\n",
    "            'f1': f1,\n",
    "            'train_time_per_sample': train_time_per_sample,\n",
    "            'test_time_per_sample': test_time_per_sample \n",
    "        })\n",
    "    return results"
   ]
  },
  {
   "cell_type": "code",
   "execution_count": 7,
   "metadata": {},
   "outputs": [
    {
     "name": "stderr",
     "output_type": "stream",
     "text": [
      "  0%|          | 0/10 [00:00<?, ?it/s]"
     ]
    },
    {
     "name": "stderr",
     "output_type": "stream",
     "text": [
      "100%|██████████| 10/10 [53:06<00:00, 318.60s/it]\n"
     ]
    }
   ],
   "source": [
    "results = []\n",
    "for x in tqdm(np.arange(10)): # should be 10\n",
    "    r = trainer(kernels, X, y)\n",
    "    results.append(r)"
   ]
  },
  {
   "cell_type": "code",
   "execution_count": 8,
   "metadata": {},
   "outputs": [],
   "source": [
    "# Flatten the list of lists\n",
    "flattened_results = [item for sublist in results for item in sublist]\n",
    "\n",
    "# Convert to DataFrame\n",
    "flattend_results_df = pd.DataFrame(flattened_results)"
   ]
  },
  {
   "cell_type": "code",
   "execution_count": 20,
   "metadata": {},
   "outputs": [
    {
     "data": {
      "text/html": [
       "<div>\n",
       "<style scoped>\n",
       "    .dataframe tbody tr th:only-of-type {\n",
       "        vertical-align: middle;\n",
       "    }\n",
       "\n",
       "    .dataframe tbody tr th {\n",
       "        vertical-align: top;\n",
       "    }\n",
       "\n",
       "    .dataframe thead th {\n",
       "        text-align: right;\n",
       "    }\n",
       "</style>\n",
       "<table border=\"1\" class=\"dataframe\">\n",
       "  <thead>\n",
       "    <tr style=\"text-align: right;\">\n",
       "      <th></th>\n",
       "      <th>kernel</th>\n",
       "      <th>accuracy</th>\n",
       "      <th>precision</th>\n",
       "      <th>recall</th>\n",
       "      <th>f1</th>\n",
       "      <th>train_time_per_sample</th>\n",
       "      <th>test_time_per_sample</th>\n",
       "    </tr>\n",
       "  </thead>\n",
       "  <tbody>\n",
       "    <tr>\n",
       "      <th>0</th>\n",
       "      <td>linear</td>\n",
       "      <td>0.853317</td>\n",
       "      <td>0.852342</td>\n",
       "      <td>0.853542</td>\n",
       "      <td>0.853542</td>\n",
       "      <td>0.002092</td>\n",
       "      <td>0.000692</td>\n",
       "    </tr>\n",
       "    <tr>\n",
       "      <th>1</th>\n",
       "      <td>poly</td>\n",
       "      <td>0.707178</td>\n",
       "      <td>0.731541</td>\n",
       "      <td>0.706453</td>\n",
       "      <td>0.706453</td>\n",
       "      <td>0.001547</td>\n",
       "      <td>0.000822</td>\n",
       "    </tr>\n",
       "    <tr>\n",
       "      <th>2</th>\n",
       "      <td>rbf</td>\n",
       "      <td>0.803253</td>\n",
       "      <td>0.801155</td>\n",
       "      <td>0.803638</td>\n",
       "      <td>0.803638</td>\n",
       "      <td>0.000849</td>\n",
       "      <td>0.002195</td>\n",
       "    </tr>\n",
       "    <tr>\n",
       "      <th>3</th>\n",
       "      <td>sigmoid</td>\n",
       "      <td>0.529774</td>\n",
       "      <td>0.543095</td>\n",
       "      <td>0.529517</td>\n",
       "      <td>0.529517</td>\n",
       "      <td>0.001145</td>\n",
       "      <td>0.000981</td>\n",
       "    </tr>\n",
       "  </tbody>\n",
       "</table>\n",
       "</div>"
      ],
      "text/plain": [
       "    kernel  accuracy  precision    recall        f1  train_time_per_sample  \\\n",
       "0   linear  0.853317   0.852342  0.853542  0.853542               0.002092   \n",
       "1     poly  0.707178   0.731541  0.706453  0.706453               0.001547   \n",
       "2      rbf  0.803253   0.801155  0.803638  0.803638               0.000849   \n",
       "3  sigmoid  0.529774   0.543095  0.529517  0.529517               0.001145   \n",
       "\n",
       "   test_time_per_sample  \n",
       "0              0.000692  \n",
       "1              0.000822  \n",
       "2              0.002195  \n",
       "3              0.000981  "
      ]
     },
     "execution_count": 20,
     "metadata": {},
     "output_type": "execute_result"
    }
   ],
   "source": [
    "mean_df = flattend_results_df.groupby('kernel').mean().reset_index()\n",
    "mean_df"
   ]
  },
  {
   "cell_type": "code",
   "execution_count": 17,
   "metadata": {},
   "outputs": [
    {
     "data": {
      "text/html": [
       "<div>\n",
       "<style scoped>\n",
       "    .dataframe tbody tr th:only-of-type {\n",
       "        vertical-align: middle;\n",
       "    }\n",
       "\n",
       "    .dataframe tbody tr th {\n",
       "        vertical-align: top;\n",
       "    }\n",
       "\n",
       "    .dataframe thead th {\n",
       "        text-align: right;\n",
       "    }\n",
       "</style>\n",
       "<table border=\"1\" class=\"dataframe\">\n",
       "  <thead>\n",
       "    <tr style=\"text-align: right;\">\n",
       "      <th></th>\n",
       "      <th>kernel</th>\n",
       "      <th>accuracy</th>\n",
       "      <th>precision</th>\n",
       "      <th>recall</th>\n",
       "      <th>f1</th>\n",
       "      <th>train_time_per_sample</th>\n",
       "      <th>test_time_per_sample</th>\n",
       "    </tr>\n",
       "  </thead>\n",
       "  <tbody>\n",
       "    <tr>\n",
       "      <th>0</th>\n",
       "      <td>linear</td>\n",
       "      <td>0.85</td>\n",
       "      <td>0.85</td>\n",
       "      <td>0.85</td>\n",
       "      <td>0.85</td>\n",
       "      <td>2.09</td>\n",
       "      <td>0.69</td>\n",
       "    </tr>\n",
       "    <tr>\n",
       "      <th>1</th>\n",
       "      <td>poly</td>\n",
       "      <td>0.71</td>\n",
       "      <td>0.73</td>\n",
       "      <td>0.71</td>\n",
       "      <td>0.71</td>\n",
       "      <td>1.55</td>\n",
       "      <td>0.82</td>\n",
       "    </tr>\n",
       "    <tr>\n",
       "      <th>2</th>\n",
       "      <td>rbf</td>\n",
       "      <td>0.80</td>\n",
       "      <td>0.80</td>\n",
       "      <td>0.80</td>\n",
       "      <td>0.80</td>\n",
       "      <td>0.85</td>\n",
       "      <td>2.19</td>\n",
       "    </tr>\n",
       "    <tr>\n",
       "      <th>3</th>\n",
       "      <td>sigmoid</td>\n",
       "      <td>0.53</td>\n",
       "      <td>0.54</td>\n",
       "      <td>0.53</td>\n",
       "      <td>0.53</td>\n",
       "      <td>1.15</td>\n",
       "      <td>0.98</td>\n",
       "    </tr>\n",
       "  </tbody>\n",
       "</table>\n",
       "</div>"
      ],
      "text/plain": [
       "    kernel  accuracy  precision  recall    f1  train_time_per_sample  \\\n",
       "0   linear      0.85       0.85    0.85  0.85                   2.09   \n",
       "1     poly      0.71       0.73    0.71  0.71                   1.55   \n",
       "2      rbf      0.80       0.80    0.80  0.80                   0.85   \n",
       "3  sigmoid      0.53       0.54    0.53  0.53                   1.15   \n",
       "\n",
       "   test_time_per_sample  \n",
       "0                  0.69  \n",
       "1                  0.82  \n",
       "2                  2.19  \n",
       "3                  0.98  "
      ]
     },
     "execution_count": 17,
     "metadata": {},
     "output_type": "execute_result"
    }
   ],
   "source": [
    "# Round the columns to the 4th decimal place\n",
    "mean_df['accuracy'] = mean_df['accuracy'].round(2)\n",
    "mean_df['precision'] = mean_df['precision'].round(2)\n",
    "mean_df['recall'] = mean_df['recall'].round(2)\n",
    "mean_df['f1'] = mean_df['f1'].round(2)\n",
    "\n",
    "# Scale from seconds to milliseconds\n",
    "mean_df['train_time_per_sample'] = mean_df['train_time_per_sample'] * 1000 # to microsec. \n",
    "mean_df['train_time_per_sample'] = mean_df['train_time_per_sample'].round(2)\n",
    "\n",
    "mean_df['test_time_per_sample'] = mean_df['test_time_per_sample'] * 1000 # to microsec.\n",
    "mean_df['test_time_per_sample'] = mean_df['test_time_per_sample'].round(2)\n",
    "\n",
    "mean_df"
   ]
  },
  {
   "cell_type": "code",
   "execution_count": 21,
   "metadata": {},
   "outputs": [
    {
     "data": {
      "text/html": [
       "<div>\n",
       "<style scoped>\n",
       "    .dataframe tbody tr th:only-of-type {\n",
       "        vertical-align: middle;\n",
       "    }\n",
       "\n",
       "    .dataframe tbody tr th {\n",
       "        vertical-align: top;\n",
       "    }\n",
       "\n",
       "    .dataframe thead th {\n",
       "        text-align: right;\n",
       "    }\n",
       "</style>\n",
       "<table border=\"1\" class=\"dataframe\">\n",
       "  <thead>\n",
       "    <tr style=\"text-align: right;\">\n",
       "      <th></th>\n",
       "      <th>kernel</th>\n",
       "      <th>accuracy</th>\n",
       "      <th>precision</th>\n",
       "      <th>recall</th>\n",
       "      <th>f1</th>\n",
       "      <th>train_time_per_sample</th>\n",
       "      <th>test_time_per_sample</th>\n",
       "    </tr>\n",
       "  </thead>\n",
       "  <tbody>\n",
       "    <tr>\n",
       "      <th>0</th>\n",
       "      <td>linear</td>\n",
       "      <td>0.002919</td>\n",
       "      <td>0.002848</td>\n",
       "      <td>0.002709</td>\n",
       "      <td>0.002709</td>\n",
       "      <td>0.000074</td>\n",
       "      <td>0.000031</td>\n",
       "    </tr>\n",
       "    <tr>\n",
       "      <th>1</th>\n",
       "      <td>poly</td>\n",
       "      <td>0.003054</td>\n",
       "      <td>0.003845</td>\n",
       "      <td>0.002669</td>\n",
       "      <td>0.002669</td>\n",
       "      <td>0.000101</td>\n",
       "      <td>0.000034</td>\n",
       "    </tr>\n",
       "    <tr>\n",
       "      <th>2</th>\n",
       "      <td>rbf</td>\n",
       "      <td>0.003391</td>\n",
       "      <td>0.003133</td>\n",
       "      <td>0.002892</td>\n",
       "      <td>0.002892</td>\n",
       "      <td>0.000046</td>\n",
       "      <td>0.000053</td>\n",
       "    </tr>\n",
       "    <tr>\n",
       "      <th>3</th>\n",
       "      <td>sigmoid</td>\n",
       "      <td>0.006658</td>\n",
       "      <td>0.012320</td>\n",
       "      <td>0.005837</td>\n",
       "      <td>0.005837</td>\n",
       "      <td>0.000135</td>\n",
       "      <td>0.000059</td>\n",
       "    </tr>\n",
       "  </tbody>\n",
       "</table>\n",
       "</div>"
      ],
      "text/plain": [
       "    kernel  accuracy  precision    recall        f1  train_time_per_sample  \\\n",
       "0   linear  0.002919   0.002848  0.002709  0.002709               0.000074   \n",
       "1     poly  0.003054   0.003845  0.002669  0.002669               0.000101   \n",
       "2      rbf  0.003391   0.003133  0.002892  0.002892               0.000046   \n",
       "3  sigmoid  0.006658   0.012320  0.005837  0.005837               0.000135   \n",
       "\n",
       "   test_time_per_sample  \n",
       "0              0.000031  \n",
       "1              0.000034  \n",
       "2              0.000053  \n",
       "3              0.000059  "
      ]
     },
     "execution_count": 21,
     "metadata": {},
     "output_type": "execute_result"
    }
   ],
   "source": [
    "std_df = flattend_results_df.groupby('kernel').std().reset_index()\n",
    "std_df"
   ]
  },
  {
   "cell_type": "code",
   "execution_count": 22,
   "metadata": {},
   "outputs": [
    {
     "data": {
      "text/html": [
       "<div>\n",
       "<style scoped>\n",
       "    .dataframe tbody tr th:only-of-type {\n",
       "        vertical-align: middle;\n",
       "    }\n",
       "\n",
       "    .dataframe tbody tr th {\n",
       "        vertical-align: top;\n",
       "    }\n",
       "\n",
       "    .dataframe thead th {\n",
       "        text-align: right;\n",
       "    }\n",
       "</style>\n",
       "<table border=\"1\" class=\"dataframe\">\n",
       "  <thead>\n",
       "    <tr style=\"text-align: right;\">\n",
       "      <th></th>\n",
       "      <th>kernel</th>\n",
       "      <th>accuracy</th>\n",
       "      <th>precision</th>\n",
       "      <th>recall</th>\n",
       "      <th>f1</th>\n",
       "      <th>train_time_per_sample</th>\n",
       "      <th>test_time_per_sample</th>\n",
       "    </tr>\n",
       "  </thead>\n",
       "  <tbody>\n",
       "    <tr>\n",
       "      <th>0</th>\n",
       "      <td>linear</td>\n",
       "      <td>0.0029</td>\n",
       "      <td>0.0028</td>\n",
       "      <td>0.0027</td>\n",
       "      <td>0.0027</td>\n",
       "      <td>0.07</td>\n",
       "      <td>0.03</td>\n",
       "    </tr>\n",
       "    <tr>\n",
       "      <th>1</th>\n",
       "      <td>poly</td>\n",
       "      <td>0.0031</td>\n",
       "      <td>0.0038</td>\n",
       "      <td>0.0027</td>\n",
       "      <td>0.0027</td>\n",
       "      <td>0.10</td>\n",
       "      <td>0.03</td>\n",
       "    </tr>\n",
       "    <tr>\n",
       "      <th>2</th>\n",
       "      <td>rbf</td>\n",
       "      <td>0.0034</td>\n",
       "      <td>0.0031</td>\n",
       "      <td>0.0029</td>\n",
       "      <td>0.0029</td>\n",
       "      <td>0.05</td>\n",
       "      <td>0.05</td>\n",
       "    </tr>\n",
       "    <tr>\n",
       "      <th>3</th>\n",
       "      <td>sigmoid</td>\n",
       "      <td>0.0067</td>\n",
       "      <td>0.0123</td>\n",
       "      <td>0.0058</td>\n",
       "      <td>0.0058</td>\n",
       "      <td>0.13</td>\n",
       "      <td>0.06</td>\n",
       "    </tr>\n",
       "  </tbody>\n",
       "</table>\n",
       "</div>"
      ],
      "text/plain": [
       "    kernel  accuracy  precision  recall      f1  train_time_per_sample  \\\n",
       "0   linear    0.0029     0.0028  0.0027  0.0027                   0.07   \n",
       "1     poly    0.0031     0.0038  0.0027  0.0027                   0.10   \n",
       "2      rbf    0.0034     0.0031  0.0029  0.0029                   0.05   \n",
       "3  sigmoid    0.0067     0.0123  0.0058  0.0058                   0.13   \n",
       "\n",
       "   test_time_per_sample  \n",
       "0                  0.03  \n",
       "1                  0.03  \n",
       "2                  0.05  \n",
       "3                  0.06  "
      ]
     },
     "execution_count": 22,
     "metadata": {},
     "output_type": "execute_result"
    }
   ],
   "source": [
    "# Round the columns to the 4th decimal place\n",
    "std_df['accuracy'] = std_df['accuracy'].round(4)\n",
    "std_df['precision'] = std_df['precision'].round(4)\n",
    "std_df['recall'] = std_df['recall'].round(4)\n",
    "std_df['f1'] = std_df['f1'].round(4)\n",
    "\n",
    "# Scale from seconds to milliseconds\n",
    "std_df['train_time_per_sample'] = std_df['train_time_per_sample'] * 1000 # to microsec. \n",
    "std_df['train_time_per_sample'] = std_df['train_time_per_sample'].round(2)\n",
    "\n",
    "std_df['test_time_per_sample'] = std_df['test_time_per_sample'] * 1000 # to microsec.\n",
    "std_df['test_time_per_sample'] = std_df['test_time_per_sample'].round(2)\n",
    "\n",
    "std_df"
   ]
  },
  {
   "cell_type": "code",
   "execution_count": 23,
   "metadata": {},
   "outputs": [
    {
     "data": {
      "text/plain": [
       "'| kernel   |   accuracy |   precision |   recall |       f1 |   train_time_per_sample |   test_time_per_sample |\\n|:---------|-----------:|------------:|---------:|---------:|------------------------:|-----------------------:|\\n| linear   |   0.853317 |    0.852342 | 0.853542 | 0.853542 |             0.00209208  |            0.000691631 |\\n| poly     |   0.707178 |    0.731541 | 0.706453 | 0.706453 |             0.00154747  |            0.000821536 |\\n| rbf      |   0.803253 |    0.801155 | 0.803638 | 0.803638 |             0.000848904 |            0.00219455  |\\n| sigmoid  |   0.529774 |    0.543095 | 0.529517 | 0.529517 |             0.00114507  |            0.00098072  |'"
      ]
     },
     "execution_count": 23,
     "metadata": {},
     "output_type": "execute_result"
    }
   ],
   "source": [
    "markdown_table = mean_df.to_markdown(index=False)\n",
    "markdown_table"
   ]
  },
  {
   "cell_type": "code",
   "execution_count": 24,
   "metadata": {},
   "outputs": [
    {
     "name": "stdout",
     "output_type": "stream",
     "text": [
      "\\begin{tabular}{lrrrrrr}\n",
      "\\toprule\n",
      " kernel &  accuracy &  precision &   recall &       f1 &  train\\_time\\_per\\_sample &  test\\_time\\_per\\_sample \\\\\n",
      "\\midrule\n",
      " linear &  0.853317 &   0.852342 & 0.853542 & 0.853542 &               0.002092 &              0.000692 \\\\\n",
      "   poly &  0.707178 &   0.731541 & 0.706453 & 0.706453 &               0.001547 &              0.000822 \\\\\n",
      "    rbf &  0.803253 &   0.801155 & 0.803638 & 0.803638 &               0.000849 &              0.002195 \\\\\n",
      "sigmoid &  0.529774 &   0.543095 & 0.529517 & 0.529517 &               0.001145 &              0.000981 \\\\\n",
      "\\bottomrule\n",
      "\\end{tabular}\n",
      "\n"
     ]
    },
    {
     "name": "stderr",
     "output_type": "stream",
     "text": [
      "/var/folders/7l/08clpl7s5sg024cxlpgy5vtm0000gn/T/ipykernel_10521/1483047706.py:2: FutureWarning: In future versions `DataFrame.to_latex` is expected to utilise the base implementation of `Styler.to_latex` for formatting and rendering. The arguments signature may therefore change. It is recommended instead to use `DataFrame.style.to_latex` which also contains additional functionality.\n",
      "  latex_table = mean_df.to_latex(index=False)\n"
     ]
    }
   ],
   "source": [
    "# Convert DataFrame to LaTeX table\n",
    "latex_table = mean_df.to_latex(index=False)\n",
    "print(latex_table)"
   ]
  }
 ],
 "metadata": {
  "kernelspec": {
   "display_name": "dataScience",
   "language": "python",
   "name": "python3"
  },
  "language_info": {
   "codemirror_mode": {
    "name": "ipython",
    "version": 3
   },
   "file_extension": ".py",
   "mimetype": "text/x-python",
   "name": "python",
   "nbconvert_exporter": "python",
   "pygments_lexer": "ipython3",
   "version": "3.9.16"
  }
 },
 "nbformat": 4,
 "nbformat_minor": 2
}
