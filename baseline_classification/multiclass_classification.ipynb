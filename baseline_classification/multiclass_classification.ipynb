{
 "cells": [
  {
   "cell_type": "code",
   "execution_count": 2,
   "metadata": {},
   "outputs": [],
   "source": [
    "import pandas as pd"
   ]
  },
  {
   "attachments": {},
   "cell_type": "markdown",
   "metadata": {},
   "source": [
    "# Baseline MLP Multiclass Classification Experiment"
   ]
  },
  {
   "cell_type": "code",
   "execution_count": 3,
   "metadata": {},
   "outputs": [],
   "source": [
    "PATH = \"../../my_data/identification-dataset/my_custom_data/big-identification-dataset.csv\"\n",
    "df = pd.read_csv(PATH)"
   ]
  },
  {
   "cell_type": "code",
   "execution_count": 4,
   "metadata": {},
   "outputs": [
    {
     "name": "stdout",
     "output_type": "stream",
     "text": [
      "<class 'pandas.core.frame.DataFrame'>\n",
      "RangeIndex: 160260 entries, 0 to 160259\n",
      "Data columns (total 8 columns):\n",
      " #   Column         Non-Null Count   Dtype  \n",
      "---  ------         --------------   -----  \n",
      " 0   tdoa           160260 non-null  float64\n",
      " 1   snr_an         160260 non-null  float64\n",
      " 2   power_dif      160213 non-null  float64\n",
      " 3   rx_snr         119746 non-null  float64\n",
      " 4   rx_powerdif    119744 non-null  float64\n",
      " 5   tof            119746 non-null  float64\n",
      " 6   material       160260 non-null  object \n",
      " 7   NLOS_material  160260 non-null  int64  \n",
      "dtypes: float64(6), int64(1), object(1)\n",
      "memory usage: 9.8+ MB\n"
     ]
    }
   ],
   "source": [
    "df.info()"
   ]
  },
  {
   "cell_type": "code",
   "execution_count": 5,
   "metadata": {},
   "outputs": [],
   "source": [
    "df.dropna(inplace=True)"
   ]
  },
  {
   "cell_type": "code",
   "execution_count": 6,
   "metadata": {},
   "outputs": [
    {
     "data": {
      "text/html": [
       "<div>\n",
       "<style scoped>\n",
       "    .dataframe tbody tr th:only-of-type {\n",
       "        vertical-align: middle;\n",
       "    }\n",
       "\n",
       "    .dataframe tbody tr th {\n",
       "        vertical-align: top;\n",
       "    }\n",
       "\n",
       "    .dataframe thead th {\n",
       "        text-align: right;\n",
       "    }\n",
       "</style>\n",
       "<table border=\"1\" class=\"dataframe\">\n",
       "  <thead>\n",
       "    <tr style=\"text-align: right;\">\n",
       "      <th></th>\n",
       "      <th>tdoa</th>\n",
       "      <th>snr_an</th>\n",
       "      <th>power_dif</th>\n",
       "      <th>rx_snr</th>\n",
       "      <th>rx_powerdif</th>\n",
       "      <th>tof</th>\n",
       "      <th>material</th>\n",
       "      <th>NLOS_material</th>\n",
       "    </tr>\n",
       "  </thead>\n",
       "  <tbody>\n",
       "    <tr>\n",
       "      <th>0</th>\n",
       "      <td>-0.211129</td>\n",
       "      <td>145.678574</td>\n",
       "      <td>10.307022</td>\n",
       "      <td>215.300003</td>\n",
       "      <td>11.049919</td>\n",
       "      <td>5.009119</td>\n",
       "      <td>cardboard</td>\n",
       "      <td>1</td>\n",
       "    </tr>\n",
       "    <tr>\n",
       "      <th>1</th>\n",
       "      <td>-0.197054</td>\n",
       "      <td>134.321426</td>\n",
       "      <td>10.824654</td>\n",
       "      <td>192.000000</td>\n",
       "      <td>11.397888</td>\n",
       "      <td>5.027886</td>\n",
       "      <td>cardboard</td>\n",
       "      <td>1</td>\n",
       "    </tr>\n",
       "    <tr>\n",
       "      <th>2</th>\n",
       "      <td>-0.197054</td>\n",
       "      <td>134.321426</td>\n",
       "      <td>10.824654</td>\n",
       "      <td>236.149994</td>\n",
       "      <td>9.844360</td>\n",
       "      <td>5.065420</td>\n",
       "      <td>cardboard</td>\n",
       "      <td>1</td>\n",
       "    </tr>\n",
       "    <tr>\n",
       "      <th>3</th>\n",
       "      <td>-0.248663</td>\n",
       "      <td>104.107140</td>\n",
       "      <td>11.064209</td>\n",
       "      <td>236.149994</td>\n",
       "      <td>9.844360</td>\n",
       "      <td>5.065420</td>\n",
       "      <td>cardboard</td>\n",
       "      <td>1</td>\n",
       "    </tr>\n",
       "    <tr>\n",
       "      <th>4</th>\n",
       "      <td>-0.182979</td>\n",
       "      <td>113.250000</td>\n",
       "      <td>10.954155</td>\n",
       "      <td>185.000000</td>\n",
       "      <td>10.330307</td>\n",
       "      <td>5.027886</td>\n",
       "      <td>cardboard</td>\n",
       "      <td>1</td>\n",
       "    </tr>\n",
       "  </tbody>\n",
       "</table>\n",
       "</div>"
      ],
      "text/plain": [
       "       tdoa      snr_an  power_dif      rx_snr  rx_powerdif       tof  \\\n",
       "0 -0.211129  145.678574  10.307022  215.300003    11.049919  5.009119   \n",
       "1 -0.197054  134.321426  10.824654  192.000000    11.397888  5.027886   \n",
       "2 -0.197054  134.321426  10.824654  236.149994     9.844360  5.065420   \n",
       "3 -0.248663  104.107140  11.064209  236.149994     9.844360  5.065420   \n",
       "4 -0.182979  113.250000  10.954155  185.000000    10.330307  5.027886   \n",
       "\n",
       "    material  NLOS_material  \n",
       "0  cardboard              1  \n",
       "1  cardboard              1  \n",
       "2  cardboard              1  \n",
       "3  cardboard              1  \n",
       "4  cardboard              1  "
      ]
     },
     "execution_count": 6,
     "metadata": {},
     "output_type": "execute_result"
    }
   ],
   "source": [
    "df.head()"
   ]
  },
  {
   "cell_type": "code",
   "execution_count": 7,
   "metadata": {},
   "outputs": [
    {
     "data": {
      "text/html": [
       "<div>\n",
       "<style scoped>\n",
       "    .dataframe tbody tr th:only-of-type {\n",
       "        vertical-align: middle;\n",
       "    }\n",
       "\n",
       "    .dataframe tbody tr th {\n",
       "        vertical-align: top;\n",
       "    }\n",
       "\n",
       "    .dataframe thead th {\n",
       "        text-align: right;\n",
       "    }\n",
       "</style>\n",
       "<table border=\"1\" class=\"dataframe\">\n",
       "  <thead>\n",
       "    <tr style=\"text-align: right;\">\n",
       "      <th></th>\n",
       "      <th>tdoa</th>\n",
       "      <th>snr_an</th>\n",
       "      <th>power_dif</th>\n",
       "      <th>rx_snr</th>\n",
       "      <th>rx_powerdif</th>\n",
       "      <th>tof</th>\n",
       "      <th>NLOS_material</th>\n",
       "    </tr>\n",
       "  </thead>\n",
       "  <tbody>\n",
       "    <tr>\n",
       "      <th>count</th>\n",
       "      <td>119744.000000</td>\n",
       "      <td>119744.000000</td>\n",
       "      <td>119744.000000</td>\n",
       "      <td>119744.000000</td>\n",
       "      <td>119744.000000</td>\n",
       "      <td>119744.000000</td>\n",
       "      <td>119744.000000</td>\n",
       "    </tr>\n",
       "    <tr>\n",
       "      <th>mean</th>\n",
       "      <td>-0.009004</td>\n",
       "      <td>120.834692</td>\n",
       "      <td>12.863304</td>\n",
       "      <td>198.813199</td>\n",
       "      <td>11.032414</td>\n",
       "      <td>5.043572</td>\n",
       "      <td>1.750142</td>\n",
       "    </tr>\n",
       "    <tr>\n",
       "      <th>std</th>\n",
       "      <td>1.558409</td>\n",
       "      <td>39.876752</td>\n",
       "      <td>3.804028</td>\n",
       "      <td>31.198740</td>\n",
       "      <td>1.248188</td>\n",
       "      <td>0.022086</td>\n",
       "      <td>2.126004</td>\n",
       "    </tr>\n",
       "    <tr>\n",
       "      <th>min</th>\n",
       "      <td>-373.351807</td>\n",
       "      <td>6.208333</td>\n",
       "      <td>-17.027435</td>\n",
       "      <td>0.118671</td>\n",
       "      <td>-35.275032</td>\n",
       "      <td>4.952817</td>\n",
       "      <td>0.000000</td>\n",
       "    </tr>\n",
       "    <tr>\n",
       "      <th>25%</th>\n",
       "      <td>-0.211129</td>\n",
       "      <td>109.718750</td>\n",
       "      <td>11.155712</td>\n",
       "      <td>177.791672</td>\n",
       "      <td>10.306816</td>\n",
       "      <td>5.027886</td>\n",
       "      <td>0.000000</td>\n",
       "    </tr>\n",
       "    <tr>\n",
       "      <th>50%</th>\n",
       "      <td>-0.009384</td>\n",
       "      <td>127.750000</td>\n",
       "      <td>12.243141</td>\n",
       "      <td>198.449997</td>\n",
       "      <td>10.761261</td>\n",
       "      <td>5.041961</td>\n",
       "      <td>1.000000</td>\n",
       "    </tr>\n",
       "    <tr>\n",
       "      <th>75%</th>\n",
       "      <td>0.211129</td>\n",
       "      <td>144.041672</td>\n",
       "      <td>12.946575</td>\n",
       "      <td>222.399994</td>\n",
       "      <td>11.368462</td>\n",
       "      <td>5.056036</td>\n",
       "      <td>4.000000</td>\n",
       "    </tr>\n",
       "    <tr>\n",
       "      <th>max</th>\n",
       "      <td>4.077143</td>\n",
       "      <td>326.200012</td>\n",
       "      <td>32.832855</td>\n",
       "      <td>330.000000</td>\n",
       "      <td>36.156631</td>\n",
       "      <td>5.145180</td>\n",
       "      <td>6.000000</td>\n",
       "    </tr>\n",
       "  </tbody>\n",
       "</table>\n",
       "</div>"
      ],
      "text/plain": [
       "                tdoa         snr_an      power_dif         rx_snr  \\\n",
       "count  119744.000000  119744.000000  119744.000000  119744.000000   \n",
       "mean       -0.009004     120.834692      12.863304     198.813199   \n",
       "std         1.558409      39.876752       3.804028      31.198740   \n",
       "min      -373.351807       6.208333     -17.027435       0.118671   \n",
       "25%        -0.211129     109.718750      11.155712     177.791672   \n",
       "50%        -0.009384     127.750000      12.243141     198.449997   \n",
       "75%         0.211129     144.041672      12.946575     222.399994   \n",
       "max         4.077143     326.200012      32.832855     330.000000   \n",
       "\n",
       "         rx_powerdif            tof  NLOS_material  \n",
       "count  119744.000000  119744.000000  119744.000000  \n",
       "mean       11.032414       5.043572       1.750142  \n",
       "std         1.248188       0.022086       2.126004  \n",
       "min       -35.275032       4.952817       0.000000  \n",
       "25%        10.306816       5.027886       0.000000  \n",
       "50%        10.761261       5.041961       1.000000  \n",
       "75%        11.368462       5.056036       4.000000  \n",
       "max        36.156631       5.145180       6.000000  "
      ]
     },
     "execution_count": 7,
     "metadata": {},
     "output_type": "execute_result"
    }
   ],
   "source": [
    "df.describe()"
   ]
  },
  {
   "cell_type": "code",
   "execution_count": 8,
   "metadata": {},
   "outputs": [
    {
     "data": {
      "text/plain": [
       "array([1, 0, 2, 3, 4, 5, 6])"
      ]
     },
     "execution_count": 8,
     "metadata": {},
     "output_type": "execute_result"
    }
   ],
   "source": [
    "df['NLOS_material'].unique()"
   ]
  },
  {
   "attachments": {},
   "cell_type": "markdown",
   "metadata": {},
   "source": [
    "## Classification"
   ]
  },
  {
   "cell_type": "code",
   "execution_count": 9,
   "metadata": {},
   "outputs": [],
   "source": [
    "# Import modules from Scikit-learn\n",
    "from sklearn.neural_network import MLPClassifier\n",
    "from sklearn.model_selection import train_test_split   # Import train_test_split function\n",
    "from sklearn import metrics   # import metrics modules for accuracy calculation\n",
    "from sklearn.preprocessing import StandardScaler\n",
    "from sklearn.pipeline import make_pipeline\n",
    "from sklearn.metrics import confusion_matrix, roc_curve, auc\n",
    "import matplotlib.pyplot as plt\n",
    "import seaborn as sns"
   ]
  },
  {
   "cell_type": "code",
   "execution_count": 10,
   "metadata": {},
   "outputs": [],
   "source": [
    "# Create a pipeline object for the model\n",
    "pipe_MLP = make_pipeline(StandardScaler(),\n",
    "                         MLPClassifier(solver='adam',\n",
    "                                       hidden_layer_sizes=(100,100,100,100),\n",
    "                                       random_state=0,\n",
    "                                       max_iter=500,           # TODO: tune it later\n",
    "                                       verbose=True\n",
    "                                       )\n",
    "                         )"
   ]
  },
  {
   "cell_type": "code",
   "execution_count": 11,
   "metadata": {},
   "outputs": [],
   "source": [
    "# Extracted features \n",
    "X = df[['tdoa', 'snr_an', 'power_dif', 'rx_snr', 'rx_powerdif', 'tof']]\n",
    "y = df['NLOS_material'] # Labels"
   ]
  },
  {
   "cell_type": "code",
   "execution_count": 12,
   "metadata": {},
   "outputs": [],
   "source": [
    "# Split dataset into training and test set\n",
    "X_train, X_test, y_train, y_test = train_test_split(X, y, test_size = 0.3) # 70% training and 30% test"
   ]
  },
  {
   "cell_type": "code",
   "execution_count": 13,
   "metadata": {},
   "outputs": [
    {
     "name": "stdout",
     "output_type": "stream",
     "text": [
      "Iteration 1, loss = 0.56599866\n",
      "Iteration 2, loss = 0.33849467\n",
      "Iteration 3, loss = 0.31676718\n",
      "Iteration 4, loss = 0.30566879\n",
      "Iteration 5, loss = 0.30044711\n",
      "Iteration 6, loss = 0.29630972\n",
      "Iteration 7, loss = 0.29494215\n",
      "Iteration 8, loss = 0.29293348\n",
      "Iteration 9, loss = 0.29070312\n",
      "Iteration 10, loss = 0.28826351\n",
      "Iteration 11, loss = 0.28733285\n",
      "Iteration 12, loss = 0.28751401\n",
      "Iteration 13, loss = 0.28559889\n",
      "Iteration 14, loss = 0.28505027\n",
      "Iteration 15, loss = 0.28260905\n",
      "Iteration 16, loss = 0.28335630\n",
      "Iteration 17, loss = 0.28077891\n",
      "Iteration 18, loss = 0.28104117\n",
      "Iteration 19, loss = 0.28099356\n",
      "Iteration 20, loss = 0.27990128\n",
      "Iteration 21, loss = 0.27932206\n",
      "Iteration 22, loss = 0.27831437\n",
      "Iteration 23, loss = 0.27699341\n",
      "Iteration 24, loss = 0.27676820\n",
      "Iteration 25, loss = 0.27987264\n",
      "Iteration 26, loss = 0.27522423\n",
      "Iteration 27, loss = 0.27479572\n",
      "Iteration 28, loss = 0.27339028\n",
      "Iteration 29, loss = 0.27273623\n",
      "Iteration 30, loss = 0.27240638\n",
      "Iteration 31, loss = 0.27295919\n",
      "Iteration 32, loss = 0.27333724\n",
      "Iteration 33, loss = 0.27123495\n",
      "Iteration 34, loss = 0.27092119\n",
      "Iteration 35, loss = 0.26989999\n",
      "Iteration 36, loss = 0.26981408\n",
      "Iteration 37, loss = 0.27019432\n",
      "Iteration 38, loss = 0.26850519\n",
      "Iteration 39, loss = 0.26758656\n",
      "Iteration 40, loss = 0.26674897\n",
      "Iteration 41, loss = 0.26699635\n",
      "Iteration 42, loss = 0.26668358\n",
      "Iteration 43, loss = 0.26588099\n",
      "Iteration 44, loss = 0.26517104\n",
      "Iteration 45, loss = 0.26603569\n",
      "Iteration 46, loss = 0.26259003\n",
      "Iteration 47, loss = 0.26360119\n",
      "Iteration 48, loss = 0.26226702\n",
      "Iteration 49, loss = 0.26287212\n",
      "Iteration 50, loss = 0.26149182\n",
      "Iteration 51, loss = 0.26111304\n",
      "Iteration 52, loss = 0.26076069\n",
      "Iteration 53, loss = 0.26340809\n",
      "Iteration 54, loss = 0.25971826\n",
      "Iteration 55, loss = 0.25889245\n",
      "Iteration 56, loss = 0.25802237\n",
      "Iteration 57, loss = 0.25765592\n",
      "Iteration 58, loss = 0.25643509\n",
      "Iteration 59, loss = 0.25692868\n",
      "Iteration 60, loss = 0.25832339\n",
      "Iteration 61, loss = 0.25482332\n",
      "Iteration 62, loss = 0.25591849\n",
      "Iteration 63, loss = 0.25612551\n",
      "Iteration 64, loss = 0.25426651\n",
      "Iteration 65, loss = 0.25318300\n",
      "Iteration 66, loss = 0.25340423\n",
      "Iteration 67, loss = 0.25232555\n",
      "Iteration 68, loss = 0.25353063\n",
      "Iteration 69, loss = 0.25277651\n",
      "Iteration 70, loss = 0.25149935\n",
      "Iteration 71, loss = 0.25058899\n",
      "Iteration 72, loss = 0.24997228\n",
      "Iteration 73, loss = 0.24947313\n",
      "Iteration 74, loss = 0.25321315\n",
      "Iteration 75, loss = 0.25042978\n",
      "Iteration 76, loss = 0.24772428\n",
      "Iteration 77, loss = 0.24760078\n",
      "Iteration 78, loss = 0.24766245\n",
      "Iteration 79, loss = 0.24587738\n",
      "Iteration 80, loss = 0.24630893\n",
      "Iteration 81, loss = 0.24535460\n",
      "Iteration 82, loss = 0.24409899\n",
      "Iteration 83, loss = 0.24419654\n",
      "Iteration 84, loss = 0.24420661\n",
      "Iteration 85, loss = 0.24273624\n",
      "Iteration 86, loss = 0.24344593\n",
      "Iteration 87, loss = 0.24279529\n",
      "Iteration 88, loss = 0.24116461\n",
      "Iteration 89, loss = 0.24218058\n",
      "Iteration 90, loss = 0.24057481\n",
      "Iteration 91, loss = 0.24477577\n",
      "Iteration 92, loss = 0.24172872\n",
      "Iteration 93, loss = 0.23938624\n",
      "Iteration 94, loss = 0.23856137\n",
      "Iteration 95, loss = 0.23834502\n",
      "Iteration 96, loss = 0.23702259\n",
      "Iteration 97, loss = 0.23738032\n",
      "Iteration 98, loss = 0.23945190\n",
      "Iteration 99, loss = 0.23740581\n",
      "Iteration 100, loss = 0.23482643\n",
      "Iteration 101, loss = 0.23458562\n",
      "Iteration 102, loss = 0.23452183\n",
      "Iteration 103, loss = 0.23367499\n",
      "Iteration 104, loss = 0.23615919\n",
      "Iteration 105, loss = 0.23301973\n",
      "Iteration 106, loss = 0.23240890\n",
      "Iteration 107, loss = 0.23132690\n",
      "Iteration 108, loss = 0.23167465\n",
      "Iteration 109, loss = 0.23037703\n",
      "Iteration 110, loss = 0.22902384\n",
      "Iteration 111, loss = 0.23023881\n",
      "Iteration 112, loss = 0.23045025\n",
      "Iteration 113, loss = 0.22995143\n",
      "Iteration 114, loss = 0.22820952\n",
      "Iteration 115, loss = 0.22796128\n",
      "Iteration 116, loss = 0.22822043\n",
      "Iteration 117, loss = 0.23083837\n",
      "Iteration 118, loss = 0.22761568\n",
      "Iteration 119, loss = 0.22738860\n",
      "Iteration 120, loss = 0.22491733\n",
      "Iteration 121, loss = 0.22372562\n",
      "Iteration 122, loss = 0.22337372\n",
      "Iteration 123, loss = 0.22294217\n",
      "Iteration 124, loss = 0.22296465\n",
      "Iteration 125, loss = 0.22381671\n",
      "Iteration 126, loss = 0.22375989\n",
      "Iteration 127, loss = 0.22003563\n",
      "Iteration 128, loss = 0.22091378\n",
      "Iteration 129, loss = 0.22024492\n",
      "Iteration 130, loss = 0.21983367\n",
      "Iteration 131, loss = 0.21962985\n",
      "Iteration 132, loss = 0.21917132\n",
      "Iteration 133, loss = 0.21878684\n",
      "Iteration 134, loss = 0.21854705\n",
      "Iteration 135, loss = 0.21767712\n",
      "Iteration 136, loss = 0.22185287\n",
      "Iteration 137, loss = 0.21560986\n",
      "Iteration 138, loss = 0.21422276\n",
      "Iteration 139, loss = 0.21407239\n",
      "Iteration 140, loss = 0.21320545\n",
      "Iteration 141, loss = 0.21303261\n",
      "Iteration 142, loss = 0.21436887\n",
      "Iteration 143, loss = 0.21416880\n",
      "Iteration 144, loss = 0.21164880\n",
      "Iteration 145, loss = 0.21181942\n",
      "Iteration 146, loss = 0.21148282\n",
      "Iteration 147, loss = 0.20996095\n",
      "Iteration 148, loss = 0.21586887\n",
      "Iteration 149, loss = 0.21064639\n",
      "Iteration 150, loss = 0.20939587\n",
      "Iteration 151, loss = 0.20658069\n",
      "Iteration 152, loss = 0.20853732\n",
      "Iteration 153, loss = 0.20743215\n",
      "Iteration 154, loss = 0.20552900\n",
      "Iteration 155, loss = 0.20922767\n",
      "Iteration 156, loss = 0.20514653\n",
      "Iteration 157, loss = 0.20543246\n",
      "Iteration 158, loss = 0.20683111\n",
      "Iteration 159, loss = 0.20389018\n",
      "Iteration 160, loss = 0.20956602\n",
      "Iteration 161, loss = 0.20493315\n",
      "Iteration 162, loss = 0.20145046\n",
      "Iteration 163, loss = 0.20058625\n",
      "Iteration 164, loss = 0.19963067\n",
      "Iteration 165, loss = 0.20003810\n",
      "Iteration 166, loss = 0.19994047\n",
      "Iteration 167, loss = 0.20271443\n",
      "Iteration 168, loss = 0.19868111\n",
      "Iteration 169, loss = 0.19845399\n",
      "Iteration 170, loss = 0.19681032\n",
      "Iteration 171, loss = 0.19806713\n",
      "Iteration 172, loss = 0.19658944\n",
      "Iteration 173, loss = 0.19726977\n",
      "Iteration 174, loss = 0.19761171\n",
      "Iteration 175, loss = 0.19741336\n",
      "Iteration 176, loss = 0.19673807\n",
      "Iteration 177, loss = 0.19437382\n",
      "Iteration 178, loss = 0.19403970\n",
      "Iteration 179, loss = 0.19419558\n",
      "Iteration 180, loss = 0.19378155\n",
      "Iteration 181, loss = 0.19255613\n",
      "Iteration 182, loss = 0.19389580\n",
      "Iteration 183, loss = 0.19232955\n",
      "Iteration 184, loss = 0.19137963\n",
      "Iteration 185, loss = 0.19083379\n",
      "Iteration 186, loss = 0.19118031\n",
      "Iteration 187, loss = 0.18936932\n",
      "Iteration 188, loss = 0.18990880\n",
      "Iteration 189, loss = 0.18819781\n",
      "Iteration 190, loss = 0.18915796\n",
      "Iteration 191, loss = 0.18859072\n",
      "Iteration 192, loss = 0.19000027\n",
      "Iteration 193, loss = 0.18954873\n",
      "Iteration 194, loss = 0.18719009\n",
      "Iteration 195, loss = 0.18856016\n",
      "Iteration 196, loss = 0.18666632\n",
      "Iteration 197, loss = 0.18646827\n",
      "Iteration 198, loss = 0.18465608\n",
      "Iteration 199, loss = 0.18695737\n",
      "Iteration 200, loss = 0.18435077\n",
      "Iteration 201, loss = 0.18258831\n",
      "Iteration 202, loss = 0.18259085\n",
      "Iteration 203, loss = 0.18340960\n",
      "Iteration 204, loss = 0.18217893\n",
      "Iteration 205, loss = 0.18022757\n",
      "Iteration 206, loss = 0.18408870\n",
      "Iteration 207, loss = 0.18269535\n",
      "Iteration 208, loss = 0.17842438\n",
      "Iteration 209, loss = 0.18006437\n",
      "Iteration 210, loss = 0.18220535\n",
      "Iteration 211, loss = 0.17959736\n",
      "Iteration 212, loss = 0.18083751\n",
      "Iteration 213, loss = 0.18349330\n",
      "Iteration 214, loss = 0.18094443\n",
      "Iteration 215, loss = 0.18056235\n",
      "Iteration 216, loss = 0.18533418\n",
      "Iteration 217, loss = 0.17598741\n",
      "Iteration 218, loss = 0.17532294\n",
      "Iteration 219, loss = 0.17621383\n",
      "Iteration 220, loss = 0.17411388\n",
      "Iteration 221, loss = 0.17254423\n",
      "Iteration 222, loss = 0.17768169\n",
      "Iteration 223, loss = 0.17449857\n",
      "Iteration 224, loss = 0.17480576\n",
      "Iteration 225, loss = 0.17359252\n",
      "Iteration 226, loss = 0.17660438\n",
      "Iteration 227, loss = 0.17255225\n",
      "Iteration 228, loss = 0.17072431\n",
      "Iteration 229, loss = 0.17295036\n",
      "Iteration 230, loss = 0.16974599\n",
      "Iteration 231, loss = 0.17220334\n",
      "Iteration 232, loss = 0.18148448\n",
      "Iteration 233, loss = 0.17194240\n",
      "Iteration 234, loss = 0.17015879\n",
      "Iteration 235, loss = 0.16967723\n",
      "Iteration 236, loss = 0.16934077\n",
      "Iteration 237, loss = 0.16882920\n",
      "Iteration 238, loss = 0.17069756\n",
      "Iteration 239, loss = 0.16744121\n",
      "Iteration 240, loss = 0.16982954\n",
      "Iteration 241, loss = 0.16546884\n",
      "Iteration 242, loss = 0.16935402\n",
      "Iteration 243, loss = 0.16651555\n",
      "Iteration 244, loss = 0.16775446\n",
      "Iteration 245, loss = 0.16702471\n",
      "Iteration 246, loss = 0.16955400\n",
      "Iteration 247, loss = 0.16807574\n",
      "Iteration 248, loss = 0.16834873\n",
      "Iteration 249, loss = 0.16559426\n",
      "Iteration 250, loss = 0.16493785\n",
      "Iteration 251, loss = 0.16513314\n",
      "Iteration 252, loss = 0.16237114\n",
      "Iteration 253, loss = 0.16409423\n",
      "Iteration 254, loss = 0.16492107\n",
      "Iteration 255, loss = 0.16833331\n",
      "Iteration 256, loss = 0.16212079\n",
      "Iteration 257, loss = 0.16110005\n",
      "Iteration 258, loss = 0.16007143\n",
      "Iteration 259, loss = 0.16725291\n",
      "Iteration 260, loss = 0.17072174\n",
      "Iteration 261, loss = 0.16475113\n",
      "Iteration 262, loss = 0.16210910\n",
      "Iteration 263, loss = 0.15838848\n",
      "Iteration 264, loss = 0.15866820\n",
      "Iteration 265, loss = 0.16085539\n",
      "Iteration 266, loss = 0.15944891\n",
      "Iteration 267, loss = 0.15820780\n",
      "Iteration 268, loss = 0.15833713\n",
      "Iteration 269, loss = 0.15814929\n",
      "Iteration 270, loss = 0.16053277\n",
      "Iteration 271, loss = 0.16284239\n",
      "Iteration 272, loss = 0.16305528\n",
      "Iteration 273, loss = 0.15735543\n",
      "Iteration 274, loss = 0.15438109\n",
      "Iteration 275, loss = 0.15805503\n",
      "Iteration 276, loss = 0.15434834\n",
      "Iteration 277, loss = 0.15605274\n",
      "Iteration 278, loss = 0.16179412\n",
      "Iteration 279, loss = 0.16724809\n",
      "Iteration 280, loss = 0.16173509\n",
      "Iteration 281, loss = 0.15211738\n",
      "Iteration 282, loss = 0.15064192\n",
      "Iteration 283, loss = 0.15678205\n",
      "Iteration 284, loss = 0.14861077\n",
      "Iteration 285, loss = 0.15119053\n",
      "Iteration 286, loss = 0.15923966\n",
      "Iteration 287, loss = 0.15331181\n",
      "Iteration 288, loss = 0.14965297\n",
      "Iteration 289, loss = 0.14866076\n",
      "Iteration 290, loss = 0.14981997\n",
      "Iteration 291, loss = 0.15147557\n",
      "Iteration 292, loss = 0.15635404\n",
      "Iteration 293, loss = 0.15329151\n",
      "Iteration 294, loss = 0.15070533\n",
      "Iteration 295, loss = 0.15247212\n",
      "Training loss did not improve more than tol=0.000100 for 10 consecutive epochs. Stopping.\n"
     ]
    },
    {
     "data": {
      "text/plain": [
       "Pipeline(steps=[('standardscaler', StandardScaler()),\n",
       "                ('mlpclassifier',\n",
       "                 MLPClassifier(hidden_layer_sizes=(100, 100, 100, 100),\n",
       "                               max_iter=500, random_state=0, verbose=True))])"
      ]
     },
     "execution_count": 13,
     "metadata": {},
     "output_type": "execute_result"
    }
   ],
   "source": [
    "# Train the whole pipeline\n",
    "pipe_MLP.fit(X_train, y_train)"
   ]
  },
  {
   "cell_type": "code",
   "execution_count": 14,
   "metadata": {},
   "outputs": [],
   "source": [
    "# Make predictions on the test data\n",
    "y_pred = pipe_MLP.predict(X_test)"
   ]
  },
  {
   "cell_type": "code",
   "execution_count": 15,
   "metadata": {},
   "outputs": [
    {
     "name": "stdout",
     "output_type": "stream",
     "text": [
      "Test Accuracy: 86.68856474780091%\n"
     ]
    }
   ],
   "source": [
    "# Caluclate the accuracy on test data predicitons\n",
    "print(f'Test Accuracy: {metrics.accuracy_score(y_test, y_pred) * 100}%')"
   ]
  },
  {
   "cell_type": "code",
   "execution_count": 16,
   "metadata": {},
   "outputs": [
    {
     "name": "stdout",
     "output_type": "stream",
     "text": [
      "Test Precision: 76.75364297422286%\n"
     ]
    }
   ],
   "source": [
    "print(f'Test Precision: {metrics.precision_score(y_test, y_pred, average=\"macro\") * 100}%')"
   ]
  },
  {
   "cell_type": "code",
   "execution_count": 17,
   "metadata": {},
   "outputs": [
    {
     "name": "stdout",
     "output_type": "stream",
     "text": [
      "Test Recall: 77.23664103006249%\n"
     ]
    }
   ],
   "source": [
    "print(f'Test Recall: {metrics.recall_score(y_test, y_pred, average=\"macro\") * 100}%')"
   ]
  },
  {
   "cell_type": "code",
   "execution_count": 18,
   "metadata": {},
   "outputs": [
    {
     "name": "stdout",
     "output_type": "stream",
     "text": [
      "Test F1: 0.7689952563129354\n"
     ]
    }
   ],
   "source": [
    "print(f'Test F1: {metrics.f1_score(y_test, y_pred, average=\"macro\" )}')"
   ]
  },
  {
   "cell_type": "code",
   "execution_count": 19,
   "metadata": {},
   "outputs": [
    {
     "data": {
      "image/png": "[encoded data removed]",
      "text/plain": [
       "<Figure size 640x480 with 2 Axes>"
      ]
     },
     "metadata": {},
     "output_type": "display_data"
    }
   ],
   "source": [
    "cm = confusion_matrix(y_test, y_pred)\n",
    "# axis_labels = ['1', 'False']\n",
    "plt.figure()\n",
    "sns.heatmap(cm, annot=True)\n",
    "plt.title('Confusion Matrix')\n",
    "plt.ylabel('Actual')\n",
    "plt.xlabel('Predicted')\n",
    "plt.show()"
   ]
  },
  {
   "cell_type": "code",
   "execution_count": 20,
   "metadata": {},
   "outputs": [
    {
     "data": {
      "text/plain": [
       "array([[17947,     3,     1,     0,    10,     4,     0],\n",
       "       [    6,  2035,   471,     0,   228,    16,   209],\n",
       "       [    5,   721,  1483,     1,   550,    26,   222],\n",
       "       [    0,     0,     0,  2966,     0,     0,     0],\n",
       "       [    5,   209,   437,     0,  1586,   429,   302],\n",
       "       [    3,     6,    17,     1,   197,  2772,    26],\n",
       "       [    0,   240,   151,     1,   240,    45,  2353]])"
      ]
     },
     "execution_count": 20,
     "metadata": {},
     "output_type": "execute_result"
    }
   ],
   "source": [
    "cm"
   ]
  }
 ],
 "metadata": {
  "kernelspec": {
   "display_name": "dataScience",
   "language": "python",
   "name": "python3"
  },
  "language_info": {
   "codemirror_mode": {
    "name": "ipython",
    "version": 3
   },
   "file_extension": ".py",
   "mimetype": "text/x-python",
   "name": "python",
   "nbconvert_exporter": "python",
   "pygments_lexer": "ipython3",
   "version": "3.9.16"
  },
  "orig_nbformat": 4
 },
 "nbformat": 4,
 "nbformat_minor": 2
}
