{
 "cells": [
  {
   "attachments": {},
   "cell_type": "markdown",
   "metadata": {},
   "source": [
    "# Baseline MLP Binary Classification Experiment"
   ]
  },
  {
   "cell_type": "code",
   "execution_count": 78,
   "metadata": {},
   "outputs": [],
   "source": [
    "import pandas as pd"
   ]
  },
  {
   "cell_type": "code",
   "execution_count": 79,
   "metadata": {},
   "outputs": [],
   "source": [
    "metal_1 = \"../../my_data/identification-dataset/nlos/anTag/metal/data1/metal-anTag-data1_data.csv\"\n",
    "metal_2 = \"../../my_data/identification-dataset/nlos/anTag/metal/data2/metal-anTag-data2_data.csv\"\n",
    "metal_3 = \"../../my_data/identification-dataset/nlos/anTag/metal/data3/metal-anTag-data3_data.csv\"\n",
    "\n",
    "foam_1 = \"../../my_data/identification-dataset/nlos/anTag/foam/data1/foam-anTag-data1_data.csv\"\n",
    "foam_2 = \"../../my_data/identification-dataset/nlos/anTag/foam/data2/foam-anTag-data2_data.csv\"\n",
    "foam_3 = \"../../my_data/identification-dataset/nlos/anTag/foam/data3/foam-anTag-data3_data.csv\"\n",
    "\n",
    "plastic_1 = \"../../my_data/identification-dataset/nlos/anTag/plastic/data1/plastic-anTag-data1_data.csv\"\n",
    "plastic_2 = \"../../my_data/identification-dataset/nlos/anTag/plastic/data2/plastic-anTag-data2_data.csv\"\n",
    "plastic_3 = \"../../my_data/identification-dataset/nlos/anTag/plastic/data3/plastic-anTag-data3_data.csv\""
   ]
  },
  {
   "cell_type": "code",
   "execution_count": 80,
   "metadata": {},
   "outputs": [],
   "source": [
    "df_metal_1 = pd.read_csv(metal_1)\n",
    "df_metal_2 = pd.read_csv(metal_2)\n",
    "df_metal_3 = pd.read_csv(metal_3)\n",
    "\n",
    "df_foam_1 = pd.read_csv(foam_1)\n",
    "df_foam_2 = pd.read_csv(foam_2)\n",
    "df_foam_3 = pd.read_csv(foam_3)\n",
    "\n",
    "df_plastic_1 = pd.read_csv(plastic_1)\n",
    "df_plastic_2 = pd.read_csv(plastic_2)\n",
    "df_plastic_3 = pd.read_csv(plastic_3)"
   ]
  },
  {
   "cell_type": "code",
   "execution_count": 81,
   "metadata": {},
   "outputs": [],
   "source": [
    "# splitting in anchor information\n",
    "df_metal_1_an1 = df_metal_1[['tdoa12', 'snr_an1', 'power_dif_an1', 'an1_rx_snr', 'an1_rx_powerdif', 'an1_tof']].copy()\n",
    "df_metal_1_an2 = df_metal_1[['tdoa21', 'snr_an2', 'power_dif_an2', 'an2_rx_snr', 'an2_rx_powerdif', 'an2_tof']].copy()\n",
    "\n",
    "df_metal_2_an1 = df_metal_2[['tdoa12', 'snr_an1', 'power_dif_an1', 'an1_rx_snr', 'an1_rx_powerdif', 'an1_tof']].copy()\n",
    "df_metal_2_an2 = df_metal_2[['tdoa21', 'snr_an2', 'power_dif_an2', 'an2_rx_snr', 'an2_rx_powerdif', 'an2_tof']].copy()\n",
    "\n",
    "df_metal_3_an1 = df_metal_3[['tdoa12', 'snr_an1', 'power_dif_an1', 'an1_rx_snr', 'an1_rx_powerdif', 'an1_tof']].copy()\n",
    "df_metal_3_an2 = df_metal_3[['tdoa21', 'snr_an2', 'power_dif_an2', 'an2_rx_snr', 'an2_rx_powerdif', 'an2_tof']].copy()\n",
    "\n",
    "\n",
    "df_foam_1_an1 = df_foam_1[['tdoa12', 'snr_an1', 'power_dif_an1', 'an1_rx_snr', 'an1_rx_powerdif', 'an1_tof']].copy()\n",
    "df_foam_1_an2 = df_foam_1[['tdoa21', 'snr_an2', 'power_dif_an2', 'an2_rx_snr', 'an2_rx_powerdif', 'an2_tof']].copy()\n",
    "\n",
    "df_foam_2_an1 = df_foam_2[['tdoa12', 'snr_an1', 'power_dif_an1', 'an1_rx_snr', 'an1_rx_powerdif', 'an1_tof']].copy()\n",
    "df_foam_2_an2 = df_foam_2[['tdoa21', 'snr_an2', 'power_dif_an2', 'an2_rx_snr', 'an2_rx_powerdif', 'an2_tof']].copy()\n",
    "\n",
    "df_foam_3_an1 = df_foam_3[['tdoa12', 'snr_an1', 'power_dif_an1', 'an1_rx_snr', 'an1_rx_powerdif', 'an1_tof']].copy()\n",
    "df_foam_3_an2 = df_foam_3[['tdoa21', 'snr_an2', 'power_dif_an2', 'an2_rx_snr', 'an2_rx_powerdif', 'an2_tof']].copy()\n",
    "\n",
    "\n",
    "df_plastic_1_an1 = df_plastic_1[['tdoa12', 'snr_an1', 'power_dif_an1', 'an1_rx_snr', 'an1_rx_powerdif', 'an1_tof']].copy()\n",
    "df_plastic_1_an2 = df_plastic_1[['tdoa21', 'snr_an2', 'power_dif_an2', 'an2_rx_snr', 'an2_rx_powerdif', 'an2_tof']].copy()\n",
    "\n",
    "df_plastic_2_an1 = df_plastic_2[['tdoa12', 'snr_an1', 'power_dif_an1', 'an1_rx_snr', 'an1_rx_powerdif', 'an1_tof']].copy()\n",
    "df_plastic_2_an2 = df_plastic_2[['tdoa21', 'snr_an2', 'power_dif_an2', 'an2_rx_snr', 'an2_rx_powerdif', 'an2_tof']].copy()\n",
    "\n",
    "df_plastic_3_an1 = df_plastic_3[['tdoa12', 'snr_an1', 'power_dif_an1', 'an1_rx_snr', 'an1_rx_powerdif', 'an1_tof']].copy()\n",
    "df_plastic_3_an2 = df_plastic_3[['tdoa21', 'snr_an2', 'power_dif_an2', 'an2_rx_snr', 'an2_rx_powerdif', 'an2_tof']].copy()"
   ]
  },
  {
   "cell_type": "code",
   "execution_count": 82,
   "metadata": {},
   "outputs": [],
   "source": [
    "an1_list = [df_metal_1_an1, df_metal_2_an1, df_metal_3_an1,\n",
    "            df_foam_1_an1, df_foam_2_an1, df_foam_3_an1,\n",
    "            df_plastic_1_an1, df_plastic_2_an1, df_plastic_3_an1]\n",
    "\n",
    "an2_list = [df_metal_1_an2, df_metal_2_an2, df_metal_3_an2,\n",
    "            df_foam_1_an2, df_foam_2_an2, df_foam_3_an2,\n",
    "            df_plastic_1_an2, df_plastic_2_an2, df_plastic_3_an2]"
   ]
  },
  {
   "cell_type": "code",
   "execution_count": 83,
   "metadata": {},
   "outputs": [],
   "source": [
    "for df in an1_list:\n",
    "    df.rename({'tdoa12':'tdoa', \n",
    "                'snr_an1':'snr_an', \n",
    "                'power_dif_an1':'power_dif', \n",
    "                'an1_rx_snr':'rx_snr', \n",
    "                'an1_rx_powerdif':'rx_powerdif', \n",
    "                'an1_tof':'tof'}, axis=1, inplace=True)\n",
    "    \n",
    "for df in an2_list:\n",
    "    df.rename({'tdoa21':'tdoa',\n",
    "                'snr_an2':'snr_an', \n",
    "                'power_dif_an2':'power_dif', \n",
    "                'an2_rx_snr':'rx_snr', \n",
    "                'an2_rx_powerdif':'rx_powerdif', \n",
    "                'an2_tof':'tof'}, axis=1, inplace=True)\n"
   ]
  },
  {
   "cell_type": "code",
   "execution_count": 84,
   "metadata": {},
   "outputs": [],
   "source": [
    "df_metal_1_an1 = an1_list[0]\n",
    "df_metal_2_an1 = an1_list[1]\n",
    "df_metal_3_an1 = an1_list[2]\n",
    "df_foam_1_an1 = an1_list[3]\n",
    "df_foam_2_an1 = an1_list[4]\n",
    "df_foam_3_an1 = an1_list[5]\n",
    "df_plastic_1_an1 = an1_list[6]\n",
    "df_plastic_2_an1 = an1_list[7]\n",
    "df_plastic_3_an1 = an1_list[8]"
   ]
  },
  {
   "cell_type": "code",
   "execution_count": 85,
   "metadata": {},
   "outputs": [],
   "source": [
    "df_metal_1_an2 = an2_list[0]\n",
    "df_metal_2_an2 = an2_list[1]\n",
    "df_metal_3_an2 = an2_list[2]\n",
    "df_foam_1_an2 = an2_list[3]\n",
    "df_foam_2_an2 = an2_list[4]\n",
    "df_foam_3_an2 = an2_list[5]\n",
    "df_plastic_1_an2 = an2_list[6]\n",
    "df_plastic_2_an2 = an2_list[7]\n",
    "df_plastic_3_an2 = an2_list[8]"
   ]
  },
  {
   "cell_type": "code",
   "execution_count": 86,
   "metadata": {},
   "outputs": [],
   "source": [
    "df_metal_an1 = pd.concat([df_metal_1_an1, df_metal_2_an1, df_metal_3_an1], ignore_index=True, sort=False)\n",
    "df_metal_an2 = pd.concat([df_metal_1_an1, df_metal_2_an1, df_metal_3_an2], ignore_index=True, sort=False)\n",
    "\n",
    "df_foam_an1 = pd.concat([df_foam_1_an1, df_foam_2_an1, df_foam_3_an1], ignore_index=True, sort=False)\n",
    "df_foam_an2 = pd.concat([df_foam_1_an1, df_foam_2_an1, df_foam_3_an2], ignore_index=True, sort=False)\n",
    "\n",
    "df_plastic_an1 = pd.concat([df_plastic_1_an1, df_plastic_2_an1, df_plastic_3_an1], ignore_index=True, sort=False)\n",
    "df_plastic_an2 = pd.concat([df_plastic_1_an1, df_plastic_2_an1, df_plastic_3_an2], ignore_index=True, sort=False)"
   ]
  },
  {
   "cell_type": "code",
   "execution_count": 87,
   "metadata": {},
   "outputs": [],
   "source": [
    "df_metal_an1['NLOS_material'] = 1 # metal\n",
    "df_metal_an2['NLOS_material'] = 0 # nothing\n",
    "\n",
    "df_foam_an1['NLOS_material'] = 2 # foam\n",
    "df_foam_an2['NLOS_material'] = 0 # nothing\n",
    "\n",
    "df_plastic_an1['NLOS_material'] = 3 # plastic\n",
    "df_plastic_an2['NLOS_material'] = 0 # nothing"
   ]
  },
  {
   "cell_type": "code",
   "execution_count": 88,
   "metadata": {},
   "outputs": [],
   "source": [
    "df = pd.concat([df_metal_an1, df_metal_an2, df_foam_an1, df_foam_an2, df_plastic_an1, df_plastic_an2], ignore_index=True, sort=False)"
   ]
  },
  {
   "cell_type": "code",
   "execution_count": 89,
   "metadata": {},
   "outputs": [],
   "source": [
    "df.dropna(inplace=True)"
   ]
  },
  {
   "cell_type": "code",
   "execution_count": 90,
   "metadata": {},
   "outputs": [
    {
     "data": {
      "text/html": [
       "<div>\n",
       "<style scoped>\n",
       "    .dataframe tbody tr th:only-of-type {\n",
       "        vertical-align: middle;\n",
       "    }\n",
       "\n",
       "    .dataframe tbody tr th {\n",
       "        vertical-align: top;\n",
       "    }\n",
       "\n",
       "    .dataframe thead th {\n",
       "        text-align: right;\n",
       "    }\n",
       "</style>\n",
       "<table border=\"1\" class=\"dataframe\">\n",
       "  <thead>\n",
       "    <tr style=\"text-align: right;\">\n",
       "      <th></th>\n",
       "      <th>tdoa</th>\n",
       "      <th>snr_an</th>\n",
       "      <th>power_dif</th>\n",
       "      <th>rx_snr</th>\n",
       "      <th>rx_powerdif</th>\n",
       "      <th>tof</th>\n",
       "      <th>NLOS_material</th>\n",
       "    </tr>\n",
       "  </thead>\n",
       "  <tbody>\n",
       "    <tr>\n",
       "      <th>0</th>\n",
       "      <td>-0.319040</td>\n",
       "      <td>24.450001</td>\n",
       "      <td>23.648659</td>\n",
       "      <td>132.000000</td>\n",
       "      <td>14.551033</td>\n",
       "      <td>5.037270</td>\n",
       "      <td>1</td>\n",
       "    </tr>\n",
       "    <tr>\n",
       "      <th>1</th>\n",
       "      <td>-0.319040</td>\n",
       "      <td>24.450001</td>\n",
       "      <td>23.648659</td>\n",
       "      <td>172.666672</td>\n",
       "      <td>14.281364</td>\n",
       "      <td>5.056036</td>\n",
       "      <td>1</td>\n",
       "    </tr>\n",
       "    <tr>\n",
       "      <th>2</th>\n",
       "      <td>-0.319040</td>\n",
       "      <td>14.928572</td>\n",
       "      <td>25.917366</td>\n",
       "      <td>203.149994</td>\n",
       "      <td>14.264801</td>\n",
       "      <td>5.088879</td>\n",
       "      <td>1</td>\n",
       "    </tr>\n",
       "    <tr>\n",
       "      <th>3</th>\n",
       "      <td>-0.464485</td>\n",
       "      <td>20.607143</td>\n",
       "      <td>26.443871</td>\n",
       "      <td>159.000000</td>\n",
       "      <td>13.419594</td>\n",
       "      <td>5.084187</td>\n",
       "      <td>1</td>\n",
       "    </tr>\n",
       "    <tr>\n",
       "      <th>4</th>\n",
       "      <td>-0.300273</td>\n",
       "      <td>26.416666</td>\n",
       "      <td>25.613457</td>\n",
       "      <td>226.899994</td>\n",
       "      <td>13.669937</td>\n",
       "      <td>5.060728</td>\n",
       "      <td>1</td>\n",
       "    </tr>\n",
       "  </tbody>\n",
       "</table>\n",
       "</div>"
      ],
      "text/plain": [
       "       tdoa     snr_an  power_dif      rx_snr  rx_powerdif       tof  \\\n",
       "0 -0.319040  24.450001  23.648659  132.000000    14.551033  5.037270   \n",
       "1 -0.319040  24.450001  23.648659  172.666672    14.281364  5.056036   \n",
       "2 -0.319040  14.928572  25.917366  203.149994    14.264801  5.088879   \n",
       "3 -0.464485  20.607143  26.443871  159.000000    13.419594  5.084187   \n",
       "4 -0.300273  26.416666  25.613457  226.899994    13.669937  5.060728   \n",
       "\n",
       "   NLOS_material  \n",
       "0              1  \n",
       "1              1  \n",
       "2              1  \n",
       "3              1  \n",
       "4              1  "
      ]
     },
     "execution_count": 90,
     "metadata": {},
     "output_type": "execute_result"
    }
   ],
   "source": [
    "df.head()"
   ]
  },
  {
   "cell_type": "code",
   "execution_count": 91,
   "metadata": {},
   "outputs": [
    {
     "data": {
      "text/plain": [
       "array([1, 0, 2, 3])"
      ]
     },
     "execution_count": 91,
     "metadata": {},
     "output_type": "execute_result"
    }
   ],
   "source": [
    "df['NLOS_material'].unique()"
   ]
  },
  {
   "cell_type": "code",
   "execution_count": 92,
   "metadata": {},
   "outputs": [
    {
     "data": {
      "text/html": [
       "<div>\n",
       "<style scoped>\n",
       "    .dataframe tbody tr th:only-of-type {\n",
       "        vertical-align: middle;\n",
       "    }\n",
       "\n",
       "    .dataframe tbody tr th {\n",
       "        vertical-align: top;\n",
       "    }\n",
       "\n",
       "    .dataframe thead th {\n",
       "        text-align: right;\n",
       "    }\n",
       "</style>\n",
       "<table border=\"1\" class=\"dataframe\">\n",
       "  <thead>\n",
       "    <tr style=\"text-align: right;\">\n",
       "      <th></th>\n",
       "      <th>tdoa</th>\n",
       "      <th>snr_an</th>\n",
       "      <th>power_dif</th>\n",
       "      <th>rx_snr</th>\n",
       "      <th>rx_powerdif</th>\n",
       "      <th>tof</th>\n",
       "      <th>NLOS_material</th>\n",
       "    </tr>\n",
       "  </thead>\n",
       "  <tbody>\n",
       "    <tr>\n",
       "      <th>count</th>\n",
       "      <td>35936.000000</td>\n",
       "      <td>35936.000000</td>\n",
       "      <td>35936.000000</td>\n",
       "      <td>35936.000000</td>\n",
       "      <td>35936.000000</td>\n",
       "      <td>35936.000000</td>\n",
       "      <td>35936.000000</td>\n",
       "    </tr>\n",
       "    <tr>\n",
       "      <th>mean</th>\n",
       "      <td>-0.197316</td>\n",
       "      <td>98.292288</td>\n",
       "      <td>15.065376</td>\n",
       "      <td>197.675978</td>\n",
       "      <td>11.475853</td>\n",
       "      <td>5.051496</td>\n",
       "      <td>1.002087</td>\n",
       "    </tr>\n",
       "    <tr>\n",
       "      <th>std</th>\n",
       "      <td>0.380310</td>\n",
       "      <td>54.038605</td>\n",
       "      <td>6.341710</td>\n",
       "      <td>30.943111</td>\n",
       "      <td>1.580808</td>\n",
       "      <td>0.021468</td>\n",
       "      <td>1.156212</td>\n",
       "    </tr>\n",
       "    <tr>\n",
       "      <th>min</th>\n",
       "      <td>-9.580582</td>\n",
       "      <td>6.208333</td>\n",
       "      <td>-6.842743</td>\n",
       "      <td>5.015790</td>\n",
       "      <td>-31.256706</td>\n",
       "      <td>4.976276</td>\n",
       "      <td>0.000000</td>\n",
       "    </tr>\n",
       "    <tr>\n",
       "      <th>25%</th>\n",
       "      <td>-0.342499</td>\n",
       "      <td>25.785715</td>\n",
       "      <td>10.934319</td>\n",
       "      <td>176.649994</td>\n",
       "      <td>10.372650</td>\n",
       "      <td>5.037270</td>\n",
       "      <td>0.000000</td>\n",
       "    </tr>\n",
       "    <tr>\n",
       "      <th>50%</th>\n",
       "      <td>-0.201746</td>\n",
       "      <td>113.218750</td>\n",
       "      <td>12.311340</td>\n",
       "      <td>196.708328</td>\n",
       "      <td>10.960880</td>\n",
       "      <td>5.051345</td>\n",
       "      <td>0.500000</td>\n",
       "    </tr>\n",
       "    <tr>\n",
       "      <th>75%</th>\n",
       "      <td>-0.126678</td>\n",
       "      <td>137.583328</td>\n",
       "      <td>23.820045</td>\n",
       "      <td>221.199997</td>\n",
       "      <td>12.727268</td>\n",
       "      <td>5.065420</td>\n",
       "      <td>2.000000</td>\n",
       "    </tr>\n",
       "    <tr>\n",
       "      <th>max</th>\n",
       "      <td>4.077143</td>\n",
       "      <td>249.649994</td>\n",
       "      <td>32.333527</td>\n",
       "      <td>320.312500</td>\n",
       "      <td>15.155426</td>\n",
       "      <td>5.145180</td>\n",
       "      <td>3.000000</td>\n",
       "    </tr>\n",
       "  </tbody>\n",
       "</table>\n",
       "</div>"
      ],
      "text/plain": [
       "               tdoa        snr_an     power_dif        rx_snr   rx_powerdif  \\\n",
       "count  35936.000000  35936.000000  35936.000000  35936.000000  35936.000000   \n",
       "mean      -0.197316     98.292288     15.065376    197.675978     11.475853   \n",
       "std        0.380310     54.038605      6.341710     30.943111      1.580808   \n",
       "min       -9.580582      6.208333     -6.842743      5.015790    -31.256706   \n",
       "25%       -0.342499     25.785715     10.934319    176.649994     10.372650   \n",
       "50%       -0.201746    113.218750     12.311340    196.708328     10.960880   \n",
       "75%       -0.126678    137.583328     23.820045    221.199997     12.727268   \n",
       "max        4.077143    249.649994     32.333527    320.312500     15.155426   \n",
       "\n",
       "                tof  NLOS_material  \n",
       "count  35936.000000   35936.000000  \n",
       "mean       5.051496       1.002087  \n",
       "std        0.021468       1.156212  \n",
       "min        4.976276       0.000000  \n",
       "25%        5.037270       0.000000  \n",
       "50%        5.051345       0.500000  \n",
       "75%        5.065420       2.000000  \n",
       "max        5.145180       3.000000  "
      ]
     },
     "execution_count": 92,
     "metadata": {},
     "output_type": "execute_result"
    }
   ],
   "source": [
    "df.describe()"
   ]
  },
  {
   "attachments": {},
   "cell_type": "markdown",
   "metadata": {},
   "source": [
    "## Classification"
   ]
  },
  {
   "cell_type": "code",
   "execution_count": 93,
   "metadata": {},
   "outputs": [],
   "source": [
    "# Import modules from Scikit-learn\n",
    "from sklearn.neural_network import MLPClassifier\n",
    "from sklearn.model_selection import train_test_split   # Import train_test_split function\n",
    "from sklearn import metrics   # import metrics modules for accuracy calculation\n",
    "from sklearn.preprocessing import StandardScaler\n",
    "from sklearn.pipeline import make_pipeline"
   ]
  },
  {
   "cell_type": "code",
   "execution_count": 94,
   "metadata": {},
   "outputs": [],
   "source": [
    "# Create a pipeline object for the model\n",
    "pipe_MLP = make_pipeline(StandardScaler(),\n",
    "                         MLPClassifier(solver='adam',\n",
    "                                       hidden_layer_sizes=(100,100,100,), # 3 hidden layers with (100x100x100) neurons\n",
    "                                       random_state=0,\n",
    "                                       max_iter=500,           # TODO: tune it later\n",
    "                                       verbose=True\n",
    "                                       )\n",
    "                         )"
   ]
  },
  {
   "cell_type": "code",
   "execution_count": 95,
   "metadata": {},
   "outputs": [],
   "source": [
    "# Extracted features \n",
    "X = df[['tdoa', 'snr_an', 'power_dif', 'rx_snr', 'rx_powerdif', 'tof', 'NLOS_material']]\n",
    "y = df['NLOS_material'] # Labels"
   ]
  },
  {
   "cell_type": "code",
   "execution_count": 96,
   "metadata": {},
   "outputs": [],
   "source": [
    "# Split dataset into training and test set\n",
    "X_train, X_test, y_train, y_test = train_test_split(X, y, test_size = 0.3) # 70% training and 30% test"
   ]
  },
  {
   "cell_type": "code",
   "execution_count": 97,
   "metadata": {},
   "outputs": [
    {
     "name": "stdout",
     "output_type": "stream",
     "text": [
      "Iteration 1, loss = 0.26262350\n",
      "Iteration 2, loss = 0.00626582\n",
      "Iteration 3, loss = 0.00231592\n",
      "Iteration 4, loss = 0.00131303\n",
      "Iteration 5, loss = 0.00078790\n",
      "Iteration 6, loss = 0.00048411\n",
      "Iteration 7, loss = 0.00124328\n",
      "Iteration 8, loss = 0.00030819\n",
      "Iteration 9, loss = 0.00018526\n",
      "Iteration 10, loss = 0.00014530\n",
      "Iteration 11, loss = 0.00012351\n",
      "Iteration 12, loss = 0.00011201\n",
      "Iteration 13, loss = 0.00010388\n",
      "Iteration 14, loss = 0.00009763\n",
      "Iteration 15, loss = 0.00009234\n",
      "Iteration 16, loss = 0.00008776\n",
      "Iteration 17, loss = 0.00008453\n",
      "Iteration 18, loss = 0.00008204\n",
      "Iteration 19, loss = 0.00007995\n",
      "Iteration 20, loss = 0.00007842\n",
      "Training loss did not improve more than tol=0.000100 for 10 consecutive epochs. Stopping.\n"
     ]
    },
    {
     "data": {
      "text/plain": [
       "Pipeline(steps=[('standardscaler', StandardScaler()),\n",
       "                ('mlpclassifier',\n",
       "                 MLPClassifier(hidden_layer_sizes=(100, 100, 100), max_iter=500,\n",
       "                               random_state=0, verbose=True))])"
      ]
     },
     "execution_count": 97,
     "metadata": {},
     "output_type": "execute_result"
    }
   ],
   "source": [
    "# Train the whole pipeline\n",
    "pipe_MLP.fit(X_train, y_train)"
   ]
  },
  {
   "cell_type": "code",
   "execution_count": 98,
   "metadata": {},
   "outputs": [],
   "source": [
    "# Make predictions on the test data\n",
    "y_pred = pipe_MLP.predict(X_test)"
   ]
  },
  {
   "cell_type": "code",
   "execution_count": 99,
   "metadata": {},
   "outputs": [
    {
     "name": "stdout",
     "output_type": "stream",
     "text": [
      "Test Accuracy: 99.98144884519061%\n"
     ]
    }
   ],
   "source": [
    "# Caluclate the accuracy on test data predicitons\n",
    "print(f'Test Accuracy: {metrics.accuracy_score(y_test, y_pred) * 100}%')"
   ]
  }
 ],
 "metadata": {
  "kernelspec": {
   "display_name": "dataScience",
   "language": "python",
   "name": "python3"
  },
  "language_info": {
   "codemirror_mode": {
    "name": "ipython",
    "version": 3
   },
   "file_extension": ".py",
   "mimetype": "text/x-python",
   "name": "python",
   "nbconvert_exporter": "python",
   "pygments_lexer": "ipython3",
   "version": "3.9.16"
  },
  "orig_nbformat": 4
 },
 "nbformat": 4,
 "nbformat_minor": 2
}
