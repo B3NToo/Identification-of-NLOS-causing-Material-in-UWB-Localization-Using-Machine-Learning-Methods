{
 "cells": [
  {
   "cell_type": "code",
   "execution_count": 15,
   "metadata": {},
   "outputs": [],
   "source": [
    "import pandas as pd\n",
    "import numpy as np\n",
    "from numpy import linalg\n",
    "import os, sys\n",
    "\n",
    "from utility.praser import deleteNAN\n",
    "from matplotlib import pyplot as plt\n",
    "from scipy import stats"
   ]
  },
  {
   "cell_type": "code",
   "execution_count": 16,
   "metadata": {},
   "outputs": [],
   "source": [
    "# meta-data\n",
    "data_types = ['cardboard', 'foam', 'metal', 'plastic', 'wooden-cabinet', 'wooden-shelf']\n",
    "meas_numbers = 6\n",
    "type_encoding = {\n",
    "    'nothing':0,\n",
    "    'cardboard':1, \n",
    "    'foam':2, \n",
    "    'metal':3, \n",
    "    'plastic':4, \n",
    "    'wooden-cabinet':5, \n",
    "    'wooden-shelf':6\n",
    "}"
   ]
  },
  {
   "cell_type": "code",
   "execution_count": 26,
   "metadata": {},
   "outputs": [],
   "source": [
    "# collecting all relevant files\n",
    "df_list = []\n",
    "pos_list = []\n",
    "for data_type in data_types:\n",
    "    for num in range(1,meas_numbers):\n",
    "        # collect csv\n",
    "        path = f\"../../my_data/identification-dataset/nlos/anTag/{data_type}/data{num}/{data_type}-anTag-data{num}_data.csv\"\n",
    "        df = pd.read_csv(path)\n",
    "        df['material'] = data_type\n",
    "        # add material encoding\n",
    "        df['encoded_material'] = type_encoding[df['material'].unique()[0]]\n",
    "        # save df\n",
    "        df_list.append(df)\n",
    "\n",
    "        # collect pos\n",
    "        folder = f\"../../my_data/identification-dataset/nlos/anTag/{data_type}/data{num}/\"\n",
    "        # search for txt files in the folder\n",
    "        for file in os.listdir(folder):\n",
    "            if file.endswith(\".txt\"):\n",
    "                pose_txt = os.path.join(folder, file)\n",
    "        \n",
    "        f = open(pose_txt,\"r\")\n",
    "        pos=[];    quat=[]       # position and quaternion\n",
    "        for line in f:\n",
    "            x = line.split(\",\")\n",
    "            if len(x) == 4:\n",
    "                arr_x = [float(x[1]), float(x[2]), float(x[3])]\n",
    "                pos.append(arr_x)\n",
    "            if len(x) == 5:\n",
    "                q_x = [float(x[1]), float(x[2]), float(x[3]), float(x[4])]\n",
    "                quat.append(q_x)\n",
    "\n",
    "        # calculate values\n",
    "        pos = np.array(pos)     # [an1_p, an2_p, tag_p]\n",
    "        quat = np.array(quat)   # [an1_quat, an2_quat, tag_quat]\n",
    "        an1_p = pos[0,:]; \n",
    "        an2_p = pos[1,:]; \n",
    "        tag_p = pos[2,:]\n",
    "        obs = np.vstack((pos[3,:], pos[4,:], pos[5,:], pos[6,:]))\n",
    "        # obs_up = pos[3:,:]\n",
    "        # obs_bt = np.copy(obs_up);  obs_bt[:,2] = 0 \n",
    "        # obstacle = np.concatenate((obs_up, obs_bt), axis=0)\n",
    "\n",
    "        # add to list\n",
    "        # pos_list.append([pos, quat, an1_p, an2_p, tag_p, obs_up, obs_bt, obstacle])\n",
    "        pos_list.append([pos, quat, an1_p, an2_p, tag_p, obs])\n"
   ]
  },
  {
   "cell_type": "code",
   "execution_count": null,
   "metadata": {},
   "outputs": [],
   "source": [
    "# splitting and relabeling the data\n",
    "splitted_df_list = []\n",
    "for df, pos in zip(df_list, pos_list):\n",
    "\n",
    "    # extract data\n",
    "    tdoa12 = deleteNAN(np.array(df['tdoa12']))\n",
    "    tdoa21 = deleteNAN(np.array(df['tdoa21']))\n",
    "\n",
    "\n",
    "    tag_p = pos[4]\n",
    "    an1_p = pos[2]\n",
    "    an2_p = pos[3]\n",
    "\n",
    "     # compute ground truth (gt)\n",
    "     "
   ]
  }
 ],
 "metadata": {
  "kernelspec": {
   "display_name": "dataScience",
   "language": "python",
   "name": "python3"
  },
  "language_info": {
   "codemirror_mode": {
    "name": "ipython",
    "version": 3
   },
   "file_extension": ".py",
   "mimetype": "text/x-python",
   "name": "python",
   "nbconvert_exporter": "python",
   "pygments_lexer": "ipython3",
   "version": "3.9.16"
  }
 },
 "nbformat": 4,
 "nbformat_minor": 2
}
