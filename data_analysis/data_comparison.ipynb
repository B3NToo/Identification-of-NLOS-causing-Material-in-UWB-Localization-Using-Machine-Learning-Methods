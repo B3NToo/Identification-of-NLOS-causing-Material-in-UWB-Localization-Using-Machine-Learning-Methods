{
 "cells": [
  {
   "cell_type": "code",
   "execution_count": 11,
   "metadata": {},
   "outputs": [],
   "source": [
    "import pandas as pd\n",
    "from matplotlib import pyplot as plt\n",
    "from scipy import stats\n",
    "from numpy import linalg"
   ]
  },
  {
   "cell_type": "markdown",
   "metadata": {},
   "source": [
    "# Comparative Data Analysis"
   ]
  },
  {
   "cell_type": "code",
   "execution_count": 2,
   "metadata": {},
   "outputs": [],
   "source": [
    "PATH = \"../../my_data/identification-dataset/my_custom_data/big-identification-dataset.csv\"\n",
    "df = pd.read_csv(PATH)"
   ]
  },
  {
   "cell_type": "code",
   "execution_count": 3,
   "metadata": {},
   "outputs": [],
   "source": [
    "df.dropna(inplace=True)"
   ]
  },
  {
   "cell_type": "code",
   "execution_count": 8,
   "metadata": {},
   "outputs": [
    {
     "data": {
      "text/plain": [
       "array(['cardboard', 'foam', 'metal', 'plastic', 'wooden-cabinet',\n",
       "       'wooden-shelf'], dtype=object)"
      ]
     },
     "execution_count": 8,
     "metadata": {},
     "output_type": "execute_result"
    }
   ],
   "source": [
    "df.material.unique()"
   ]
  },
  {
   "cell_type": "code",
   "execution_count": 9,
   "metadata": {},
   "outputs": [],
   "source": [
    "# split to different datasets\n",
    "cardboard_df = df[df['material'] == 'cardboard']\n",
    "foam_df = df[df['material'] == 'foam']\n",
    "metal_df = df[df['material'] == 'metal']\n",
    "plastic_df = df[df['material'] == 'plastic']\n",
    "wooden_cabinet_df = df[df['material'] == 'wooden_cabinet']\n",
    "wooden_shelf_df = df[df['material'] == 'shelf']"
   ]
  },
  {
   "cell_type": "markdown",
   "metadata": {},
   "source": [
    "## Analysis of the Cardboard Dataframe"
   ]
  },
  {
   "cell_type": "code",
   "execution_count": 12,
   "metadata": {},
   "outputs": [
    {
     "data": {
      "text/html": [
       "<div>\n",
       "<style scoped>\n",
       "    .dataframe tbody tr th:only-of-type {\n",
       "        vertical-align: middle;\n",
       "    }\n",
       "\n",
       "    .dataframe tbody tr th {\n",
       "        vertical-align: top;\n",
       "    }\n",
       "\n",
       "    .dataframe thead th {\n",
       "        text-align: right;\n",
       "    }\n",
       "</style>\n",
       "<table border=\"1\" class=\"dataframe\">\n",
       "  <thead>\n",
       "    <tr style=\"text-align: right;\">\n",
       "      <th></th>\n",
       "      <th>tdoa</th>\n",
       "      <th>snr_an</th>\n",
       "      <th>power_dif</th>\n",
       "      <th>rx_snr</th>\n",
       "      <th>rx_powerdif</th>\n",
       "      <th>tof</th>\n",
       "      <th>material</th>\n",
       "      <th>NLOS_material</th>\n",
       "    </tr>\n",
       "  </thead>\n",
       "  <tbody>\n",
       "    <tr>\n",
       "      <th>0</th>\n",
       "      <td>-0.211129</td>\n",
       "      <td>145.678574</td>\n",
       "      <td>10.307022</td>\n",
       "      <td>215.300003</td>\n",
       "      <td>11.049919</td>\n",
       "      <td>5.009119</td>\n",
       "      <td>cardboard</td>\n",
       "      <td>1</td>\n",
       "    </tr>\n",
       "    <tr>\n",
       "      <th>1</th>\n",
       "      <td>-0.197054</td>\n",
       "      <td>134.321426</td>\n",
       "      <td>10.824654</td>\n",
       "      <td>192.000000</td>\n",
       "      <td>11.397888</td>\n",
       "      <td>5.027886</td>\n",
       "      <td>cardboard</td>\n",
       "      <td>1</td>\n",
       "    </tr>\n",
       "    <tr>\n",
       "      <th>2</th>\n",
       "      <td>-0.197054</td>\n",
       "      <td>134.321426</td>\n",
       "      <td>10.824654</td>\n",
       "      <td>236.149994</td>\n",
       "      <td>9.844360</td>\n",
       "      <td>5.065420</td>\n",
       "      <td>cardboard</td>\n",
       "      <td>1</td>\n",
       "    </tr>\n",
       "    <tr>\n",
       "      <th>3</th>\n",
       "      <td>-0.248663</td>\n",
       "      <td>104.107140</td>\n",
       "      <td>11.064209</td>\n",
       "      <td>236.149994</td>\n",
       "      <td>9.844360</td>\n",
       "      <td>5.065420</td>\n",
       "      <td>cardboard</td>\n",
       "      <td>1</td>\n",
       "    </tr>\n",
       "    <tr>\n",
       "      <th>4</th>\n",
       "      <td>-0.182979</td>\n",
       "      <td>113.250000</td>\n",
       "      <td>10.954155</td>\n",
       "      <td>185.000000</td>\n",
       "      <td>10.330307</td>\n",
       "      <td>5.027886</td>\n",
       "      <td>cardboard</td>\n",
       "      <td>1</td>\n",
       "    </tr>\n",
       "  </tbody>\n",
       "</table>\n",
       "</div>"
      ],
      "text/plain": [
       "       tdoa      snr_an  power_dif      rx_snr  rx_powerdif       tof  \\\n",
       "0 -0.211129  145.678574  10.307022  215.300003    11.049919  5.009119   \n",
       "1 -0.197054  134.321426  10.824654  192.000000    11.397888  5.027886   \n",
       "2 -0.197054  134.321426  10.824654  236.149994     9.844360  5.065420   \n",
       "3 -0.248663  104.107140  11.064209  236.149994     9.844360  5.065420   \n",
       "4 -0.182979  113.250000  10.954155  185.000000    10.330307  5.027886   \n",
       "\n",
       "    material  NLOS_material  \n",
       "0  cardboard              1  \n",
       "1  cardboard              1  \n",
       "2  cardboard              1  \n",
       "3  cardboard              1  \n",
       "4  cardboard              1  "
      ]
     },
     "execution_count": 12,
     "metadata": {},
     "output_type": "execute_result"
    }
   ],
   "source": [
    "cardboard_df.head()"
   ]
  },
  {
   "cell_type": "code",
   "execution_count": null,
   "metadata": {},
   "outputs": [],
   "source": [
    "# compute gt\n",
    "gt_d_12 = linalg.norm(an2_p - tag_p) - linalg.norm(an1_p - tag_p)\n",
    "gt_an = linalg.norm(an1_p - an2_p)\n",
    "# compute the tdoa12 err\n",
    "err12 = tdoa12 - gt_d_12"
   ]
  },
  {
   "cell_type": "code",
   "execution_count": null,
   "metadata": {},
   "outputs": [],
   "source": [
    "fig = plt.figure(figsize=(16, 9))\n",
    "mu=0;  sigma=0\n",
    "ax = plt.subplot(111)\n",
    "(mu, sigma) = stats.norm.fit(err12)\n",
    "print(\"mean0: %.4f,\" % mu, \"std0: %.4f\" % sigma)\n",
    "yhist, xhist, patches = plt.hist(err12, bins=180,color='steelblue',alpha=0.75, density=True)\n",
    "plt.axvline(x=mu, alpha=1.0, linestyle ='--', color = 'red')\n",
    "plt.axvline(x=0.0, alpha=1.0, linestyle ='--', color = 'black')\n",
    "plt.legend(['mean','zero'], fontsize=20)\n",
    "plt.xlabel('tdoa error [m]', fontsize=20)\n",
    "plt.ylabel('probability density', fontsize=20)\n",
    "ax.set_xlim([-1.0, 1.0]) "
   ]
  }
 ],
 "metadata": {
  "kernelspec": {
   "display_name": "dataScience",
   "language": "python",
   "name": "python3"
  },
  "language_info": {
   "codemirror_mode": {
    "name": "ipython",
    "version": 3
   },
   "file_extension": ".py",
   "mimetype": "text/x-python",
   "name": "python",
   "nbconvert_exporter": "python",
   "pygments_lexer": "ipython3",
   "version": "3.9.16"
  },
  "orig_nbformat": 4
 },
 "nbformat": 4,
 "nbformat_minor": 2
}
