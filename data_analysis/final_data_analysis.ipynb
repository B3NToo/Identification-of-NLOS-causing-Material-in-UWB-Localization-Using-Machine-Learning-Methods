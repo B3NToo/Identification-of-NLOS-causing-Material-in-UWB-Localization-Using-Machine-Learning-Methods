{
 "cells": [
  {
   "cell_type": "code",
   "execution_count": 2,
   "metadata": {},
   "outputs": [],
   "source": [
    "import pandas as pd\n",
    "import numpy as np\n",
    "import seaborn as sns\n",
    "import matplotlib.pyplot as plt\n",
    "import os"
   ]
  },
  {
   "cell_type": "markdown",
   "metadata": {},
   "source": [
    "# Data Analysis for the Report"
   ]
  },
  {
   "cell_type": "code",
   "execution_count": 3,
   "metadata": {},
   "outputs": [],
   "source": [
    "# read data\n",
    "PATH = \"../../my_data/identification-dataset/my_custom_data/error-identification-dataset.csv\"\n",
    "df = pd.read_csv(PATH)"
   ]
  },
  {
   "cell_type": "code",
   "execution_count": 5,
   "metadata": {},
   "outputs": [
    {
     "name": "stdout",
     "output_type": "stream",
     "text": [
      "<class 'pandas.core.frame.DataFrame'>\n",
      "RangeIndex: 59871 entries, 0 to 59870\n",
      "Data columns (total 15 columns):\n",
      " #   Column            Non-Null Count  Dtype  \n",
      "---  ------            --------------  -----  \n",
      " 0   tdoa12            59871 non-null  float64\n",
      " 1   tdoa21            59871 non-null  float64\n",
      " 2   snr_an1           59871 non-null  float64\n",
      " 3   power_dif_an1     59871 non-null  float64\n",
      " 4   snr_an2           59871 non-null  float64\n",
      " 5   power_dif_an2     59871 non-null  float64\n",
      " 6   an1_rx_snr        59871 non-null  float64\n",
      " 7   an1_rx_powerdif   59871 non-null  float64\n",
      " 8   an1_tof           59871 non-null  float64\n",
      " 9   an2_rx_snr        59871 non-null  float64\n",
      " 10  an2_rx_powerdif   59871 non-null  float64\n",
      " 11  an2_tof           59871 non-null  float64\n",
      " 12  material          59871 non-null  object \n",
      " 13  encoded_material  59871 non-null  int64  \n",
      " 14  error             59871 non-null  float64\n",
      "dtypes: float64(13), int64(1), object(1)\n",
      "memory usage: 6.9+ MB\n"
     ]
    }
   ],
   "source": [
    "df.info()"
   ]
  },
  {
   "cell_type": "code",
   "execution_count": null,
   "metadata": {},
   "outputs": [],
   "source": []
  }
 ],
 "metadata": {
  "kernelspec": {
   "display_name": "dataScience",
   "language": "python",
   "name": "python3"
  },
  "language_info": {
   "codemirror_mode": {
    "name": "ipython",
    "version": 3
   },
   "file_extension": ".py",
   "mimetype": "text/x-python",
   "name": "python",
   "nbconvert_exporter": "python",
   "pygments_lexer": "ipython3",
   "version": "3.9.16"
  }
 },
 "nbformat": 4,
 "nbformat_minor": 2
}
