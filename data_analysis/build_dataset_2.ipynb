{
 "cells": [
  {
   "cell_type": "code",
   "execution_count": 40,
   "metadata": {},
   "outputs": [],
   "source": [
    "import pandas as pd\n",
    "import numpy as np\n",
    "from numpy import linalg\n",
    "import os, sys\n",
    "\n",
    "from utility.praser import deleteNAN\n",
    "from matplotlib import pyplot as plt\n",
    "from scipy import stats"
   ]
  },
  {
   "cell_type": "markdown",
   "metadata": {},
   "source": [
    "# Build Error Dataset"
   ]
  },
  {
   "cell_type": "code",
   "execution_count": 41,
   "metadata": {},
   "outputs": [],
   "source": [
    "# meta-data\n",
    "data_types = ['cardboard', 'foam', 'metal', 'plastic', 'wooden-cabinet', 'wooden-shelf']\n",
    "meas_numbers = 6\n",
    "type_encoding = {\n",
    "    'nothing':0,\n",
    "    'cardboard':1, \n",
    "    'foam':2, \n",
    "    'metal':3, \n",
    "    'plastic':4, \n",
    "    'wooden-cabinet':5, \n",
    "    'wooden-shelf':6\n",
    "}"
   ]
  },
  {
   "cell_type": "code",
   "execution_count": 42,
   "metadata": {},
   "outputs": [],
   "source": [
    "# collecting all relevant files\n",
    "df_list = []\n",
    "pos_list = []\n",
    "for data_type in data_types:\n",
    "    for num in range(1,meas_numbers):\n",
    "        # collect csv\n",
    "        path = f\"../../my_data/identification-dataset/nlos/anTag/{data_type}/data{num}/{data_type}-anTag-data{num}_data.csv\"\n",
    "        df = pd.read_csv(path)\n",
    "        df['material'] = data_type\n",
    "        # add material encoding\n",
    "        df['encoded_material'] = type_encoding[df['material'].unique()[0]]\n",
    "        # save df\n",
    "        df_list.append(df)\n",
    "\n",
    "        # collect pos\n",
    "        folder = f\"../../my_data/identification-dataset/nlos/anTag/{data_type}/data{num}/\"\n",
    "        # search for txt files in the folder\n",
    "        for file in os.listdir(folder):\n",
    "            if file.endswith(\".txt\"):\n",
    "                pose_txt = os.path.join(folder, file)\n",
    "        \n",
    "        f = open(pose_txt,\"r\")\n",
    "        pos=[];    quat=[]       # position and quaternion\n",
    "        for line in f:\n",
    "            x = line.split(\",\")\n",
    "            if len(x) == 4:\n",
    "                arr_x = [float(x[1]), float(x[2]), float(x[3])]\n",
    "                pos.append(arr_x)\n",
    "            if len(x) == 5:\n",
    "                q_x = [float(x[1]), float(x[2]), float(x[3]), float(x[4])]\n",
    "                quat.append(q_x)\n",
    "\n",
    "        # calculate values\n",
    "        pos = np.array(pos)     # [an1_p, an2_p, tag_p]\n",
    "        quat = np.array(quat)   # [an1_quat, an2_quat, tag_quat]\n",
    "        an1_p = pos[0,:]; \n",
    "        an2_p = pos[1,:]; \n",
    "        tag_p = pos[2,:]\n",
    "        obs_up = pos[3:,:]\n",
    "        obs_bt = np.copy(obs_up);  obs_bt[:,2] = 0 \n",
    "        obstacle = np.concatenate((obs_up, obs_bt), axis=0)\n",
    "\n",
    "        # add to list\n",
    "        pos_list.append([pos, quat, an1_p, an2_p, tag_p, obs_up, obs_bt, obstacle])\n"
   ]
  },
  {
   "cell_type": "code",
   "execution_count": 43,
   "metadata": {},
   "outputs": [],
   "source": [
    "# splitting and relabeling the data\n",
    "splitted_df_list = []\n",
    "for df, pos in zip(df_list, pos_list):\n",
    "    # extract data\n",
    "    tdoa12 = deleteNAN(np.array(df['tdoa12']))\n",
    "\n",
    "    # compute ground truth (gt)\n",
    "    tag_p = pos[4]\n",
    "    an1_p = pos[2]\n",
    "    an2_p = pos[3]\n",
    "\n",
    "    gt_d_12 = linalg.norm(an2_p - tag_p) - linalg.norm(an1_p - tag_p)\n",
    "    gt_an = linalg.norm(an1_p - an2_p)\n",
    "\n",
    "    # compute the tdoa12 err\n",
    "    err12 = tdoa12 - gt_d_12\n",
    "\n",
    "    df['error'] = err12\n",
    "    splitted_df_list.append(df)\n"
   ]
  },
  {
   "cell_type": "code",
   "execution_count": 44,
   "metadata": {},
   "outputs": [
    {
     "name": "stdout",
     "output_type": "stream",
     "text": [
      "<class 'pandas.core.frame.DataFrame'>\n",
      "Int64Index: 59871 entries, 0 to 1989\n",
      "Data columns (total 15 columns):\n",
      " #   Column            Non-Null Count  Dtype  \n",
      "---  ------            --------------  -----  \n",
      " 0   tdoa12            59871 non-null  float64\n",
      " 1   tdoa21            59871 non-null  float64\n",
      " 2   snr_an1           59871 non-null  float64\n",
      " 3   power_dif_an1     59871 non-null  float64\n",
      " 4   snr_an2           59871 non-null  float64\n",
      " 5   power_dif_an2     59871 non-null  float64\n",
      " 6   an1_rx_snr        59871 non-null  float64\n",
      " 7   an1_rx_powerdif   59871 non-null  float64\n",
      " 8   an1_tof           59871 non-null  float64\n",
      " 9   an2_rx_snr        59871 non-null  float64\n",
      " 10  an2_rx_powerdif   59871 non-null  float64\n",
      " 11  an2_tof           59871 non-null  float64\n",
      " 12  material          59871 non-null  object \n",
      " 13  encoded_material  59871 non-null  int64  \n",
      " 14  error             59871 non-null  float64\n",
      "dtypes: float64(13), int64(1), object(1)\n",
      "memory usage: 7.3+ MB\n"
     ]
    }
   ],
   "source": [
    "# builing the final df\n",
    "df = pd.concat(splitted_df_list)\n",
    "df.drop(columns=['material'])\n",
    "df.dropna(inplace=True)\n",
    "df.info()"
   ]
  },
  {
   "cell_type": "code",
   "execution_count": 45,
   "metadata": {},
   "outputs": [],
   "source": [
    "# storing the df\n",
    "df.to_csv('error-identification-dataset.csv', index=False,  encoding='utf-8')"
   ]
  }
 ],
 "metadata": {
  "kernelspec": {
   "display_name": "dataScience",
   "language": "python",
   "name": "python3"
  },
  "language_info": {
   "codemirror_mode": {
    "name": "ipython",
    "version": 3
   },
   "file_extension": ".py",
   "mimetype": "text/x-python",
   "name": "python",
   "nbconvert_exporter": "python",
   "pygments_lexer": "ipython3",
   "version": "3.9.16"
  },
  "orig_nbformat": 4
 },
 "nbformat": 4,
 "nbformat_minor": 2
}
