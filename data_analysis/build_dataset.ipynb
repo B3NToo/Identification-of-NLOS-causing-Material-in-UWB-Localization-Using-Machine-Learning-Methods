{
 "cells": [
  {
   "cell_type": "code",
   "execution_count": 109,
   "metadata": {},
   "outputs": [],
   "source": [
    "import pandas as pd"
   ]
  },
  {
   "attachments": {},
   "cell_type": "markdown",
   "metadata": {},
   "source": [
    "# Build a Big Dataset"
   ]
  },
  {
   "attachments": {},
   "cell_type": "markdown",
   "metadata": {},
   "source": [
    "Problem: <br>\n",
    "The Toronto Identification Dataset is splitted into multiple csv files. This notebook tries to build a big convenient dataset for classification purposes."
   ]
  },
  {
   "cell_type": "code",
   "execution_count": 110,
   "metadata": {},
   "outputs": [],
   "source": [
    "# meta-data\n",
    "data_types = ['cardboard', 'foam', 'metal', 'plastic', 'wooden-cabinet', 'wooden-shelf']\n",
    "meas_numbers = 6\n",
    "type_encoding = {\n",
    "    'nothing':0,\n",
    "    'cardboard':1, \n",
    "    'foam':2, \n",
    "    'metal':3, \n",
    "    'plastic':4, \n",
    "    'wooden-cabinet':5, \n",
    "    'wooden-shelf':6\n",
    "}"
   ]
  },
  {
   "cell_type": "code",
   "execution_count": 111,
   "metadata": {},
   "outputs": [],
   "source": [
    "# collecting all relevant files\n",
    "df_list = []\n",
    "for data_type in data_types:\n",
    "    for num in range(1,meas_numbers):\n",
    "        path = f\"../../my_data/identification-dataset/nlos/anTag/{data_type}/data{num}/{data_type}-anTag-data{num}_data.csv\"\n",
    "        df = pd.read_csv(path)\n",
    "        df['material'] = data_type\n",
    "        df_list.append(df)"
   ]
  },
  {
   "cell_type": "code",
   "execution_count": 112,
   "metadata": {},
   "outputs": [],
   "source": [
    "# splitting and relabeling the data\n",
    "splitted_df_list = []\n",
    "for df in df_list:\n",
    "    df_an1 = df[['tdoa12', 'snr_an1', 'power_dif_an1', 'an1_rx_snr', 'an1_rx_powerdif', 'an1_tof', 'material']].copy()\n",
    "    df_an2 = df[['tdoa21', 'snr_an2', 'power_dif_an2', 'an2_rx_snr', 'an2_rx_powerdif', 'an2_tof', 'material']].copy()\n",
    "\n",
    "    df_an1.rename({'tdoa12':'tdoa', \n",
    "                'snr_an1':'snr_an', \n",
    "                'power_dif_an1':'power_dif', \n",
    "                'an1_rx_snr':'rx_snr', \n",
    "                'an1_rx_powerdif':'rx_powerdif', \n",
    "                'an1_tof':'tof'}, axis=1, inplace=True)\n",
    "    df_an1['NLOS_material'] = type_encoding[df_an1['material'].unique()[0]]\n",
    "\n",
    "    splitted_df_list.append(df_an1)\n",
    "    \n",
    "    df_an2.rename({'tdoa21':'tdoa',\n",
    "                'snr_an2':'snr_an', \n",
    "                'power_dif_an2':'power_dif', \n",
    "                'an2_rx_snr':'rx_snr', \n",
    "                'an2_rx_powerdif':'rx_powerdif', \n",
    "                'an2_tof':'tof'}, axis=1, inplace=True)\n",
    "    df_an2['NLOS_material'] = type_encoding['nothing']\n",
    "\n",
    "    splitted_df_list.append(df_an2)"
   ]
  },
  {
   "cell_type": "code",
   "execution_count": 113,
   "metadata": {},
   "outputs": [
    {
     "name": "stdout",
     "output_type": "stream",
     "text": [
      "<class 'pandas.core.frame.DataFrame'>\n",
      "Int64Index: 160260 entries, 0 to 2662\n",
      "Data columns (total 8 columns):\n",
      " #   Column         Non-Null Count   Dtype  \n",
      "---  ------         --------------   -----  \n",
      " 0   tdoa           160260 non-null  float64\n",
      " 1   snr_an         160260 non-null  float64\n",
      " 2   power_dif      160213 non-null  float64\n",
      " 3   rx_snr         119746 non-null  float64\n",
      " 4   rx_powerdif    119744 non-null  float64\n",
      " 5   tof            119746 non-null  float64\n",
      " 6   material       160260 non-null  object \n",
      " 7   NLOS_material  160260 non-null  int64  \n",
      "dtypes: float64(6), int64(1), object(1)\n",
      "memory usage: 11.0+ MB\n"
     ]
    }
   ],
   "source": [
    "# builing the final df\n",
    "df = pd.concat(splitted_df_list)\n",
    "df.drop(columns=['material'])\n",
    "df.dropna(inplace=True)\n",
    "df.info()"
   ]
  },
  {
   "cell_type": "code",
   "execution_count": 114,
   "metadata": {},
   "outputs": [],
   "source": [
    "# storing the df \n",
    "df.to_csv('big-identification-dataset.csv', index=False,  encoding='utf-8')"
   ]
  }
 ],
 "metadata": {
  "kernelspec": {
   "display_name": "dataScience",
   "language": "python",
   "name": "python3"
  },
  "language_info": {
   "codemirror_mode": {
    "name": "ipython",
    "version": 3
   },
   "file_extension": ".py",
   "mimetype": "text/x-python",
   "name": "python",
   "nbconvert_exporter": "python",
   "pygments_lexer": "ipython3",
   "version": "3.9.16"
  },
  "orig_nbformat": 4
 },
 "nbformat": 4,
 "nbformat_minor": 2
}
